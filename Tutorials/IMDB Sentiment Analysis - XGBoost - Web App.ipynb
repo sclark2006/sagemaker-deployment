{
 "cells": [
  {
   "cell_type": "markdown",
   "metadata": {},
   "source": [
    "# Sentiment Analysis Web App\n",
    "\n",
    "_Deep Learning Nanodegree Program | Deployment_\n",
    "\n",
    "---\n",
    "\n",
    "In this notebook we will use Amazon's SageMaker service to construct a random tree model to predict the sentiment of a movie review. In addition, we will deploy this model to an endpoint and construct a very simple web app which will interact with our model's deployed endpoint.\n",
    "\n",
    "## General Outline\n",
    "\n",
    "Typically, when using a notebook instance with SageMaker, you will proceed through the following steps. Of course, not every step will need to be done with each project. Also, there is quite a lot of room for variation in many of the steps, as you will see throughout these lessons.\n",
    "\n",
    "1. Download or otherwise retrieve the data.\n",
    "2. Process / Prepare the data.\n",
    "3. Upload the processed data to S3.\n",
    "4. Train a chosen model.\n",
    "5. Test the trained model (typically using a batch transform job).\n",
    "6. Deploy the trained model.\n",
    "7. Use the deployed model.\n",
    "\n",
    "In this notebook we will progress through each of the steps above. We will also see that the final step, using the deployed model, can be quite challenging."
   ]
  },
  {
   "cell_type": "code",
   "execution_count": 1,
   "metadata": {},
   "outputs": [
    {
     "name": "stdout",
     "output_type": "stream",
     "text": [
      "Collecting sagemaker==1.72.0\n",
      "  Downloading sagemaker-1.72.0.tar.gz (297 kB)\n",
      "\u001b[K     |████████████████████████████████| 297 kB 21.0 MB/s eta 0:00:01\n",
      "\u001b[?25hRequirement already satisfied: boto3>=1.14.12 in /home/ec2-user/anaconda3/envs/python3/lib/python3.6/site-packages (from sagemaker==1.72.0) (1.16.63)\n",
      "Requirement already satisfied: numpy>=1.9.0 in /home/ec2-user/anaconda3/envs/python3/lib/python3.6/site-packages (from sagemaker==1.72.0) (1.19.5)\n",
      "Requirement already satisfied: protobuf>=3.1 in /home/ec2-user/anaconda3/envs/python3/lib/python3.6/site-packages (from sagemaker==1.72.0) (3.14.0)\n",
      "Requirement already satisfied: scipy>=0.19.0 in /home/ec2-user/anaconda3/envs/python3/lib/python3.6/site-packages (from sagemaker==1.72.0) (1.4.1)\n",
      "Requirement already satisfied: protobuf3-to-dict>=0.1.5 in /home/ec2-user/anaconda3/envs/python3/lib/python3.6/site-packages (from sagemaker==1.72.0) (0.1.5)\n",
      "Requirement already satisfied: importlib-metadata>=1.4.0 in /home/ec2-user/anaconda3/envs/python3/lib/python3.6/site-packages (from sagemaker==1.72.0) (3.4.0)\n",
      "Requirement already satisfied: packaging>=20.0 in /home/ec2-user/anaconda3/envs/python3/lib/python3.6/site-packages (from sagemaker==1.72.0) (20.8)\n",
      "Collecting smdebug-rulesconfig==0.1.4\n",
      "  Downloading smdebug_rulesconfig-0.1.4-py2.py3-none-any.whl (10 kB)\n",
      "Requirement already satisfied: botocore<1.20.0,>=1.19.63 in /home/ec2-user/anaconda3/envs/python3/lib/python3.6/site-packages (from boto3>=1.14.12->sagemaker==1.72.0) (1.19.63)\n",
      "Requirement already satisfied: jmespath<1.0.0,>=0.7.1 in /home/ec2-user/anaconda3/envs/python3/lib/python3.6/site-packages (from boto3>=1.14.12->sagemaker==1.72.0) (0.10.0)\n",
      "Requirement already satisfied: s3transfer<0.4.0,>=0.3.0 in /home/ec2-user/anaconda3/envs/python3/lib/python3.6/site-packages (from boto3>=1.14.12->sagemaker==1.72.0) (0.3.4)\n",
      "Requirement already satisfied: python-dateutil<3.0.0,>=2.1 in /home/ec2-user/anaconda3/envs/python3/lib/python3.6/site-packages (from botocore<1.20.0,>=1.19.63->boto3>=1.14.12->sagemaker==1.72.0) (2.8.1)\n",
      "Requirement already satisfied: urllib3<1.27,>=1.25.4 in /home/ec2-user/anaconda3/envs/python3/lib/python3.6/site-packages (from botocore<1.20.0,>=1.19.63->boto3>=1.14.12->sagemaker==1.72.0) (1.26.2)\n",
      "Requirement already satisfied: zipp>=0.5 in /home/ec2-user/anaconda3/envs/python3/lib/python3.6/site-packages (from importlib-metadata>=1.4.0->sagemaker==1.72.0) (3.4.0)\n",
      "Requirement already satisfied: typing-extensions>=3.6.4 in /home/ec2-user/anaconda3/envs/python3/lib/python3.6/site-packages (from importlib-metadata>=1.4.0->sagemaker==1.72.0) (3.7.4.3)\n",
      "Requirement already satisfied: pyparsing>=2.0.2 in /home/ec2-user/anaconda3/envs/python3/lib/python3.6/site-packages (from packaging>=20.0->sagemaker==1.72.0) (2.4.7)\n",
      "Requirement already satisfied: six>=1.9 in /home/ec2-user/anaconda3/envs/python3/lib/python3.6/site-packages (from protobuf>=3.1->sagemaker==1.72.0) (1.15.0)\n",
      "Building wheels for collected packages: sagemaker\n",
      "  Building wheel for sagemaker (setup.py) ... \u001b[?25ldone\n",
      "\u001b[?25h  Created wheel for sagemaker: filename=sagemaker-1.72.0-py2.py3-none-any.whl size=386358 sha256=7fcf65a86f93b48c9797f6837d620d5b41476e5666d23493fcd52c9dbd80dd84\n",
      "  Stored in directory: /home/ec2-user/.cache/pip/wheels/c3/58/70/85faf4437568bfaa4c419937569ba1fe54d44c5db42406bbd7\n",
      "Successfully built sagemaker\n",
      "Installing collected packages: smdebug-rulesconfig, sagemaker\n",
      "  Attempting uninstall: smdebug-rulesconfig\n",
      "    Found existing installation: smdebug-rulesconfig 1.0.1\n",
      "    Uninstalling smdebug-rulesconfig-1.0.1:\n",
      "      Successfully uninstalled smdebug-rulesconfig-1.0.1\n",
      "  Attempting uninstall: sagemaker\n",
      "    Found existing installation: sagemaker 2.24.1\n",
      "    Uninstalling sagemaker-2.24.1:\n",
      "      Successfully uninstalled sagemaker-2.24.1\n",
      "Successfully installed sagemaker-1.72.0 smdebug-rulesconfig-0.1.4\n",
      "\u001b[33mWARNING: You are using pip version 20.3.3; however, version 21.0.1 is available.\n",
      "You should consider upgrading via the '/home/ec2-user/anaconda3/envs/python3/bin/python -m pip install --upgrade pip' command.\u001b[0m\n"
     ]
    }
   ],
   "source": [
    "# Make sure that we use SageMaker 1.x\n",
    "!pip install sagemaker==1.72.0"
   ]
  },
  {
   "cell_type": "markdown",
   "metadata": {},
   "source": [
    "## Step 1: Downloading the data\n",
    "\n",
    "The dataset we are going to use is very popular among researchers in Natural Language Processing, usually referred to as the [IMDb dataset](http://ai.stanford.edu/~amaas/data/sentiment/). It consists of movie reviews from the website [imdb.com](http://www.imdb.com/), each labeled as either '**pos**itive', if the reviewer enjoyed the film, or '**neg**ative' otherwise.\n",
    "\n",
    "> Maas, Andrew L., et al. [Learning Word Vectors for Sentiment Analysis](http://ai.stanford.edu/~amaas/data/sentiment/). In _Proceedings of the 49th Annual Meeting of the Association for Computational Linguistics: Human Language Technologies_. Association for Computational Linguistics, 2011.\n",
    "\n",
    "We begin by using some Jupyter Notebook magic to download and extract the dataset."
   ]
  },
  {
   "cell_type": "code",
   "execution_count": 2,
   "metadata": {},
   "outputs": [
    {
     "name": "stdout",
     "output_type": "stream",
     "text": [
      "mkdir: cannot create directory ‘../data’: File exists\n",
      "--2021-02-27 16:52:09--  http://ai.stanford.edu/~amaas/data/sentiment/aclImdb_v1.tar.gz\n",
      "Resolving ai.stanford.edu (ai.stanford.edu)... 171.64.68.10\n",
      "Connecting to ai.stanford.edu (ai.stanford.edu)|171.64.68.10|:80... connected.\n",
      "HTTP request sent, awaiting response... 200 OK\n",
      "Length: 84125825 (80M) [application/x-gzip]\n",
      "Saving to: ‘../data/aclImdb_v1.tar.gz’\n",
      "\n",
      "../data/aclImdb_v1. 100%[===================>]  80.23M  25.5MB/s    in 3.1s    \n",
      "\n",
      "2021-02-27 16:52:12 (25.5 MB/s) - ‘../data/aclImdb_v1.tar.gz’ saved [84125825/84125825]\n",
      "\n"
     ]
    }
   ],
   "source": [
    "%mkdir ../data\n",
    "!wget -O ../data/aclImdb_v1.tar.gz http://ai.stanford.edu/~amaas/data/sentiment/aclImdb_v1.tar.gz\n",
    "!tar -zxf ../data/aclImdb_v1.tar.gz -C ../data"
   ]
  },
  {
   "cell_type": "markdown",
   "metadata": {},
   "source": [
    "## Step 2: Preparing and Processing the data\n",
    "\n",
    "The data we have downloaded is split into various files, each of which contains a single review. It will be much easier going forward if we combine these individual files into two large files, one for training and one for testing."
   ]
  },
  {
   "cell_type": "code",
   "execution_count": 3,
   "metadata": {},
   "outputs": [],
   "source": [
    "import os\n",
    "import glob\n",
    "\n",
    "def read_imdb_data(data_dir='../data/aclImdb'):\n",
    "    data = {}\n",
    "    labels = {}\n",
    "    \n",
    "    for data_type in ['train', 'test']:\n",
    "        data[data_type] = {}\n",
    "        labels[data_type] = {}\n",
    "        \n",
    "        for sentiment in ['pos', 'neg']:\n",
    "            data[data_type][sentiment] = []\n",
    "            labels[data_type][sentiment] = []\n",
    "            \n",
    "            path = os.path.join(data_dir, data_type, sentiment, '*.txt')\n",
    "            files = glob.glob(path)\n",
    "            \n",
    "            for f in files:\n",
    "                with open(f) as review:\n",
    "                    data[data_type][sentiment].append(review.read())\n",
    "                    # Here we represent a positive review by '1' and a negative review by '0'\n",
    "                    labels[data_type][sentiment].append(1 if sentiment == 'pos' else 0)\n",
    "                    \n",
    "            assert len(data[data_type][sentiment]) == len(labels[data_type][sentiment]), \\\n",
    "                    \"{}/{} data size does not match labels size\".format(data_type, sentiment)\n",
    "                \n",
    "    return data, labels"
   ]
  },
  {
   "cell_type": "code",
   "execution_count": 4,
   "metadata": {},
   "outputs": [
    {
     "name": "stdout",
     "output_type": "stream",
     "text": [
      "IMDB reviews: train = 12500 pos / 12500 neg, test = 12500 pos / 12500 neg\n"
     ]
    }
   ],
   "source": [
    "data, labels = read_imdb_data()\n",
    "print(\"IMDB reviews: train = {} pos / {} neg, test = {} pos / {} neg\".format(\n",
    "            len(data['train']['pos']), len(data['train']['neg']),\n",
    "            len(data['test']['pos']), len(data['test']['neg'])))"
   ]
  },
  {
   "cell_type": "code",
   "execution_count": 5,
   "metadata": {},
   "outputs": [],
   "source": [
    "from sklearn.utils import shuffle\n",
    "\n",
    "def prepare_imdb_data(data, labels):\n",
    "    \"\"\"Prepare training and test sets from IMDb movie reviews.\"\"\"\n",
    "    \n",
    "    #Combine positive and negative reviews and labels\n",
    "    data_train = data['train']['pos'] + data['train']['neg']\n",
    "    data_test = data['test']['pos'] + data['test']['neg']\n",
    "    labels_train = labels['train']['pos'] + labels['train']['neg']\n",
    "    labels_test = labels['test']['pos'] + labels['test']['neg']\n",
    "    \n",
    "    #Shuffle reviews and corresponding labels within training and test sets\n",
    "    data_train, labels_train = shuffle(data_train, labels_train)\n",
    "    data_test, labels_test = shuffle(data_test, labels_test)\n",
    "    \n",
    "    # Return a unified training data, test data, training labels, test labets\n",
    "    return data_train, data_test, labels_train, labels_test"
   ]
  },
  {
   "cell_type": "code",
   "execution_count": 6,
   "metadata": {},
   "outputs": [
    {
     "name": "stdout",
     "output_type": "stream",
     "text": [
      "IMDb reviews (combined): train = 25000, test = 25000\n"
     ]
    }
   ],
   "source": [
    "train_X, test_X, train_y, test_y = prepare_imdb_data(data, labels)\n",
    "print(\"IMDb reviews (combined): train = {}, test = {}\".format(len(train_X), len(test_X)))"
   ]
  },
  {
   "cell_type": "code",
   "execution_count": 7,
   "metadata": {},
   "outputs": [
    {
     "data": {
      "text/plain": [
       "'Batman and Superman. Iconic. The better part of a century old. Who doesn\\'t know of these two? There must be countless of fans who would die to make a film about them. Sandy Collora went ahead and put together a trailer for such a film(which does not exist, and is not being created, much less by this team). Perhaps what this has most going for it is how polished it is. Throughout, the cinematography is solid. The editing is spot-on. The production values, even with the costumes looking more like their comic counterparts than the ones of the feature films featuring these character, are quite high. It looks quite \"Hollywood\", this trailer. The physical types fit for, as far as I can tell, every single character. The lines are reasonably written. The shots are well-thought up, nicely achieved and fairly effective. However, this does have problems, and in spite of looking good, it doesn\\'t quite match the energy and skill of Grayson(which only had the problem of teeter-tottering too much back and forth between a short and a trailer, as well as unbridled passion leading to the inclusion of too many characters and ideas). The acting is perhaps the most evident. It\\'s... not good. Even some of those who only have one line and/or hardly appear on-screen at all manage to fail at delivering a good performance. The actors cast in the parts seem to have been chosen more for how much they look like the characters they\\'re playing than their talent. Then there is the writing. Really, the plot, well, what minuscule amount there is(this and this character team up, something about some evil plot...) is fine. There is a problem in the characterization. While most characters seem to fit, Two-Face is, well, about as much as a cackling lunatic(which is quite simply, as far as I\\'ve understood, not what the character is) as he was in Batman Forever(and having your work on portraying any element of the Batman universe compared to Joel Schumacher\\'s efforts can be considered the greatest insult to a fan). Also, putting that character in this is going to cause comparisons between this trailer and that film(honestly, Collora is practically *begging* for it with such a similar initial reveal) to be made, and, let\\'s face it, this loses in every respect. Michael Antonik most definitely does not possess the screen presence that Tommy Lee Jones does, and the make-up(which, in aforementioned reveal, is essential) isn\\'t as strong as that of the film(whether or not it was good in the film is another matter). The sad thing is that while Fiorella(John, who created Grayson) seems to be far more into the comics, and get them, the depth of them, better(not to mention possessing more of an ability to come up with compelling plot... Grayson had enough material for half a dozen feature films, or more), Collora seems to be the one with access to funds and the one who\\'s more likely to have contacts(on account of having non-indie credits on his filmography) to actually have a shot at making an actual feature out of his trailer. I intend to watch other of Collora\\'s work. But Fiorella is the one of the two whose work I will most definitely be most interested in. I recommend this to fans of the characters. 7/10'"
      ]
     },
     "execution_count": 7,
     "metadata": {},
     "output_type": "execute_result"
    }
   ],
   "source": [
    "train_X[100]"
   ]
  },
  {
   "cell_type": "markdown",
   "metadata": {},
   "source": [
    "## Processing the data\n",
    "\n",
    "Now that we have our training and testing datasets merged and ready to use, we need to start processing the raw data into something that will be useable by our machine learning algorithm. To begin with, we remove any html formatting and any non-alpha numeric characters that may appear in the reviews. We will do this in a very simplistic way using Python's regular expression module. We will discuss the reason for this rather simplistic pre-processing later on."
   ]
  },
  {
   "cell_type": "code",
   "execution_count": 11,
   "metadata": {},
   "outputs": [],
   "source": [
    "import re\n",
    "\n",
    "REPLACE_NO_SPACE = re.compile(\"(\\.)|(\\;)|(\\:)|(\\!)|(\\')|(\\?)|(\\,)|(\\*)|(\\\")|(\\()|(\\))|(\\[)|(\\])\")\n",
    "REPLACE_WITH_SPACE = re.compile(\"(<br\\s*/><br\\s*/>)|(\\-)|(\\/)\")\n",
    "\n",
    "def review_to_words(review):\n",
    "    words = REPLACE_NO_SPACE.sub(\"\", review.lower())\n",
    "    words = REPLACE_WITH_SPACE.sub(\" \", words)\n",
    "    return words"
   ]
  },
  {
   "cell_type": "code",
   "execution_count": 12,
   "metadata": {},
   "outputs": [
    {
     "data": {
      "text/plain": [
       "'batman and superman iconic the better part of a century old who doesnt know of these two there must be countless of fans who would die to make a film about them sandy collora went ahead and put together a trailer for such a filmwhich does not exist and is not being created much less by this team perhaps what this has most going for it is how polished it is throughout the cinematography is solid the editing is spot on the production values even with the costumes looking more like their comic counterparts than the ones of the feature films featuring these character are quite high it looks quite hollywood this trailer the physical types fit for as far as i can tell every single character the lines are reasonably written the shots are well thought up nicely achieved and fairly effective however this does have problems and in spite of looking good it doesnt quite match the energy and skill of graysonwhich only had the problem of teeter tottering too much back and forth between a short and a trailer as well as unbridled passion leading to the inclusion of too many characters and ideas the acting is perhaps the most evident its not good even some of those who only have one line and or hardly appear on screen at all manage to fail at delivering a good performance the actors cast in the parts seem to have been chosen more for how much they look like the characters theyre playing than their talent then there is the writing really the plot well what minuscule amount there isthis and this character team up something about some evil plot is fine there is a problem in the characterization while most characters seem to fit two face is well about as much as a cackling lunaticwhich is quite simply as far as ive understood not what the character is as he was in batman foreverand having your work on portraying any element of the batman universe compared to joel schumachers efforts can be considered the greatest insult to a fan also putting that character in this is going to cause comparisons between this trailer and that filmhonestly collora is practically begging for it with such a similar initial reveal to be made and lets face it this loses in every respect michael antonik most definitely does not possess the screen presence that tommy lee jones does and the make upwhich in aforementioned reveal is essential isnt as strong as that of the filmwhether or not it was good in the film is another matter the sad thing is that while fiorellajohn who created grayson seems to be far more into the comics and get them the depth of them betternot to mention possessing more of an ability to come up with compelling plot grayson had enough material for half a dozen feature films or more collora seems to be the one with access to funds and the one whos more likely to have contactson account of having non indie credits on his filmography to actually have a shot at making an actual feature out of his trailer i intend to watch other of colloras work but fiorella is the one of the two whose work i will most definitely be most interested in i recommend this to fans of the characters 7 10'"
      ]
     },
     "execution_count": 12,
     "metadata": {},
     "output_type": "execute_result"
    }
   ],
   "source": [
    "review_to_words(train_X[100])"
   ]
  },
  {
   "cell_type": "code",
   "execution_count": 13,
   "metadata": {},
   "outputs": [],
   "source": [
    "import pickle\n",
    "\n",
    "cache_dir = os.path.join(\"../cache\", \"sentiment_web_app\")  # where to store cache files\n",
    "os.makedirs(cache_dir, exist_ok=True)  # ensure cache directory exists\n",
    "\n",
    "def preprocess_data(data_train, data_test, labels_train, labels_test,\n",
    "                    cache_dir=cache_dir, cache_file=\"preprocessed_data.pkl\"):\n",
    "    \"\"\"Convert each review to words; read from cache if available.\"\"\"\n",
    "\n",
    "    # If cache_file is not None, try to read from it first\n",
    "    cache_data = None\n",
    "    if cache_file is not None:\n",
    "        try:\n",
    "            with open(os.path.join(cache_dir, cache_file), \"rb\") as f:\n",
    "                cache_data = pickle.load(f)\n",
    "            print(\"Read preprocessed data from cache file:\", cache_file)\n",
    "        except:\n",
    "            pass  # unable to read from cache, but that's okay\n",
    "    \n",
    "    # If cache is missing, then do the heavy lifting\n",
    "    if cache_data is None:\n",
    "        # Preprocess training and test data to obtain words for each review\n",
    "        #words_train = list(map(review_to_words, data_train))\n",
    "        #words_test = list(map(review_to_words, data_test))\n",
    "        words_train = [review_to_words(review) for review in data_train]\n",
    "        words_test = [review_to_words(review) for review in data_test]\n",
    "        \n",
    "        # Write to cache file for future runs\n",
    "        if cache_file is not None:\n",
    "            cache_data = dict(words_train=words_train, words_test=words_test,\n",
    "                              labels_train=labels_train, labels_test=labels_test)\n",
    "            with open(os.path.join(cache_dir, cache_file), \"wb\") as f:\n",
    "                pickle.dump(cache_data, f)\n",
    "            print(\"Wrote preprocessed data to cache file:\", cache_file)\n",
    "    else:\n",
    "        # Unpack data loaded from cache file\n",
    "        words_train, words_test, labels_train, labels_test = (cache_data['words_train'],\n",
    "                cache_data['words_test'], cache_data['labels_train'], cache_data['labels_test'])\n",
    "    \n",
    "    return words_train, words_test, labels_train, labels_test"
   ]
  },
  {
   "cell_type": "code",
   "execution_count": 14,
   "metadata": {},
   "outputs": [
    {
     "name": "stdout",
     "output_type": "stream",
     "text": [
      "Wrote preprocessed data to cache file: preprocessed_data.pkl\n"
     ]
    }
   ],
   "source": [
    "# Preprocess data\n",
    "train_X, test_X, train_y, test_y = preprocess_data(train_X, test_X, train_y, test_y)"
   ]
  },
  {
   "cell_type": "markdown",
   "metadata": {},
   "source": [
    "### Extract Bag-of-Words features\n",
    "\n",
    "For the model we will be implementing, rather than using the reviews directly, we are going to transform each review into a Bag-of-Words feature representation. Keep in mind that 'in the wild' we will only have access to the training set so our transformer can only use the training set to construct a representation."
   ]
  },
  {
   "cell_type": "code",
   "execution_count": 15,
   "metadata": {},
   "outputs": [],
   "source": [
    "import numpy as np\n",
    "from sklearn.feature_extraction.text import CountVectorizer\n",
    "\n",
    "# sklearn.externals.joblib is deprecated in 0.21 and will be removed in 0.23. \n",
    "# from sklearn.externals import joblib\n",
    "\n",
    "# Import joblib package directly\n",
    "import joblib\n",
    "# joblib is an enhanced version of pickle that is more efficient for storing NumPy arrays\n",
    "\n",
    "def extract_BoW_features(words_train, words_test, vocabulary_size=5000,\n",
    "                         cache_dir=cache_dir, cache_file=\"bow_features.pkl\"):\n",
    "    \"\"\"Extract Bag-of-Words for a given set of documents, already preprocessed into words.\"\"\"\n",
    "    \n",
    "    # If cache_file is not None, try to read from it first\n",
    "    cache_data = None\n",
    "    if cache_file is not None:\n",
    "        try:\n",
    "            with open(os.path.join(cache_dir, cache_file), \"rb\") as f:\n",
    "                cache_data = joblib.load(f)\n",
    "            print(\"Read features from cache file:\", cache_file)\n",
    "        except:\n",
    "            pass  # unable to read from cache, but that's okay\n",
    "    \n",
    "    # If cache is missing, then do the heavy lifting\n",
    "    if cache_data is None:\n",
    "        # Fit a vectorizer to training documents and use it to transform them\n",
    "        # NOTE: Training documents have already been preprocessed and tokenized into words;\n",
    "        #       pass in dummy functions to skip those steps, e.g. preprocessor=lambda x: x\n",
    "        vectorizer = CountVectorizer(max_features=vocabulary_size)\n",
    "        features_train = vectorizer.fit_transform(words_train).toarray()\n",
    "\n",
    "        # Apply the same vectorizer to transform the test documents (ignore unknown words)\n",
    "        features_test = vectorizer.transform(words_test).toarray()\n",
    "        \n",
    "        # NOTE: Remember to convert the features using .toarray() for a compact representation\n",
    "        \n",
    "        # Write to cache file for future runs (store vocabulary as well)\n",
    "        if cache_file is not None:\n",
    "            vocabulary = vectorizer.vocabulary_\n",
    "            cache_data = dict(features_train=features_train, features_test=features_test,\n",
    "                             vocabulary=vocabulary)\n",
    "            with open(os.path.join(cache_dir, cache_file), \"wb\") as f:\n",
    "                joblib.dump(cache_data, f)\n",
    "            print(\"Wrote features to cache file:\", cache_file)\n",
    "    else:\n",
    "        # Unpack data loaded from cache file\n",
    "        features_train, features_test, vocabulary = (cache_data['features_train'],\n",
    "                cache_data['features_test'], cache_data['vocabulary'])\n",
    "    \n",
    "    # Return both the extracted features as well as the vocabulary\n",
    "    return features_train, features_test, vocabulary"
   ]
  },
  {
   "cell_type": "code",
   "execution_count": 16,
   "metadata": {},
   "outputs": [
    {
     "name": "stdout",
     "output_type": "stream",
     "text": [
      "Wrote features to cache file: bow_features.pkl\n"
     ]
    }
   ],
   "source": [
    "# Extract Bag of Words features for both training and test datasets\n",
    "train_X, test_X, vocabulary = extract_BoW_features(train_X, test_X)"
   ]
  },
  {
   "cell_type": "code",
   "execution_count": 17,
   "metadata": {},
   "outputs": [
    {
     "data": {
      "text/plain": [
       "5000"
      ]
     },
     "execution_count": 17,
     "metadata": {},
     "output_type": "execute_result"
    }
   ],
   "source": [
    "len(train_X[100])"
   ]
  },
  {
   "cell_type": "markdown",
   "metadata": {},
   "source": [
    "## Step 3: Upload data to S3\n",
    "\n",
    "Now that we have created the feature representation of our training (and testing) data, it is time to start setting up and using the XGBoost classifier provided by SageMaker.\n",
    "\n",
    "### Writing the datasets\n",
    "\n",
    "The XGBoost classifier that we will be using requires the dataset to be written to a file and stored using Amazon S3. To do this, we will start by splitting the training dataset into two parts, the data we will train the model with and a validation set. Then, we will write those datasets to a file locally and then upload the files to S3. In addition, we will write the test set to a file and upload that file to S3. This is so that we can use SageMakers Batch Transform functionality to test our model once we've fit it."
   ]
  },
  {
   "cell_type": "code",
   "execution_count": 18,
   "metadata": {},
   "outputs": [],
   "source": [
    "import pandas as pd\n",
    "\n",
    "# Earlier we shuffled the training dataset so to make things simple we can just assign\n",
    "# the first 10 000 reviews to the validation set and use the remaining reviews for training.\n",
    "val_X = pd.DataFrame(train_X[:10000])\n",
    "train_X = pd.DataFrame(train_X[10000:])\n",
    "\n",
    "val_y = pd.DataFrame(train_y[:10000])\n",
    "train_y = pd.DataFrame(train_y[10000:])"
   ]
  },
  {
   "cell_type": "markdown",
   "metadata": {},
   "source": [
    "The documentation for the XGBoost algorithm in SageMaker requires that the training and validation datasets should contain no headers or index and that the label should occur first for each sample.\n",
    "\n",
    "For more information about this and other algorithms, the SageMaker developer documentation can be found on __[Amazon's website.](https://docs.aws.amazon.com/sagemaker/latest/dg/)__"
   ]
  },
  {
   "cell_type": "code",
   "execution_count": 19,
   "metadata": {},
   "outputs": [],
   "source": [
    "# First we make sure that the local directory in which we'd like to store the training and validation csv files exists.\n",
    "data_dir = '../data/sentiment_web_app'\n",
    "if not os.path.exists(data_dir):\n",
    "    os.makedirs(data_dir)"
   ]
  },
  {
   "cell_type": "code",
   "execution_count": 20,
   "metadata": {},
   "outputs": [],
   "source": [
    "pd.DataFrame(test_X).to_csv(os.path.join(data_dir, 'test.csv'), header=False, index=False)\n",
    "\n",
    "pd.concat([val_y, val_X], axis=1).to_csv(os.path.join(data_dir, 'validation.csv'), header=False, index=False)\n",
    "pd.concat([train_y, train_X], axis=1).to_csv(os.path.join(data_dir, 'train.csv'), header=False, index=False)"
   ]
  },
  {
   "cell_type": "code",
   "execution_count": 21,
   "metadata": {},
   "outputs": [],
   "source": [
    "# To save a bit of memory we can set text_X, train_X, val_X, train_y and val_y to None.\n",
    "\n",
    "test_X = train_X = val_X = train_y = val_y = None"
   ]
  },
  {
   "cell_type": "markdown",
   "metadata": {},
   "source": [
    "### Uploading Training / Validation files to S3\n",
    "\n",
    "Amazon's S3 service allows us to store files that can be accessed by both the built-in training models such as the XGBoost model we will be using as well as custom models such as the one we will see a little later.\n",
    "\n",
    "For this and most other tasks we will be doing using SageMaker, there are two methods we could use. The first is to use the low level functionality of SageMaker which requires knowing each of the objects involved in the SageMaker environment. The second is to use the high level functionality in which certain choices have been made on the user's behalf. The low level approach benefits from allowing the user a great deal of flexibility while the high level approach makes development much quicker. For our purposes we will opt to use the high level approach although using the low-level approach is certainly an option.\n",
    "\n",
    "Recall the method `upload_data()` which is a member of the object representing our current SageMaker session. What this method does is upload the data to the default bucket (which is created if it does not exist) into the path described by the key_prefix variable. To see this for yourself, once you have uploaded the data files, go to the S3 console and look to see where the files have been uploaded.\n",
    "\n",
    "For additional resources, see the __[SageMaker API documentation](http://sagemaker.readthedocs.io/en/latest/)__ and in addition the __[SageMaker Developer Guide.](https://docs.aws.amazon.com/sagemaker/latest/dg/)__"
   ]
  },
  {
   "cell_type": "code",
   "execution_count": 22,
   "metadata": {},
   "outputs": [],
   "source": [
    "import sagemaker\n",
    "\n",
    "session = sagemaker.Session() # Store the current SageMaker session\n",
    "\n",
    "# S3 prefix (which folder will we use)\n",
    "prefix = 'sentiment-web-app'\n",
    "\n",
    "test_location = session.upload_data(os.path.join(data_dir, 'test.csv'), key_prefix=prefix)\n",
    "val_location = session.upload_data(os.path.join(data_dir, 'validation.csv'), key_prefix=prefix)\n",
    "train_location = session.upload_data(os.path.join(data_dir, 'train.csv'), key_prefix=prefix)"
   ]
  },
  {
   "cell_type": "markdown",
   "metadata": {},
   "source": [
    "## Step 4: Creating the XGBoost model\n",
    "\n",
    "Now that the data has been uploaded it is time to create the XGBoost model. To begin with, we need to do some setup. At this point it is worth discussing what a model is in SageMaker. It is easiest to think of a model of comprising three different objects in the SageMaker ecosystem, which interact with one another.\n",
    "\n",
    "- Model Artifacts\n",
    "- Training Code (Container)\n",
    "- Inference Code (Container)\n",
    "\n",
    "The Model Artifacts are what you might think of as the actual model itself. For example, if you were building a neural network, the model artifacts would be the weights of the various layers. In our case, for an XGBoost model, the artifacts are the actual trees that are created during training.\n",
    "\n",
    "The other two objects, the training code and the inference code are then used to manipulate the training artifacts. More precisely, the training code uses the training data that is provided and creates the model artifacts, while the inference code uses the model artifacts to make predictions on new data.\n",
    "\n",
    "The way that SageMaker runs the training and inference code is by making use of Docker containers. For now, think of a container as being a way of packaging code up so that dependencies aren't an issue."
   ]
  },
  {
   "cell_type": "code",
   "execution_count": 23,
   "metadata": {},
   "outputs": [],
   "source": [
    "from sagemaker import get_execution_role\n",
    "\n",
    "# Our current execution role is required when creating the model as the training\n",
    "# and inference code will need to access the model artifacts.\n",
    "role = get_execution_role()"
   ]
  },
  {
   "cell_type": "code",
   "execution_count": 24,
   "metadata": {},
   "outputs": [
    {
     "name": "stderr",
     "output_type": "stream",
     "text": [
      "'get_image_uri' method will be deprecated in favor of 'ImageURIProvider' class in SageMaker Python SDK v2.\n",
      "There is a more up to date SageMaker XGBoost image. To use the newer image, please set 'repo_version'='1.0-1'. For example:\n",
      "\tget_image_uri(region, 'xgboost', '1.0-1').\n"
     ]
    }
   ],
   "source": [
    "# We need to retrieve the location of the container which is provided by Amazon for using XGBoost.\n",
    "# As a matter of convenience, the training and inference code both use the same container.\n",
    "from sagemaker.amazon.amazon_estimator import get_image_uri\n",
    "\n",
    "container = get_image_uri(session.boto_region_name, 'xgboost')"
   ]
  },
  {
   "cell_type": "code",
   "execution_count": 25,
   "metadata": {},
   "outputs": [
    {
     "name": "stderr",
     "output_type": "stream",
     "text": [
      "Parameter image_name will be renamed to image_uri in SageMaker Python SDK v2.\n"
     ]
    }
   ],
   "source": [
    "# First we create a SageMaker estimator object for our model.\n",
    "xgb = sagemaker.estimator.Estimator(container, # The location of the container we wish to use\n",
    "                                    role,                                    # What is our current IAM Role\n",
    "                                    train_instance_count=1,                  # How many compute instances\n",
    "                                    train_instance_type='ml.m4.xlarge',      # What kind of compute instances\n",
    "                                    output_path='s3://{}/{}/output'.format(session.default_bucket(), prefix),\n",
    "                                    sagemaker_session=session)\n",
    "\n",
    "# And then set the algorithm specific parameters.\n",
    "xgb.set_hyperparameters(max_depth=5,\n",
    "                        eta=0.2,\n",
    "                        gamma=4,\n",
    "                        min_child_weight=6,\n",
    "                        subsample=0.8,\n",
    "                        silent=0,\n",
    "                        objective='binary:logistic',\n",
    "                        early_stopping_rounds=10,\n",
    "                        num_round=500)"
   ]
  },
  {
   "cell_type": "markdown",
   "metadata": {},
   "source": [
    "### Fit the XGBoost model\n",
    "\n",
    "Now that our model has been set up we simply need to attach the training and validation datasets and then ask SageMaker to set up the computation."
   ]
  },
  {
   "cell_type": "code",
   "execution_count": 26,
   "metadata": {},
   "outputs": [
    {
     "name": "stderr",
     "output_type": "stream",
     "text": [
      "'s3_input' class will be renamed to 'TrainingInput' in SageMaker Python SDK v2.\n",
      "'s3_input' class will be renamed to 'TrainingInput' in SageMaker Python SDK v2.\n"
     ]
    }
   ],
   "source": [
    "s3_input_train = sagemaker.s3_input(s3_data=train_location, content_type='csv')\n",
    "s3_input_validation = sagemaker.s3_input(s3_data=val_location, content_type='csv')"
   ]
  },
  {
   "cell_type": "code",
   "execution_count": 27,
   "metadata": {},
   "outputs": [
    {
     "name": "stdout",
     "output_type": "stream",
     "text": [
      "2021-02-27 16:55:55 Starting - Starting the training job...\n",
      "2021-02-27 16:55:57 Starting - Launching requested ML instances......\n",
      "2021-02-27 16:57:09 Starting - Preparing the instances for training......\n",
      "2021-02-27 16:58:05 Downloading - Downloading input data...\n",
      "2021-02-27 16:58:41 Training - Downloading the training image..\u001b[34mArguments: train\u001b[0m\n",
      "\u001b[34m[2021-02-27:16:59:02:INFO] Running standalone xgboost training.\u001b[0m\n",
      "\u001b[34m[2021-02-27:16:59:02:INFO] File size need to be processed in the node: 238.5mb. Available memory size in the node: 8433.59mb\u001b[0m\n",
      "\u001b[34m[2021-02-27:16:59:02:INFO] Determined delimiter of CSV input is ','\u001b[0m\n",
      "\u001b[34m[16:59:02] S3DistributionType set as FullyReplicated\u001b[0m\n",
      "\u001b[34m[16:59:04] 15000x5000 matrix with 75000000 entries loaded from /opt/ml/input/data/train?format=csv&label_column=0&delimiter=,\u001b[0m\n",
      "\u001b[34m[2021-02-27:16:59:04:INFO] Determined delimiter of CSV input is ','\u001b[0m\n",
      "\u001b[34m[16:59:04] S3DistributionType set as FullyReplicated\u001b[0m\n",
      "\u001b[34m[16:59:06] 10000x5000 matrix with 50000000 entries loaded from /opt/ml/input/data/validation?format=csv&label_column=0&delimiter=,\u001b[0m\n",
      "\u001b[34m[16:59:09] src/tree/updater_prune.cc:74: tree pruning end, 1 roots, 38 extra nodes, 6 pruned nodes, max_depth=5\u001b[0m\n",
      "\u001b[34m[0]#011train-error:0.305133#011validation-error:0.3104\u001b[0m\n",
      "\u001b[34mMultiple eval metrics have been passed: 'validation-error' will be used for early stopping.\n",
      "\u001b[0m\n",
      "\u001b[34mWill train until validation-error hasn't improved in 10 rounds.\u001b[0m\n",
      "\u001b[34m[16:59:11] src/tree/updater_prune.cc:74: tree pruning end, 1 roots, 42 extra nodes, 6 pruned nodes, max_depth=5\u001b[0m\n",
      "\u001b[34m[1]#011train-error:0.303#011validation-error:0.3088\u001b[0m\n",
      "\u001b[34m[16:59:12] src/tree/updater_prune.cc:74: tree pruning end, 1 roots, 40 extra nodes, 6 pruned nodes, max_depth=5\u001b[0m\n",
      "\u001b[34m[2]#011train-error:0.2886#011validation-error:0.2962\u001b[0m\n",
      "\u001b[34m[16:59:13] src/tree/updater_prune.cc:74: tree pruning end, 1 roots, 26 extra nodes, 10 pruned nodes, max_depth=5\u001b[0m\n",
      "\u001b[34m[3]#011train-error:0.272333#011validation-error:0.2766\u001b[0m\n",
      "\n",
      "2021-02-27 16:59:01 Training - Training image download completed. Training in progress.\u001b[34m[16:59:15] src/tree/updater_prune.cc:74: tree pruning end, 1 roots, 32 extra nodes, 8 pruned nodes, max_depth=5\u001b[0m\n",
      "\u001b[34m[4]#011train-error:0.270133#011validation-error:0.2758\u001b[0m\n",
      "\u001b[34m[16:59:16] src/tree/updater_prune.cc:74: tree pruning end, 1 roots, 38 extra nodes, 2 pruned nodes, max_depth=5\u001b[0m\n",
      "\u001b[34m[5]#011train-error:0.256667#011validation-error:0.2643\u001b[0m\n",
      "\u001b[34m[16:59:18] src/tree/updater_prune.cc:74: tree pruning end, 1 roots, 44 extra nodes, 0 pruned nodes, max_depth=5\u001b[0m\n",
      "\u001b[34m[6]#011train-error:0.2522#011validation-error:0.2614\u001b[0m\n",
      "\u001b[34m[16:59:19] src/tree/updater_prune.cc:74: tree pruning end, 1 roots, 28 extra nodes, 6 pruned nodes, max_depth=5\u001b[0m\n",
      "\u001b[34m[7]#011train-error:0.2502#011validation-error:0.2573\u001b[0m\n",
      "\u001b[34m[16:59:20] src/tree/updater_prune.cc:74: tree pruning end, 1 roots, 36 extra nodes, 4 pruned nodes, max_depth=5\u001b[0m\n",
      "\u001b[34m[8]#011train-error:0.241#011validation-error:0.2473\u001b[0m\n",
      "\u001b[34m[16:59:22] src/tree/updater_prune.cc:74: tree pruning end, 1 roots, 32 extra nodes, 2 pruned nodes, max_depth=5\u001b[0m\n",
      "\u001b[34m[9]#011train-error:0.233067#011validation-error:0.2404\u001b[0m\n",
      "\u001b[34m[16:59:23] src/tree/updater_prune.cc:74: tree pruning end, 1 roots, 22 extra nodes, 8 pruned nodes, max_depth=5\u001b[0m\n",
      "\u001b[34m[10]#011train-error:0.225667#011validation-error:0.2359\u001b[0m\n",
      "\u001b[34m[16:59:24] src/tree/updater_prune.cc:74: tree pruning end, 1 roots, 38 extra nodes, 8 pruned nodes, max_depth=5\u001b[0m\n",
      "\u001b[34m[11]#011train-error:0.218133#011validation-error:0.232\u001b[0m\n",
      "\u001b[34m[16:59:25] src/tree/updater_prune.cc:74: tree pruning end, 1 roots, 16 extra nodes, 12 pruned nodes, max_depth=5\u001b[0m\n",
      "\u001b[34m[12]#011train-error:0.2148#011validation-error:0.2263\u001b[0m\n",
      "\u001b[34m[16:59:27] src/tree/updater_prune.cc:74: tree pruning end, 1 roots, 32 extra nodes, 6 pruned nodes, max_depth=5\u001b[0m\n",
      "\u001b[34m[13]#011train-error:0.211#011validation-error:0.2227\u001b[0m\n",
      "\u001b[34m[16:59:28] src/tree/updater_prune.cc:74: tree pruning end, 1 roots, 36 extra nodes, 6 pruned nodes, max_depth=5\u001b[0m\n",
      "\u001b[34m[14]#011train-error:0.2064#011validation-error:0.2174\u001b[0m\n",
      "\u001b[34m[16:59:29] src/tree/updater_prune.cc:74: tree pruning end, 1 roots, 28 extra nodes, 4 pruned nodes, max_depth=5\u001b[0m\n",
      "\u001b[34m[15]#011train-error:0.203267#011validation-error:0.2189\u001b[0m\n",
      "\u001b[34m[16:59:31] src/tree/updater_prune.cc:74: tree pruning end, 1 roots, 24 extra nodes, 6 pruned nodes, max_depth=5\u001b[0m\n",
      "\u001b[34m[16]#011train-error:0.2004#011validation-error:0.2161\u001b[0m\n",
      "\u001b[34m[16:59:32] src/tree/updater_prune.cc:74: tree pruning end, 1 roots, 22 extra nodes, 6 pruned nodes, max_depth=5\u001b[0m\n",
      "\u001b[34m[17]#011train-error:0.198467#011validation-error:0.2142\u001b[0m\n",
      "\u001b[34m[16:59:33] src/tree/updater_prune.cc:74: tree pruning end, 1 roots, 18 extra nodes, 12 pruned nodes, max_depth=5\u001b[0m\n",
      "\u001b[34m[18]#011train-error:0.1966#011validation-error:0.2125\u001b[0m\n",
      "\u001b[34m[16:59:34] src/tree/updater_prune.cc:74: tree pruning end, 1 roots, 32 extra nodes, 4 pruned nodes, max_depth=5\u001b[0m\n",
      "\u001b[34m[19]#011train-error:0.192467#011validation-error:0.2111\u001b[0m\n",
      "\u001b[34m[16:59:36] src/tree/updater_prune.cc:74: tree pruning end, 1 roots, 24 extra nodes, 8 pruned nodes, max_depth=5\u001b[0m\n",
      "\u001b[34m[20]#011train-error:0.1888#011validation-error:0.2077\u001b[0m\n",
      "\u001b[34m[16:59:37] src/tree/updater_prune.cc:74: tree pruning end, 1 roots, 34 extra nodes, 6 pruned nodes, max_depth=5\u001b[0m\n",
      "\u001b[34m[21]#011train-error:0.1864#011validation-error:0.2057\u001b[0m\n",
      "\u001b[34m[16:59:38] src/tree/updater_prune.cc:74: tree pruning end, 1 roots, 42 extra nodes, 2 pruned nodes, max_depth=5\u001b[0m\n",
      "\u001b[34m[22]#011train-error:0.182667#011validation-error:0.2035\u001b[0m\n",
      "\u001b[34m[16:59:40] src/tree/updater_prune.cc:74: tree pruning end, 1 roots, 26 extra nodes, 8 pruned nodes, max_depth=5\u001b[0m\n",
      "\u001b[34m[23]#011train-error:0.180733#011validation-error:0.2033\u001b[0m\n",
      "\u001b[34m[16:59:41] src/tree/updater_prune.cc:74: tree pruning end, 1 roots, 20 extra nodes, 18 pruned nodes, max_depth=5\u001b[0m\n",
      "\u001b[34m[24]#011train-error:0.178533#011validation-error:0.1997\u001b[0m\n",
      "\u001b[34m[16:59:42] src/tree/updater_prune.cc:74: tree pruning end, 1 roots, 32 extra nodes, 0 pruned nodes, max_depth=5\u001b[0m\n",
      "\u001b[34m[25]#011train-error:0.1782#011validation-error:0.1982\u001b[0m\n",
      "\u001b[34m[16:59:44] src/tree/updater_prune.cc:74: tree pruning end, 1 roots, 32 extra nodes, 6 pruned nodes, max_depth=5\u001b[0m\n",
      "\u001b[34m[26]#011train-error:0.176533#011validation-error:0.1966\u001b[0m\n",
      "\u001b[34m[16:59:45] src/tree/updater_prune.cc:74: tree pruning end, 1 roots, 22 extra nodes, 4 pruned nodes, max_depth=5\u001b[0m\n",
      "\u001b[34m[27]#011train-error:0.174867#011validation-error:0.1972\u001b[0m\n",
      "\u001b[34m[16:59:46] src/tree/updater_prune.cc:74: tree pruning end, 1 roots, 28 extra nodes, 10 pruned nodes, max_depth=5\u001b[0m\n",
      "\u001b[34m[28]#011train-error:0.172133#011validation-error:0.1944\u001b[0m\n",
      "\u001b[34m[16:59:47] src/tree/updater_prune.cc:74: tree pruning end, 1 roots, 30 extra nodes, 2 pruned nodes, max_depth=5\u001b[0m\n",
      "\u001b[34m[29]#011train-error:0.168867#011validation-error:0.1914\u001b[0m\n",
      "\u001b[34m[16:59:49] src/tree/updater_prune.cc:74: tree pruning end, 1 roots, 16 extra nodes, 10 pruned nodes, max_depth=5\u001b[0m\n",
      "\u001b[34m[30]#011train-error:0.167#011validation-error:0.1908\u001b[0m\n",
      "\u001b[34m[16:59:50] src/tree/updater_prune.cc:74: tree pruning end, 1 roots, 14 extra nodes, 14 pruned nodes, max_depth=5\u001b[0m\n",
      "\u001b[34m[31]#011train-error:0.166733#011validation-error:0.1899\u001b[0m\n",
      "\u001b[34m[16:59:51] src/tree/updater_prune.cc:74: tree pruning end, 1 roots, 34 extra nodes, 8 pruned nodes, max_depth=5\u001b[0m\n",
      "\u001b[34m[32]#011train-error:0.165#011validation-error:0.1888\u001b[0m\n",
      "\u001b[34m[16:59:53] src/tree/updater_prune.cc:74: tree pruning end, 1 roots, 30 extra nodes, 6 pruned nodes, max_depth=5\u001b[0m\n",
      "\u001b[34m[33]#011train-error:0.163333#011validation-error:0.1883\u001b[0m\n",
      "\u001b[34m[16:59:54] src/tree/updater_prune.cc:74: tree pruning end, 1 roots, 20 extra nodes, 12 pruned nodes, max_depth=5\u001b[0m\n",
      "\u001b[34m[34]#011train-error:0.1624#011validation-error:0.1874\u001b[0m\n",
      "\u001b[34m[16:59:55] src/tree/updater_prune.cc:74: tree pruning end, 1 roots, 18 extra nodes, 6 pruned nodes, max_depth=5\u001b[0m\n",
      "\u001b[34m[35]#011train-error:0.1616#011validation-error:0.1859\u001b[0m\n",
      "\u001b[34m[16:59:56] src/tree/updater_prune.cc:74: tree pruning end, 1 roots, 28 extra nodes, 10 pruned nodes, max_depth=5\u001b[0m\n",
      "\u001b[34m[36]#011train-error:0.159333#011validation-error:0.1842\u001b[0m\n",
      "\u001b[34m[16:59:58] src/tree/updater_prune.cc:74: tree pruning end, 1 roots, 18 extra nodes, 12 pruned nodes, max_depth=5\u001b[0m\n",
      "\u001b[34m[37]#011train-error:0.1584#011validation-error:0.1841\u001b[0m\n",
      "\u001b[34m[16:59:59] src/tree/updater_prune.cc:74: tree pruning end, 1 roots, 24 extra nodes, 6 pruned nodes, max_depth=5\u001b[0m\n",
      "\u001b[34m[38]#011train-error:0.156867#011validation-error:0.1822\u001b[0m\n",
      "\u001b[34m[17:00:00] src/tree/updater_prune.cc:74: tree pruning end, 1 roots, 42 extra nodes, 10 pruned nodes, max_depth=5\u001b[0m\n",
      "\u001b[34m[39]#011train-error:0.1542#011validation-error:0.1807\u001b[0m\n"
     ]
    },
    {
     "name": "stdout",
     "output_type": "stream",
     "text": [
      "\u001b[34m[17:00:02] src/tree/updater_prune.cc:74: tree pruning end, 1 roots, 30 extra nodes, 8 pruned nodes, max_depth=5\u001b[0m\n",
      "\u001b[34m[40]#011train-error:0.154067#011validation-error:0.1799\u001b[0m\n",
      "\u001b[34m[17:00:03] src/tree/updater_prune.cc:74: tree pruning end, 1 roots, 32 extra nodes, 2 pruned nodes, max_depth=5\u001b[0m\n",
      "\u001b[34m[41]#011train-error:0.151667#011validation-error:0.1789\u001b[0m\n",
      "\u001b[34m[17:00:05] src/tree/updater_prune.cc:74: tree pruning end, 1 roots, 28 extra nodes, 6 pruned nodes, max_depth=5\u001b[0m\n",
      "\u001b[34m[42]#011train-error:0.149667#011validation-error:0.1773\u001b[0m\n",
      "\u001b[34m[17:00:06] src/tree/updater_prune.cc:74: tree pruning end, 1 roots, 16 extra nodes, 10 pruned nodes, max_depth=5\u001b[0m\n",
      "\u001b[34m[43]#011train-error:0.149#011validation-error:0.1774\u001b[0m\n",
      "\u001b[34m[17:00:07] src/tree/updater_prune.cc:74: tree pruning end, 1 roots, 28 extra nodes, 16 pruned nodes, max_depth=5\u001b[0m\n",
      "\u001b[34m[44]#011train-error:0.147867#011validation-error:0.1763\u001b[0m\n",
      "\u001b[34m[17:00:09] src/tree/updater_prune.cc:74: tree pruning end, 1 roots, 12 extra nodes, 10 pruned nodes, max_depth=5\u001b[0m\n",
      "\u001b[34m[45]#011train-error:0.1476#011validation-error:0.1762\u001b[0m\n",
      "\u001b[34m[17:00:10] src/tree/updater_prune.cc:74: tree pruning end, 1 roots, 26 extra nodes, 6 pruned nodes, max_depth=5\u001b[0m\n",
      "\u001b[34m[46]#011train-error:0.1458#011validation-error:0.172\u001b[0m\n",
      "\u001b[34m[17:00:11] src/tree/updater_prune.cc:74: tree pruning end, 1 roots, 18 extra nodes, 14 pruned nodes, max_depth=5\u001b[0m\n",
      "\u001b[34m[47]#011train-error:0.144267#011validation-error:0.171\u001b[0m\n",
      "\u001b[34m[17:00:13] src/tree/updater_prune.cc:74: tree pruning end, 1 roots, 28 extra nodes, 6 pruned nodes, max_depth=5\u001b[0m\n",
      "\u001b[34m[48]#011train-error:0.1438#011validation-error:0.1703\u001b[0m\n",
      "\u001b[34m[17:00:14] src/tree/updater_prune.cc:74: tree pruning end, 1 roots, 20 extra nodes, 6 pruned nodes, max_depth=5\u001b[0m\n",
      "\u001b[34m[49]#011train-error:0.1422#011validation-error:0.1707\u001b[0m\n",
      "\u001b[34m[17:00:15] src/tree/updater_prune.cc:74: tree pruning end, 1 roots, 26 extra nodes, 6 pruned nodes, max_depth=5\u001b[0m\n",
      "\u001b[34m[50]#011train-error:0.139867#011validation-error:0.1689\u001b[0m\n",
      "\u001b[34m[17:00:16] src/tree/updater_prune.cc:74: tree pruning end, 1 roots, 24 extra nodes, 8 pruned nodes, max_depth=5\u001b[0m\n",
      "\u001b[34m[51]#011train-error:0.139133#011validation-error:0.1711\u001b[0m\n",
      "\u001b[34m[17:00:18] src/tree/updater_prune.cc:74: tree pruning end, 1 roots, 26 extra nodes, 6 pruned nodes, max_depth=5\u001b[0m\n",
      "\u001b[34m[52]#011train-error:0.1384#011validation-error:0.1697\u001b[0m\n",
      "\u001b[34m[17:00:19] src/tree/updater_prune.cc:74: tree pruning end, 1 roots, 28 extra nodes, 0 pruned nodes, max_depth=5\u001b[0m\n",
      "\u001b[34m[53]#011train-error:0.136133#011validation-error:0.1692\u001b[0m\n",
      "\u001b[34m[17:00:20] src/tree/updater_prune.cc:74: tree pruning end, 1 roots, 22 extra nodes, 6 pruned nodes, max_depth=5\u001b[0m\n",
      "\u001b[34m[54]#011train-error:0.135267#011validation-error:0.1682\u001b[0m\n",
      "\u001b[34m[17:00:21] src/tree/updater_prune.cc:74: tree pruning end, 1 roots, 18 extra nodes, 6 pruned nodes, max_depth=5\u001b[0m\n",
      "\u001b[34m[55]#011train-error:0.1348#011validation-error:0.1671\u001b[0m\n",
      "\u001b[34m[17:00:23] src/tree/updater_prune.cc:74: tree pruning end, 1 roots, 20 extra nodes, 8 pruned nodes, max_depth=5\u001b[0m\n",
      "\u001b[34m[56]#011train-error:0.133133#011validation-error:0.1672\u001b[0m\n",
      "\u001b[34m[17:00:24] src/tree/updater_prune.cc:74: tree pruning end, 1 roots, 12 extra nodes, 16 pruned nodes, max_depth=5\u001b[0m\n",
      "\u001b[34m[57]#011train-error:0.1326#011validation-error:0.1668\u001b[0m\n",
      "\u001b[34m[17:00:25] src/tree/updater_prune.cc:74: tree pruning end, 1 roots, 28 extra nodes, 4 pruned nodes, max_depth=5\u001b[0m\n",
      "\u001b[34m[58]#011train-error:0.131333#011validation-error:0.168\u001b[0m\n",
      "\u001b[34m[17:00:27] src/tree/updater_prune.cc:74: tree pruning end, 1 roots, 18 extra nodes, 12 pruned nodes, max_depth=5\u001b[0m\n",
      "\u001b[34m[59]#011train-error:0.129733#011validation-error:0.1677\u001b[0m\n",
      "\u001b[34m[17:00:28] src/tree/updater_prune.cc:74: tree pruning end, 1 roots, 42 extra nodes, 12 pruned nodes, max_depth=5\u001b[0m\n",
      "\u001b[34m[60]#011train-error:0.130067#011validation-error:0.1673\u001b[0m\n",
      "\u001b[34m[17:00:29] src/tree/updater_prune.cc:74: tree pruning end, 1 roots, 16 extra nodes, 8 pruned nodes, max_depth=5\u001b[0m\n",
      "\u001b[34m[61]#011train-error:0.129533#011validation-error:0.1659\u001b[0m\n",
      "\u001b[34m[17:00:30] src/tree/updater_prune.cc:74: tree pruning end, 1 roots, 16 extra nodes, 14 pruned nodes, max_depth=5\u001b[0m\n",
      "\u001b[34m[62]#011train-error:0.1284#011validation-error:0.1654\u001b[0m\n",
      "\u001b[34m[17:00:32] src/tree/updater_prune.cc:74: tree pruning end, 1 roots, 24 extra nodes, 4 pruned nodes, max_depth=5\u001b[0m\n",
      "\u001b[34m[63]#011train-error:0.127667#011validation-error:0.166\u001b[0m\n",
      "\u001b[34m[17:00:33] src/tree/updater_prune.cc:74: tree pruning end, 1 roots, 14 extra nodes, 10 pruned nodes, max_depth=5\u001b[0m\n",
      "\u001b[34m[64]#011train-error:0.127467#011validation-error:0.1663\u001b[0m\n",
      "\u001b[34m[17:00:34] src/tree/updater_prune.cc:74: tree pruning end, 1 roots, 26 extra nodes, 8 pruned nodes, max_depth=5\u001b[0m\n",
      "\u001b[34m[65]#011train-error:0.1262#011validation-error:0.1659\u001b[0m\n",
      "\u001b[34m[17:00:35] src/tree/updater_prune.cc:74: tree pruning end, 1 roots, 10 extra nodes, 8 pruned nodes, max_depth=5\u001b[0m\n",
      "\u001b[34m[66]#011train-error:0.125933#011validation-error:0.1654\u001b[0m\n",
      "\u001b[34m[17:00:37] src/tree/updater_prune.cc:74: tree pruning end, 1 roots, 20 extra nodes, 6 pruned nodes, max_depth=5\u001b[0m\n",
      "\u001b[34m[67]#011train-error:0.1252#011validation-error:0.1648\u001b[0m\n",
      "\u001b[34m[17:00:38] src/tree/updater_prune.cc:74: tree pruning end, 1 roots, 20 extra nodes, 4 pruned nodes, max_depth=5\u001b[0m\n",
      "\u001b[34m[68]#011train-error:0.1242#011validation-error:0.1633\u001b[0m\n",
      "\u001b[34m[17:00:39] src/tree/updater_prune.cc:74: tree pruning end, 1 roots, 20 extra nodes, 12 pruned nodes, max_depth=5\u001b[0m\n",
      "\u001b[34m[69]#011train-error:0.123667#011validation-error:0.1617\u001b[0m\n",
      "\u001b[34m[17:00:41] src/tree/updater_prune.cc:74: tree pruning end, 1 roots, 18 extra nodes, 8 pruned nodes, max_depth=5\u001b[0m\n",
      "\u001b[34m[70]#011train-error:0.123467#011validation-error:0.1625\u001b[0m\n",
      "\u001b[34m[17:00:42] src/tree/updater_prune.cc:74: tree pruning end, 1 roots, 14 extra nodes, 0 pruned nodes, max_depth=5\u001b[0m\n",
      "\u001b[34m[71]#011train-error:0.122867#011validation-error:0.1617\u001b[0m\n",
      "\u001b[34m[17:00:43] src/tree/updater_prune.cc:74: tree pruning end, 1 roots, 18 extra nodes, 10 pruned nodes, max_depth=5\u001b[0m\n",
      "\u001b[34m[72]#011train-error:0.122133#011validation-error:0.1606\u001b[0m\n",
      "\u001b[34m[17:00:45] src/tree/updater_prune.cc:74: tree pruning end, 1 roots, 14 extra nodes, 10 pruned nodes, max_depth=5\u001b[0m\n",
      "\u001b[34m[73]#011train-error:0.121067#011validation-error:0.1602\u001b[0m\n",
      "\u001b[34m[17:00:46] src/tree/updater_prune.cc:74: tree pruning end, 1 roots, 16 extra nodes, 14 pruned nodes, max_depth=5\u001b[0m\n",
      "\u001b[34m[74]#011train-error:0.120467#011validation-error:0.1597\u001b[0m\n",
      "\u001b[34m[17:00:47] src/tree/updater_prune.cc:74: tree pruning end, 1 roots, 20 extra nodes, 6 pruned nodes, max_depth=5\u001b[0m\n",
      "\u001b[34m[75]#011train-error:0.119733#011validation-error:0.159\u001b[0m\n",
      "\u001b[34m[17:00:48] src/tree/updater_prune.cc:74: tree pruning end, 1 roots, 18 extra nodes, 4 pruned nodes, max_depth=5\u001b[0m\n",
      "\u001b[34m[76]#011train-error:0.119867#011validation-error:0.1576\u001b[0m\n",
      "\u001b[34m[17:00:50] src/tree/updater_prune.cc:74: tree pruning end, 1 roots, 26 extra nodes, 10 pruned nodes, max_depth=5\u001b[0m\n",
      "\u001b[34m[77]#011train-error:0.119533#011validation-error:0.1568\u001b[0m\n",
      "\u001b[34m[17:00:51] src/tree/updater_prune.cc:74: tree pruning end, 1 roots, 20 extra nodes, 4 pruned nodes, max_depth=5\u001b[0m\n",
      "\u001b[34m[78]#011train-error:0.118533#011validation-error:0.1551\u001b[0m\n",
      "\u001b[34m[17:00:52] src/tree/updater_prune.cc:74: tree pruning end, 1 roots, 26 extra nodes, 8 pruned nodes, max_depth=5\u001b[0m\n",
      "\u001b[34m[79]#011train-error:0.117267#011validation-error:0.1554\u001b[0m\n",
      "\u001b[34m[17:00:53] src/tree/updater_prune.cc:74: tree pruning end, 1 roots, 16 extra nodes, 12 pruned nodes, max_depth=5\u001b[0m\n",
      "\u001b[34m[80]#011train-error:0.116533#011validation-error:0.1551\u001b[0m\n",
      "\u001b[34m[17:00:55] src/tree/updater_prune.cc:74: tree pruning end, 1 roots, 10 extra nodes, 10 pruned nodes, max_depth=5\u001b[0m\n",
      "\u001b[34m[81]#011train-error:0.116867#011validation-error:0.1559\u001b[0m\n",
      "\u001b[34m[17:00:56] src/tree/updater_prune.cc:74: tree pruning end, 1 roots, 18 extra nodes, 16 pruned nodes, max_depth=5\u001b[0m\n",
      "\u001b[34m[82]#011train-error:0.115067#011validation-error:0.1556\u001b[0m\n",
      "\u001b[34m[17:00:57] src/tree/updater_prune.cc:74: tree pruning end, 1 roots, 10 extra nodes, 6 pruned nodes, max_depth=5\u001b[0m\n",
      "\u001b[34m[83]#011train-error:0.1144#011validation-error:0.1548\u001b[0m\n",
      "\u001b[34m[17:00:59] src/tree/updater_prune.cc:74: tree pruning end, 1 roots, 16 extra nodes, 16 pruned nodes, max_depth=5\u001b[0m\n",
      "\u001b[34m[84]#011train-error:0.114133#011validation-error:0.1546\u001b[0m\n",
      "\u001b[34m[17:01:00] src/tree/updater_prune.cc:74: tree pruning end, 1 roots, 18 extra nodes, 2 pruned nodes, max_depth=5\u001b[0m\n",
      "\u001b[34m[85]#011train-error:0.1142#011validation-error:0.154\u001b[0m\n",
      "\u001b[34m[17:01:01] src/tree/updater_prune.cc:74: tree pruning end, 1 roots, 24 extra nodes, 8 pruned nodes, max_depth=5\u001b[0m\n",
      "\u001b[34m[86]#011train-error:0.113333#011validation-error:0.1541\u001b[0m\n",
      "\u001b[34m[17:01:03] src/tree/updater_prune.cc:74: tree pruning end, 1 roots, 16 extra nodes, 8 pruned nodes, max_depth=5\u001b[0m\n",
      "\u001b[34m[87]#011train-error:0.113133#011validation-error:0.1533\u001b[0m\n"
     ]
    },
    {
     "name": "stdout",
     "output_type": "stream",
     "text": [
      "\u001b[34m[17:01:04] src/tree/updater_prune.cc:74: tree pruning end, 1 roots, 26 extra nodes, 6 pruned nodes, max_depth=5\u001b[0m\n",
      "\u001b[34m[88]#011train-error:0.112933#011validation-error:0.1526\u001b[0m\n",
      "\u001b[34m[17:01:06] src/tree/updater_prune.cc:74: tree pruning end, 1 roots, 30 extra nodes, 8 pruned nodes, max_depth=5\u001b[0m\n",
      "\u001b[34m[89]#011train-error:0.1118#011validation-error:0.152\u001b[0m\n",
      "\u001b[34m[17:01:07] src/tree/updater_prune.cc:74: tree pruning end, 1 roots, 24 extra nodes, 12 pruned nodes, max_depth=5\u001b[0m\n",
      "\u001b[34m[90]#011train-error:0.111267#011validation-error:0.1524\u001b[0m\n",
      "\u001b[34m[17:01:09] src/tree/updater_prune.cc:74: tree pruning end, 1 roots, 18 extra nodes, 12 pruned nodes, max_depth=5\u001b[0m\n",
      "\u001b[34m[91]#011train-error:0.110933#011validation-error:0.1515\u001b[0m\n",
      "\u001b[34m[17:01:10] src/tree/updater_prune.cc:74: tree pruning end, 1 roots, 18 extra nodes, 10 pruned nodes, max_depth=5\u001b[0m\n",
      "\u001b[34m[92]#011train-error:0.1098#011validation-error:0.1511\u001b[0m\n",
      "\u001b[34m[17:01:11] src/tree/updater_prune.cc:74: tree pruning end, 1 roots, 22 extra nodes, 10 pruned nodes, max_depth=5\u001b[0m\n",
      "\u001b[34m[93]#011train-error:0.108667#011validation-error:0.151\u001b[0m\n",
      "\u001b[34m[17:01:13] src/tree/updater_prune.cc:74: tree pruning end, 1 roots, 12 extra nodes, 2 pruned nodes, max_depth=5\u001b[0m\n",
      "\u001b[34m[94]#011train-error:0.1088#011validation-error:0.1507\u001b[0m\n",
      "\u001b[34m[17:01:14] src/tree/updater_prune.cc:74: tree pruning end, 1 roots, 16 extra nodes, 4 pruned nodes, max_depth=5\u001b[0m\n",
      "\u001b[34m[95]#011train-error:0.108133#011validation-error:0.1506\u001b[0m\n",
      "\u001b[34m[17:01:15] src/tree/updater_prune.cc:74: tree pruning end, 1 roots, 28 extra nodes, 8 pruned nodes, max_depth=5\u001b[0m\n",
      "\u001b[34m[96]#011train-error:0.1068#011validation-error:0.1493\u001b[0m\n",
      "\u001b[34m[17:01:16] src/tree/updater_prune.cc:74: tree pruning end, 1 roots, 12 extra nodes, 8 pruned nodes, max_depth=5\u001b[0m\n",
      "\u001b[34m[97]#011train-error:0.107067#011validation-error:0.1507\u001b[0m\n",
      "\u001b[34m[17:01:18] src/tree/updater_prune.cc:74: tree pruning end, 1 roots, 16 extra nodes, 8 pruned nodes, max_depth=5\u001b[0m\n",
      "\u001b[34m[98]#011train-error:0.1066#011validation-error:0.1498\u001b[0m\n",
      "\u001b[34m[17:01:19] src/tree/updater_prune.cc:74: tree pruning end, 1 roots, 16 extra nodes, 10 pruned nodes, max_depth=5\u001b[0m\n",
      "\u001b[34m[99]#011train-error:0.1058#011validation-error:0.1488\u001b[0m\n",
      "\u001b[34m[17:01:20] src/tree/updater_prune.cc:74: tree pruning end, 1 roots, 34 extra nodes, 8 pruned nodes, max_depth=5\u001b[0m\n",
      "\u001b[34m[100]#011train-error:0.104533#011validation-error:0.1489\u001b[0m\n",
      "\u001b[34m[17:01:22] src/tree/updater_prune.cc:74: tree pruning end, 1 roots, 28 extra nodes, 14 pruned nodes, max_depth=5\u001b[0m\n",
      "\u001b[34m[101]#011train-error:0.103867#011validation-error:0.1501\u001b[0m\n",
      "\u001b[34m[17:01:23] src/tree/updater_prune.cc:74: tree pruning end, 1 roots, 22 extra nodes, 18 pruned nodes, max_depth=5\u001b[0m\n",
      "\u001b[34m[102]#011train-error:0.103267#011validation-error:0.1487\u001b[0m\n",
      "\u001b[34m[17:01:24] src/tree/updater_prune.cc:74: tree pruning end, 1 roots, 10 extra nodes, 6 pruned nodes, max_depth=5\u001b[0m\n",
      "\u001b[34m[103]#011train-error:0.103#011validation-error:0.1482\u001b[0m\n",
      "\u001b[34m[17:01:25] src/tree/updater_prune.cc:74: tree pruning end, 1 roots, 18 extra nodes, 10 pruned nodes, max_depth=5\u001b[0m\n",
      "\u001b[34m[104]#011train-error:0.102733#011validation-error:0.1489\u001b[0m\n",
      "\u001b[34m[17:01:27] src/tree/updater_prune.cc:74: tree pruning end, 1 roots, 10 extra nodes, 12 pruned nodes, max_depth=5\u001b[0m\n",
      "\u001b[34m[105]#011train-error:0.102667#011validation-error:0.1486\u001b[0m\n",
      "\u001b[34m[17:01:28] src/tree/updater_prune.cc:74: tree pruning end, 1 roots, 10 extra nodes, 10 pruned nodes, max_depth=5\u001b[0m\n",
      "\u001b[34m[106]#011train-error:0.102267#011validation-error:0.1488\u001b[0m\n",
      "\u001b[34m[17:01:29] src/tree/updater_prune.cc:74: tree pruning end, 1 roots, 28 extra nodes, 6 pruned nodes, max_depth=5\u001b[0m\n",
      "\u001b[34m[107]#011train-error:0.101933#011validation-error:0.1488\u001b[0m\n",
      "\u001b[34m[17:01:30] src/tree/updater_prune.cc:74: tree pruning end, 1 roots, 12 extra nodes, 10 pruned nodes, max_depth=5\u001b[0m\n",
      "\u001b[34m[108]#011train-error:0.100867#011validation-error:0.1489\u001b[0m\n",
      "\u001b[34m[17:01:32] src/tree/updater_prune.cc:74: tree pruning end, 1 roots, 18 extra nodes, 2 pruned nodes, max_depth=5\u001b[0m\n",
      "\u001b[34m[109]#011train-error:0.100533#011validation-error:0.1486\u001b[0m\n",
      "\u001b[34m[17:01:33] src/tree/updater_prune.cc:74: tree pruning end, 1 roots, 18 extra nodes, 2 pruned nodes, max_depth=5\u001b[0m\n",
      "\u001b[34m[110]#011train-error:0.100067#011validation-error:0.149\u001b[0m\n",
      "\u001b[34m[17:01:34] src/tree/updater_prune.cc:74: tree pruning end, 1 roots, 12 extra nodes, 8 pruned nodes, max_depth=5\u001b[0m\n",
      "\u001b[34m[111]#011train-error:0.100067#011validation-error:0.1489\u001b[0m\n",
      "\u001b[34m[17:01:36] src/tree/updater_prune.cc:74: tree pruning end, 1 roots, 26 extra nodes, 4 pruned nodes, max_depth=5\u001b[0m\n",
      "\u001b[34m[112]#011train-error:0.099333#011validation-error:0.1477\u001b[0m\n",
      "\u001b[34m[17:01:37] src/tree/updater_prune.cc:74: tree pruning end, 1 roots, 14 extra nodes, 6 pruned nodes, max_depth=5\u001b[0m\n",
      "\u001b[34m[113]#011train-error:0.0992#011validation-error:0.1476\u001b[0m\n",
      "\u001b[34m[17:01:38] src/tree/updater_prune.cc:74: tree pruning end, 1 roots, 20 extra nodes, 10 pruned nodes, max_depth=5\u001b[0m\n",
      "\u001b[34m[114]#011train-error:0.098533#011validation-error:0.1468\u001b[0m\n",
      "\u001b[34m[17:01:40] src/tree/updater_prune.cc:74: tree pruning end, 1 roots, 14 extra nodes, 4 pruned nodes, max_depth=5\u001b[0m\n",
      "\u001b[34m[115]#011train-error:0.0986#011validation-error:0.1466\u001b[0m\n",
      "\u001b[34m[17:01:41] src/tree/updater_prune.cc:74: tree pruning end, 1 roots, 12 extra nodes, 2 pruned nodes, max_depth=5\u001b[0m\n",
      "\u001b[34m[116]#011train-error:0.098667#011validation-error:0.146\u001b[0m\n",
      "\u001b[34m[17:01:42] src/tree/updater_prune.cc:74: tree pruning end, 1 roots, 14 extra nodes, 4 pruned nodes, max_depth=5\u001b[0m\n",
      "\u001b[34m[117]#011train-error:0.0986#011validation-error:0.1453\u001b[0m\n",
      "\u001b[34m[17:01:43] src/tree/updater_prune.cc:74: tree pruning end, 1 roots, 12 extra nodes, 6 pruned nodes, max_depth=5\u001b[0m\n",
      "\u001b[34m[118]#011train-error:0.097933#011validation-error:0.1454\u001b[0m\n",
      "\u001b[34m[17:01:45] src/tree/updater_prune.cc:74: tree pruning end, 1 roots, 12 extra nodes, 6 pruned nodes, max_depth=5\u001b[0m\n",
      "\u001b[34m[119]#011train-error:0.097867#011validation-error:0.1454\u001b[0m\n",
      "\u001b[34m[17:01:46] src/tree/updater_prune.cc:74: tree pruning end, 1 roots, 12 extra nodes, 6 pruned nodes, max_depth=5\u001b[0m\n",
      "\u001b[34m[120]#011train-error:0.0976#011validation-error:0.1448\u001b[0m\n",
      "\u001b[34m[17:01:47] src/tree/updater_prune.cc:74: tree pruning end, 1 roots, 12 extra nodes, 2 pruned nodes, max_depth=5\u001b[0m\n",
      "\u001b[34m[121]#011train-error:0.0968#011validation-error:0.1441\u001b[0m\n",
      "\u001b[34m[17:01:49] src/tree/updater_prune.cc:74: tree pruning end, 1 roots, 14 extra nodes, 4 pruned nodes, max_depth=5\u001b[0m\n",
      "\u001b[34m[122]#011train-error:0.096533#011validation-error:0.1434\u001b[0m\n",
      "\u001b[34m[17:01:50] src/tree/updater_prune.cc:74: tree pruning end, 1 roots, 24 extra nodes, 2 pruned nodes, max_depth=5\u001b[0m\n",
      "\u001b[34m[123]#011train-error:0.094933#011validation-error:0.144\u001b[0m\n",
      "\u001b[34m[17:01:51] src/tree/updater_prune.cc:74: tree pruning end, 1 roots, 14 extra nodes, 4 pruned nodes, max_depth=5\u001b[0m\n",
      "\u001b[34m[124]#011train-error:0.094533#011validation-error:0.1438\u001b[0m\n",
      "\u001b[34m[17:01:52] src/tree/updater_prune.cc:74: tree pruning end, 1 roots, 14 extra nodes, 10 pruned nodes, max_depth=5\u001b[0m\n",
      "\u001b[34m[125]#011train-error:0.094333#011validation-error:0.1446\u001b[0m\n",
      "\u001b[34m[17:01:54] src/tree/updater_prune.cc:74: tree pruning end, 1 roots, 10 extra nodes, 10 pruned nodes, max_depth=5\u001b[0m\n",
      "\u001b[34m[126]#011train-error:0.094467#011validation-error:0.1451\u001b[0m\n",
      "\u001b[34m[17:01:55] src/tree/updater_prune.cc:74: tree pruning end, 1 roots, 12 extra nodes, 10 pruned nodes, max_depth=5\u001b[0m\n",
      "\u001b[34m[127]#011train-error:0.0944#011validation-error:0.1452\u001b[0m\n",
      "\u001b[34m[17:01:56] src/tree/updater_prune.cc:74: tree pruning end, 1 roots, 16 extra nodes, 8 pruned nodes, max_depth=5\u001b[0m\n",
      "\u001b[34m[128]#011train-error:0.093733#011validation-error:0.1448\u001b[0m\n",
      "\u001b[34m[17:01:57] src/tree/updater_prune.cc:74: tree pruning end, 1 roots, 10 extra nodes, 6 pruned nodes, max_depth=5\u001b[0m\n",
      "\u001b[34m[129]#011train-error:0.093533#011validation-error:0.1449\u001b[0m\n",
      "\u001b[34m[17:01:59] src/tree/updater_prune.cc:74: tree pruning end, 1 roots, 20 extra nodes, 8 pruned nodes, max_depth=5\u001b[0m\n",
      "\u001b[34m[130]#011train-error:0.093533#011validation-error:0.1445\u001b[0m\n",
      "\u001b[34m[17:02:00] src/tree/updater_prune.cc:74: tree pruning end, 1 roots, 12 extra nodes, 8 pruned nodes, max_depth=5\u001b[0m\n",
      "\u001b[34m[131]#011train-error:0.092533#011validation-error:0.1438\u001b[0m\n",
      "\u001b[34m[17:02:01] src/tree/updater_prune.cc:74: tree pruning end, 1 roots, 10 extra nodes, 8 pruned nodes, max_depth=5\u001b[0m\n",
      "\u001b[34m[132]#011train-error:0.092133#011validation-error:0.1437\u001b[0m\n",
      "\u001b[34mStopping. Best iteration:\u001b[0m\n",
      "\u001b[34m[122]#011train-error:0.096533#011validation-error:0.1434\n",
      "\u001b[0m\n"
     ]
    },
    {
     "name": "stdout",
     "output_type": "stream",
     "text": [
      "\n",
      "2021-02-27 17:02:13 Uploading - Uploading generated training model\n",
      "2021-02-27 17:02:13 Completed - Training job completed\n",
      "Training seconds: 248\n",
      "Billable seconds: 248\n"
     ]
    }
   ],
   "source": [
    "xgb.fit({'train': s3_input_train, 'validation': s3_input_validation})"
   ]
  },
  {
   "cell_type": "markdown",
   "metadata": {},
   "source": [
    "## Step 5: Testing the model\n",
    "\n",
    "Now that we've fit our XGBoost model, it's time to see how well it performs. To do this we will use SageMakers Batch Transform functionality. Batch Transform is a convenient way to perform inference on a large dataset in a way that is not realtime. That is, we don't necessarily need to use our model's results immediately and instead we can perform inference on a large number of samples. An example of this in industry might be performing an end of month report. This method of inference can also be useful to us as it means that we can perform inference on our entire test set. \n",
    "\n",
    "To perform a Batch Transformation we need to first create a transformer objects from our trained estimator object."
   ]
  },
  {
   "cell_type": "code",
   "execution_count": 28,
   "metadata": {},
   "outputs": [
    {
     "name": "stderr",
     "output_type": "stream",
     "text": [
      "Parameter image will be renamed to image_uri in SageMaker Python SDK v2.\n"
     ]
    }
   ],
   "source": [
    "xgb_transformer = xgb.transformer(instance_count = 1, instance_type = 'ml.m4.xlarge')"
   ]
  },
  {
   "cell_type": "markdown",
   "metadata": {},
   "source": [
    "Next we actually perform the transform job. When doing so we need to make sure to specify the type of data we are sending so that it is serialized correctly in the background. In our case we are providing our model with csv data so we specify `text/csv`. Also, if the test data that we have provided is too large to process all at once then we need to specify how the data file should be split up. Since each line is a single entry in our data set we tell SageMaker that it can split the input on each line."
   ]
  },
  {
   "cell_type": "code",
   "execution_count": 29,
   "metadata": {},
   "outputs": [],
   "source": [
    "xgb_transformer.transform(test_location, content_type='text/csv', split_type='Line')"
   ]
  },
  {
   "cell_type": "markdown",
   "metadata": {},
   "source": [
    "Currently the transform job is running but it is doing so in the background. Since we wish to wait until the transform job is done and we would like a bit of feedback we can run the `wait()` method."
   ]
  },
  {
   "cell_type": "code",
   "execution_count": 30,
   "metadata": {},
   "outputs": [
    {
     "name": "stdout",
     "output_type": "stream",
     "text": [
      "..............................\u001b[32m2021-02-27T17:07:31.534:[sagemaker logs]: MaxConcurrentTransforms=4, MaxPayloadInMB=6, BatchStrategy=MULTI_RECORD\u001b[0m\n",
      "\u001b[34mArguments: serve\u001b[0m\n",
      "\u001b[34m[2021-02-27 17:07:31 +0000] [1] [INFO] Starting gunicorn 19.7.1\u001b[0m\n",
      "\u001b[34m[2021-02-27 17:07:31 +0000] [1] [INFO] Listening at: http://0.0.0.0:8080 (1)\u001b[0m\n",
      "\u001b[34m[2021-02-27 17:07:31 +0000] [1] [INFO] Using worker: gevent\u001b[0m\n",
      "\u001b[34m[2021-02-27 17:07:31 +0000] [37] [INFO] Booting worker with pid: 37\u001b[0m\n",
      "\u001b[34m[2021-02-27 17:07:31 +0000] [38] [INFO] Booting worker with pid: 38\u001b[0m\n",
      "\u001b[34m[2021-02-27 17:07:31 +0000] [39] [INFO] Booting worker with pid: 39\u001b[0m\n",
      "\u001b[34m[2021-02-27 17:07:31 +0000] [40] [INFO] Booting worker with pid: 40\u001b[0m\n",
      "\u001b[34m[2021-02-27:17:07:31:INFO] Model loaded successfully for worker : 37\u001b[0m\n",
      "\u001b[34m[2021-02-27:17:07:31:INFO] Model loaded successfully for worker : 38\u001b[0m\n",
      "\u001b[34m[2021-02-27:17:07:31:INFO] Model loaded successfully for worker : 39\u001b[0m\n",
      "\u001b[34m[2021-02-27:17:07:31:INFO] Model loaded successfully for worker : 40\u001b[0m\n",
      "\u001b[34m[2021-02-27:17:07:31:INFO] Sniff delimiter as ','\u001b[0m\n",
      "\u001b[34m[2021-02-27:17:07:31:INFO] Determined delimiter of CSV input is ','\u001b[0m\n",
      "\u001b[34m[2021-02-27:17:07:31:INFO] Sniff delimiter as ','\u001b[0m\n",
      "\u001b[35mArguments: serve\u001b[0m\n",
      "\u001b[35m[2021-02-27 17:07:31 +0000] [1] [INFO] Starting gunicorn 19.7.1\u001b[0m\n",
      "\u001b[35m[2021-02-27 17:07:31 +0000] [1] [INFO] Listening at: http://0.0.0.0:8080 (1)\u001b[0m\n",
      "\u001b[35m[2021-02-27 17:07:31 +0000] [1] [INFO] Using worker: gevent\u001b[0m\n",
      "\u001b[35m[2021-02-27 17:07:31 +0000] [37] [INFO] Booting worker with pid: 37\u001b[0m\n",
      "\u001b[35m[2021-02-27 17:07:31 +0000] [38] [INFO] Booting worker with pid: 38\u001b[0m\n",
      "\u001b[35m[2021-02-27 17:07:31 +0000] [39] [INFO] Booting worker with pid: 39\u001b[0m\n",
      "\u001b[35m[2021-02-27 17:07:31 +0000] [40] [INFO] Booting worker with pid: 40\u001b[0m\n",
      "\u001b[35m[2021-02-27:17:07:31:INFO] Model loaded successfully for worker : 37\u001b[0m\n",
      "\u001b[35m[2021-02-27:17:07:31:INFO] Model loaded successfully for worker : 38\u001b[0m\n",
      "\u001b[35m[2021-02-27:17:07:31:INFO] Model loaded successfully for worker : 39\u001b[0m\n",
      "\u001b[35m[2021-02-27:17:07:31:INFO] Model loaded successfully for worker : 40\u001b[0m\n",
      "\u001b[35m[2021-02-27:17:07:31:INFO] Sniff delimiter as ','\u001b[0m\n",
      "\u001b[35m[2021-02-27:17:07:31:INFO] Determined delimiter of CSV input is ','\u001b[0m\n",
      "\u001b[35m[2021-02-27:17:07:31:INFO] Sniff delimiter as ','\u001b[0m\n",
      "\u001b[34m[2021-02-27:17:07:31:INFO] Determined delimiter of CSV input is ','\u001b[0m\n",
      "\u001b[34m[2021-02-27:17:07:31:INFO] Sniff delimiter as ','\u001b[0m\n",
      "\u001b[34m[2021-02-27:17:07:31:INFO] Determined delimiter of CSV input is ','\u001b[0m\n",
      "\u001b[34m[2021-02-27:17:07:33:INFO] Sniff delimiter as ','\u001b[0m\n",
      "\u001b[34m[2021-02-27:17:07:33:INFO] Determined delimiter of CSV input is ','\u001b[0m\n",
      "\u001b[34m[2021-02-27:17:07:33:INFO] Sniff delimiter as ','\u001b[0m\n",
      "\u001b[34m[2021-02-27:17:07:33:INFO] Determined delimiter of CSV input is ','\u001b[0m\n",
      "\u001b[35m[2021-02-27:17:07:31:INFO] Determined delimiter of CSV input is ','\u001b[0m\n",
      "\u001b[35m[2021-02-27:17:07:31:INFO] Sniff delimiter as ','\u001b[0m\n",
      "\u001b[35m[2021-02-27:17:07:31:INFO] Determined delimiter of CSV input is ','\u001b[0m\n",
      "\u001b[35m[2021-02-27:17:07:33:INFO] Sniff delimiter as ','\u001b[0m\n",
      "\u001b[35m[2021-02-27:17:07:33:INFO] Determined delimiter of CSV input is ','\u001b[0m\n",
      "\u001b[35m[2021-02-27:17:07:33:INFO] Sniff delimiter as ','\u001b[0m\n",
      "\u001b[35m[2021-02-27:17:07:33:INFO] Determined delimiter of CSV input is ','\u001b[0m\n",
      "\u001b[34m[2021-02-27:17:07:34:INFO] Sniff delimiter as ','\u001b[0m\n",
      "\u001b[34m[2021-02-27:17:07:34:INFO] Determined delimiter of CSV input is ','\u001b[0m\n",
      "\u001b[34m[2021-02-27:17:07:35:INFO] Sniff delimiter as ','\u001b[0m\n",
      "\u001b[35m[2021-02-27:17:07:34:INFO] Sniff delimiter as ','\u001b[0m\n",
      "\u001b[35m[2021-02-27:17:07:34:INFO] Determined delimiter of CSV input is ','\u001b[0m\n",
      "\u001b[35m[2021-02-27:17:07:35:INFO] Sniff delimiter as ','\u001b[0m\n",
      "\u001b[34m[2021-02-27:17:07:35:INFO] Determined delimiter of CSV input is ','\u001b[0m\n",
      "\u001b[34m[2021-02-27:17:07:35:INFO] Sniff delimiter as ','\u001b[0m\n",
      "\u001b[34m[2021-02-27:17:07:35:INFO] Determined delimiter of CSV input is ','\u001b[0m\n",
      "\u001b[35m[2021-02-27:17:07:35:INFO] Determined delimiter of CSV input is ','\u001b[0m\n",
      "\u001b[35m[2021-02-27:17:07:35:INFO] Sniff delimiter as ','\u001b[0m\n",
      "\u001b[35m[2021-02-27:17:07:35:INFO] Determined delimiter of CSV input is ','\u001b[0m\n",
      "\u001b[34m[2021-02-27:17:07:35:INFO] Sniff delimiter as ','\u001b[0m\n",
      "\u001b[34m[2021-02-27:17:07:35:INFO] Determined delimiter of CSV input is ','\u001b[0m\n",
      "\u001b[35m[2021-02-27:17:07:35:INFO] Sniff delimiter as ','\u001b[0m\n",
      "\u001b[35m[2021-02-27:17:07:35:INFO] Determined delimiter of CSV input is ','\u001b[0m\n",
      "\u001b[34m[2021-02-27:17:07:37:INFO] Sniff delimiter as ','\u001b[0m\n",
      "\u001b[34m[2021-02-27:17:07:37:INFO] Determined delimiter of CSV input is ','\u001b[0m\n",
      "\u001b[34m[2021-02-27:17:07:37:INFO] Sniff delimiter as ','\u001b[0m\n",
      "\u001b[34m[2021-02-27:17:07:37:INFO] Determined delimiter of CSV input is ','\u001b[0m\n",
      "\u001b[34m[2021-02-27:17:07:37:INFO] Sniff delimiter as ','\u001b[0m\n",
      "\u001b[34m[2021-02-27:17:07:37:INFO] Determined delimiter of CSV input is ','\u001b[0m\n",
      "\u001b[34m[2021-02-27:17:07:37:INFO] Sniff delimiter as ','\u001b[0m\n",
      "\u001b[34m[2021-02-27:17:07:37:INFO] Determined delimiter of CSV input is ','\u001b[0m\n",
      "\u001b[35m[2021-02-27:17:07:37:INFO] Sniff delimiter as ','\u001b[0m\n",
      "\u001b[35m[2021-02-27:17:07:37:INFO] Determined delimiter of CSV input is ','\u001b[0m\n",
      "\u001b[35m[2021-02-27:17:07:37:INFO] Sniff delimiter as ','\u001b[0m\n",
      "\u001b[35m[2021-02-27:17:07:37:INFO] Determined delimiter of CSV input is ','\u001b[0m\n",
      "\u001b[35m[2021-02-27:17:07:37:INFO] Sniff delimiter as ','\u001b[0m\n",
      "\u001b[35m[2021-02-27:17:07:37:INFO] Determined delimiter of CSV input is ','\u001b[0m\n",
      "\u001b[35m[2021-02-27:17:07:37:INFO] Sniff delimiter as ','\u001b[0m\n",
      "\u001b[35m[2021-02-27:17:07:37:INFO] Determined delimiter of CSV input is ','\u001b[0m\n",
      "\u001b[34m[2021-02-27:17:07:42:INFO] Sniff delimiter as ','\u001b[0m\n",
      "\u001b[34m[2021-02-27:17:07:42:INFO] Determined delimiter of CSV input is ','\u001b[0m\n",
      "\u001b[34m[2021-02-27:17:07:42:INFO] Sniff delimiter as ','\u001b[0m\n",
      "\u001b[34m[2021-02-27:17:07:42:INFO] Determined delimiter of CSV input is ','\u001b[0m\n",
      "\u001b[34m[2021-02-27:17:07:42:INFO] Sniff delimiter as ','\u001b[0m\n",
      "\u001b[34m[2021-02-27:17:07:42:INFO] Determined delimiter of CSV input is ','\u001b[0m\n",
      "\u001b[34m[2021-02-27:17:07:42:INFO] Sniff delimiter as ','\u001b[0m\n",
      "\u001b[34m[2021-02-27:17:07:42:INFO] Determined delimiter of CSV input is ','\u001b[0m\n",
      "\u001b[35m[2021-02-27:17:07:42:INFO] Sniff delimiter as ','\u001b[0m\n",
      "\u001b[35m[2021-02-27:17:07:42:INFO] Determined delimiter of CSV input is ','\u001b[0m\n",
      "\u001b[35m[2021-02-27:17:07:42:INFO] Sniff delimiter as ','\u001b[0m\n",
      "\u001b[35m[2021-02-27:17:07:42:INFO] Determined delimiter of CSV input is ','\u001b[0m\n",
      "\u001b[35m[2021-02-27:17:07:42:INFO] Sniff delimiter as ','\u001b[0m\n",
      "\u001b[35m[2021-02-27:17:07:42:INFO] Determined delimiter of CSV input is ','\u001b[0m\n",
      "\u001b[35m[2021-02-27:17:07:42:INFO] Sniff delimiter as ','\u001b[0m\n",
      "\u001b[35m[2021-02-27:17:07:42:INFO] Determined delimiter of CSV input is ','\u001b[0m\n",
      "\u001b[34m[2021-02-27:17:07:44:INFO] Sniff delimiter as ','\u001b[0m\n",
      "\u001b[34m[2021-02-27:17:07:44:INFO] Determined delimiter of CSV input is ','\u001b[0m\n",
      "\u001b[34m[2021-02-27:17:07:44:INFO] Sniff delimiter as ','\u001b[0m\n",
      "\u001b[34m[2021-02-27:17:07:44:INFO] Determined delimiter of CSV input is ','\u001b[0m\n",
      "\u001b[34m[2021-02-27:17:07:45:INFO] Sniff delimiter as ','\u001b[0m\n",
      "\u001b[34m[2021-02-27:17:07:45:INFO] Determined delimiter of CSV input is ','\u001b[0m\n",
      "\u001b[35m[2021-02-27:17:07:44:INFO] Sniff delimiter as ','\u001b[0m\n",
      "\u001b[35m[2021-02-27:17:07:44:INFO] Determined delimiter of CSV input is ','\u001b[0m\n",
      "\u001b[35m[2021-02-27:17:07:44:INFO] Sniff delimiter as ','\u001b[0m\n",
      "\u001b[35m[2021-02-27:17:07:44:INFO] Determined delimiter of CSV input is ','\u001b[0m\n",
      "\u001b[35m[2021-02-27:17:07:45:INFO] Sniff delimiter as ','\u001b[0m\n",
      "\u001b[35m[2021-02-27:17:07:45:INFO] Determined delimiter of CSV input is ','\u001b[0m\n",
      "\u001b[34m[2021-02-27:17:07:45:INFO] Sniff delimiter as ','\u001b[0m\n",
      "\u001b[34m[2021-02-27:17:07:45:INFO] Determined delimiter of CSV input is ','\u001b[0m\n",
      "\u001b[35m[2021-02-27:17:07:45:INFO] Sniff delimiter as ','\u001b[0m\n",
      "\u001b[35m[2021-02-27:17:07:45:INFO] Determined delimiter of CSV input is ','\u001b[0m\n",
      "\u001b[34m[2021-02-27:17:07:47:INFO] Sniff delimiter as ','\u001b[0m\n",
      "\u001b[34m[2021-02-27:17:07:47:INFO] Determined delimiter of CSV input is ','\u001b[0m\n",
      "\u001b[35m[2021-02-27:17:07:47:INFO] Sniff delimiter as ','\u001b[0m\n",
      "\u001b[35m[2021-02-27:17:07:47:INFO] Determined delimiter of CSV input is ','\u001b[0m\n",
      "\u001b[34m[2021-02-27:17:07:47:INFO] Sniff delimiter as ','\u001b[0m\n",
      "\u001b[34m[2021-02-27:17:07:47:INFO] Determined delimiter of CSV input is ','\u001b[0m\n",
      "\u001b[34m[2021-02-27:17:07:47:INFO] Sniff delimiter as ','\u001b[0m\n",
      "\u001b[34m[2021-02-27:17:07:47:INFO] Determined delimiter of CSV input is ','\u001b[0m\n",
      "\u001b[34m[2021-02-27:17:07:47:INFO] Sniff delimiter as ','\u001b[0m\n",
      "\u001b[34m[2021-02-27:17:07:47:INFO] Determined delimiter of CSV input is ','\u001b[0m\n"
     ]
    },
    {
     "name": "stdout",
     "output_type": "stream",
     "text": [
      "\u001b[35m[2021-02-27:17:07:47:INFO] Sniff delimiter as ','\u001b[0m\n",
      "\u001b[35m[2021-02-27:17:07:47:INFO] Determined delimiter of CSV input is ','\u001b[0m\n",
      "\u001b[35m[2021-02-27:17:07:47:INFO] Sniff delimiter as ','\u001b[0m\n",
      "\u001b[35m[2021-02-27:17:07:47:INFO] Determined delimiter of CSV input is ','\u001b[0m\n",
      "\u001b[35m[2021-02-27:17:07:47:INFO] Sniff delimiter as ','\u001b[0m\n",
      "\u001b[35m[2021-02-27:17:07:47:INFO] Determined delimiter of CSV input is ','\u001b[0m\n",
      "\u001b[34m[2021-02-27:17:07:50:INFO] Sniff delimiter as ','\u001b[0m\n",
      "\u001b[35m[2021-02-27:17:07:50:INFO] Sniff delimiter as ','\u001b[0m\n",
      "\u001b[34m[2021-02-27:17:07:50:INFO] Determined delimiter of CSV input is ','\u001b[0m\n",
      "\u001b[35m[2021-02-27:17:07:50:INFO] Determined delimiter of CSV input is ','\u001b[0m\n",
      "\u001b[34m[2021-02-27:17:07:52:INFO] Sniff delimiter as ','\u001b[0m\n",
      "\u001b[34m[2021-02-27:17:07:52:INFO] Determined delimiter of CSV input is ','\u001b[0m\n",
      "\u001b[35m[2021-02-27:17:07:52:INFO] Sniff delimiter as ','\u001b[0m\n",
      "\u001b[35m[2021-02-27:17:07:52:INFO] Determined delimiter of CSV input is ','\u001b[0m\n",
      "\u001b[34m[2021-02-27:17:07:52:INFO] Sniff delimiter as ','\u001b[0m\n",
      "\u001b[34m[2021-02-27:17:07:52:INFO] Determined delimiter of CSV input is ','\u001b[0m\n",
      "\u001b[34m[2021-02-27:17:07:52:INFO] Sniff delimiter as ','\u001b[0m\n",
      "\u001b[34m[2021-02-27:17:07:52:INFO] Determined delimiter of CSV input is ','\u001b[0m\n",
      "\u001b[34m[2021-02-27:17:07:52:INFO] Sniff delimiter as ','\u001b[0m\n",
      "\u001b[34m[2021-02-27:17:07:52:INFO] Determined delimiter of CSV input is ','\u001b[0m\n",
      "\u001b[35m[2021-02-27:17:07:52:INFO] Sniff delimiter as ','\u001b[0m\n",
      "\u001b[35m[2021-02-27:17:07:52:INFO] Determined delimiter of CSV input is ','\u001b[0m\n",
      "\u001b[35m[2021-02-27:17:07:52:INFO] Sniff delimiter as ','\u001b[0m\n",
      "\u001b[35m[2021-02-27:17:07:52:INFO] Determined delimiter of CSV input is ','\u001b[0m\n",
      "\u001b[35m[2021-02-27:17:07:52:INFO] Sniff delimiter as ','\u001b[0m\n",
      "\u001b[35m[2021-02-27:17:07:52:INFO] Determined delimiter of CSV input is ','\u001b[0m\n",
      "\u001b[34m[2021-02-27:17:07:54:INFO] Sniff delimiter as ','\u001b[0m\n",
      "\u001b[34m[2021-02-27:17:07:54:INFO] Determined delimiter of CSV input is ','\u001b[0m\n",
      "\u001b[34m[2021-02-27:17:07:54:INFO] Sniff delimiter as ','\u001b[0m\n",
      "\u001b[34m[2021-02-27:17:07:54:INFO] Determined delimiter of CSV input is ','\u001b[0m\n",
      "\u001b[34m[2021-02-27:17:07:54:INFO] Sniff delimiter as ','\u001b[0m\n",
      "\u001b[34m[2021-02-27:17:07:54:INFO] Determined delimiter of CSV input is ','\u001b[0m\n",
      "\u001b[35m[2021-02-27:17:07:54:INFO] Sniff delimiter as ','\u001b[0m\n",
      "\u001b[35m[2021-02-27:17:07:54:INFO] Determined delimiter of CSV input is ','\u001b[0m\n",
      "\u001b[35m[2021-02-27:17:07:54:INFO] Sniff delimiter as ','\u001b[0m\n",
      "\u001b[35m[2021-02-27:17:07:54:INFO] Determined delimiter of CSV input is ','\u001b[0m\n",
      "\u001b[35m[2021-02-27:17:07:54:INFO] Sniff delimiter as ','\u001b[0m\n",
      "\u001b[35m[2021-02-27:17:07:54:INFO] Determined delimiter of CSV input is ','\u001b[0m\n",
      "\n"
     ]
    }
   ],
   "source": [
    "xgb_transformer.wait()"
   ]
  },
  {
   "cell_type": "markdown",
   "metadata": {},
   "source": [
    "Now the transform job has executed and the result, the estimated sentiment of each review, has been saved on S3. Since we would rather work on this file locally we can perform a bit of notebook magic to copy the file to the `data_dir`."
   ]
  },
  {
   "cell_type": "code",
   "execution_count": 31,
   "metadata": {},
   "outputs": [
    {
     "name": "stdout",
     "output_type": "stream",
     "text": [
      "Completed 256.0 KiB/368.8 KiB (3.3 MiB/s) with 1 file(s) remaining\r",
      "Completed 368.8 KiB/368.8 KiB (4.5 MiB/s) with 1 file(s) remaining\r",
      "download: s3://sagemaker-us-east-1-208895044323/xgboost-2021-02-27-17-02-40-558/test.csv.out to ../data/sentiment_web_app/test.csv.out\r\n"
     ]
    }
   ],
   "source": [
    "!aws s3 cp --recursive $xgb_transformer.output_path $data_dir"
   ]
  },
  {
   "cell_type": "markdown",
   "metadata": {},
   "source": [
    "The last step is now to read in the output from our model, convert the output to something a little more usable, in this case we want the sentiment to be either `1` (positive) or `0` (negative), and then compare to the ground truth labels."
   ]
  },
  {
   "cell_type": "code",
   "execution_count": 32,
   "metadata": {},
   "outputs": [],
   "source": [
    "predictions = pd.read_csv(os.path.join(data_dir, 'test.csv.out'), header=None)\n",
    "predictions = [round(num) for num in predictions.squeeze().values]"
   ]
  },
  {
   "cell_type": "code",
   "execution_count": 33,
   "metadata": {},
   "outputs": [
    {
     "data": {
      "text/plain": [
       "0.85532"
      ]
     },
     "execution_count": 33,
     "metadata": {},
     "output_type": "execute_result"
    }
   ],
   "source": [
    "from sklearn.metrics import accuracy_score\n",
    "accuracy_score(test_y, predictions)"
   ]
  },
  {
   "cell_type": "markdown",
   "metadata": {},
   "source": [
    "## Step 6: Deploying the model\n",
    "\n",
    "Once we construct and fit our model, SageMaker stores the resulting model artifacts and we can use those to deploy an endpoint (inference code). To see this, look in the SageMaker console and you should see that a model has been created along with a link to the S3 location where the model artifacts have been stored.\n",
    "\n",
    "Deploying an endpoint is a lot like training the model with a few important differences. The first is that a deployed model doesn't change the model artifacts, so as you send it various testing instances the model won't change. Another difference is that since we aren't performing a fixed computation, as we were in the training step or while performing a batch transform, the compute instance that gets started stays running until we tell it to stop. This is important to note as if we forget and leave it running we will be charged the entire time.\n",
    "\n",
    "In other words **If you are no longer using a deployed endpoint, shut it down!**"
   ]
  },
  {
   "cell_type": "code",
   "execution_count": 34,
   "metadata": {},
   "outputs": [
    {
     "name": "stderr",
     "output_type": "stream",
     "text": [
      "Parameter image will be renamed to image_uri in SageMaker Python SDK v2.\n",
      "Using already existing model: xgboost-2021-02-27-16-55-55-400\n"
     ]
    },
    {
     "name": "stdout",
     "output_type": "stream",
     "text": [
      "---------------!"
     ]
    }
   ],
   "source": [
    "xgb_predictor = xgb.deploy(initial_instance_count = 1, instance_type = 'ml.m4.xlarge')"
   ]
  },
  {
   "cell_type": "markdown",
   "metadata": {},
   "source": [
    "### Testing the model (again)\n",
    "\n",
    "Now that we have deployed our endpoint, we can send the testing data to it and get back the inference results. We already did this earlier using the batch transform functionality of SageMaker, however, we will test our model again using the newly deployed endpoint so that we can make sure that it works properly and to get a bit of a feel for how the endpoint works.\n",
    "\n",
    "When using the created endpoint it is important to know that we are limited in the amount of information we can send in each call so we need to break the testing data up into chunks and then send each chunk. Also, we need to serialize our data before we send it to the endpoint to ensure that our data is transmitted properly. Fortunately, SageMaker can do the serialization part for us provided we tell it the format of our data."
   ]
  },
  {
   "cell_type": "code",
   "execution_count": 35,
   "metadata": {},
   "outputs": [],
   "source": [
    "from sagemaker.predictor import csv_serializer\n",
    "\n",
    "# We need to tell the endpoint what format the data we are sending is in so that SageMaker can perform the serialization.\n",
    "xgb_predictor.content_type = 'text/csv'\n",
    "xgb_predictor.serializer = csv_serializer"
   ]
  },
  {
   "cell_type": "code",
   "execution_count": 36,
   "metadata": {},
   "outputs": [],
   "source": [
    "# We split the data into chunks and send each chunk seperately, accumulating the results.\n",
    "\n",
    "def predict(data, rows=512):\n",
    "    split_array = np.array_split(data, int(data.shape[0] / float(rows) + 1))\n",
    "    predictions = ''\n",
    "    for array in split_array:\n",
    "        predictions = ','.join([predictions, xgb_predictor.predict(array).decode('utf-8')])\n",
    "    \n",
    "    return np.fromstring(predictions[1:], sep=',')"
   ]
  },
  {
   "cell_type": "code",
   "execution_count": 37,
   "metadata": {},
   "outputs": [],
   "source": [
    "test_X = pd.read_csv(os.path.join(data_dir, 'test.csv'), header=None).values\n",
    "\n",
    "predictions = predict(test_X)\n",
    "predictions = [round(num) for num in predictions]"
   ]
  },
  {
   "cell_type": "markdown",
   "metadata": {},
   "source": [
    "Lastly, we check to see what the accuracy of our model is."
   ]
  },
  {
   "cell_type": "code",
   "execution_count": 38,
   "metadata": {},
   "outputs": [
    {
     "data": {
      "text/plain": [
       "0.85532"
      ]
     },
     "execution_count": 38,
     "metadata": {},
     "output_type": "execute_result"
    }
   ],
   "source": [
    "from sklearn.metrics import accuracy_score\n",
    "accuracy_score(test_y, predictions)"
   ]
  },
  {
   "cell_type": "markdown",
   "metadata": {},
   "source": [
    "And the results here should agree with the model testing that we did earlier using the batch transform job.\n",
    "\n",
    "### Cleaning up\n",
    "\n",
    "Now that we've determined that deploying our model works as expected, we are going to shut it down. Remember that the longer the endpoint is left running, the greater the cost and since we have a bit more work to do before we are able to use our endpoint with our simple web app, we should shut everything down."
   ]
  },
  {
   "cell_type": "code",
   "execution_count": 39,
   "metadata": {},
   "outputs": [],
   "source": [
    "xgb_predictor.delete_endpoint()"
   ]
  },
  {
   "cell_type": "markdown",
   "metadata": {},
   "source": [
    "## Step 7: Putting our model to work\n",
    "\n",
    "As we've mentioned a few times now, our goal is to have our model deployed and then access it using a very simple web app. The intent is for this web app to take some user submitted data (a review), send it off to our endpoint (the model) and then display the result.\n",
    "\n",
    "However, there is a small catch. Currently the only way we can access the endpoint to send it data is using the SageMaker API. We can, if we wish, expose the actual URL that our model's endpoint is receiving data from, however, if we just send it data ourselves we will not get anything in return. This is because the endpoint created by SageMaker requires the entity accessing it have the correct permissions. So, we would need to somehow authenticate our web app with AWS.\n",
    "\n",
    "Having a website that authenticates to AWS seems a bit beyond the scope of this lesson so we will opt for an alternative approach. Namely, we will create a new endpoint which does not require authentication and which acts as a proxy for the SageMaker endpoint.\n",
    "\n",
    "As an additional constraint, we will try to avoid doing any data processing in the web app itself. Remember that when we constructed and tested our model we started with a movie review, then we simplified it by removing any html formatting and punctuation, then we constructed a bag of words embedding and the resulting vector is what we sent to our model. All of this needs to be done to our user input as well.\n",
    "\n",
    "Fortunately we can do all of this data processing in the backend, using Amazon's Lambda service.\n",
    "\n",
    "<img src=\"Web App Diagram.svg\">\n",
    "\n",
    "The diagram above gives an overview of how the various services will work together. On the far right is the model which we trained above and which will be deployed using SageMaker. On the far left is our web app that collects a user's movie review, sends it off and expects a positive or negative sentiment in return.\n",
    "\n",
    "In the middle is where some of the magic happens. We will construct a Lambda function, which you can think of as a straightforward Python function that can be executed whenever a specified event occurs. This Python function will do the data processing we need to perform on a user submitted review. In addition, we will give this function permission to send and recieve data from a SageMaker endpoint.\n",
    "\n",
    "Lastly, the method we will use to execute the Lambda function is a new endpoint that we will create using API Gateway. This endpoint will be a url that listens for data to be sent to it. Once it gets some data it will pass that data on to the Lambda function and then return whatever the Lambda function returns. Essentially it will act as an interface that lets our web app communicate with the Lambda function.\n",
    "\n",
    "### Processing a single review\n",
    "\n",
    "For now, suppose we are given a movie review by our user in the form of a string, like so:"
   ]
  },
  {
   "cell_type": "code",
   "execution_count": 40,
   "metadata": {},
   "outputs": [],
   "source": [
    "test_review = \"Nothing but a disgusting materialistic pageant of glistening abed remote control greed zombies, totally devoid of any heart or heat. A romantic comedy that has zero romantic chemestry and zero laughs!\""
   ]
  },
  {
   "cell_type": "markdown",
   "metadata": {},
   "source": [
    "How do we go from this string to the bag of words feature vector that is expected by our model?\n",
    "\n",
    "If we recall at the beginning of this notebook, the first step is to remove any unnecessary characters using the `review_to_words` method. Remember that we intentionally did this in a very simplistic way. This is because we are going to have to copy this method to our (eventual) Lambda function (we will go into more detail later) and this means it needs to be rather simplistic."
   ]
  },
  {
   "cell_type": "code",
   "execution_count": 41,
   "metadata": {},
   "outputs": [
    {
     "name": "stdout",
     "output_type": "stream",
     "text": [
      "nothing but a disgusting materialistic pageant of glistening abed remote control greed zombies totally devoid of any heart or heat a romantic comedy that has zero romantic chemestry and zero laughs\n"
     ]
    }
   ],
   "source": [
    "test_words = review_to_words(test_review)\n",
    "print(test_words)"
   ]
  },
  {
   "cell_type": "markdown",
   "metadata": {},
   "source": [
    "Next, we need to construct a bag of words embedding of the `test_words` string. To do this, remember that a bag of words embedding uses a `vocabulary` consisting of the most frequently appearing words in a set of documents. Then, for each word in the vocabulary we record the number of times that word appears in `test_words`. We constructed the `vocabulary` earlier using the training set for our problem so encoding `test_words` is relatively straightforward."
   ]
  },
  {
   "cell_type": "code",
   "execution_count": 42,
   "metadata": {},
   "outputs": [],
   "source": [
    "def bow_encoding(words, vocabulary):\n",
    "    bow = [0] * len(vocabulary) # Start by setting the count for each word in the vocabulary to zero.\n",
    "    for word in words.split():  # For each word in the string\n",
    "        if word in vocabulary:  # If the word is one that occurs in the vocabulary, increase its count.\n",
    "            bow[vocabulary[word]] += 1\n",
    "    return bow"
   ]
  },
  {
   "cell_type": "code",
   "execution_count": 43,
   "metadata": {},
   "outputs": [
    {
     "name": "stdout",
     "output_type": "stream",
     "text": [
      "[0, 0, 0, 0, 0, 0, 0, 0, 0, 0, 0, 0, 0, 0, 0, 0, 0, 0, 0, 0, 0, 0, 0, 0, 0, 0, 0, 0, 0, 0, 0, 0, 0, 0, 0, 0, 0, 0, 0, 0, 0, 0, 0, 0, 0, 0, 0, 0, 0, 0, 0, 0, 0, 0, 0, 0, 0, 0, 0, 0, 0, 0, 0, 0, 0, 0, 0, 0, 0, 0, 0, 0, 0, 0, 0, 0, 0, 0, 0, 0, 0, 0, 0, 0, 0, 0, 0, 0, 0, 0, 0, 0, 0, 0, 0, 0, 0, 0, 0, 0, 0, 0, 0, 0, 0, 0, 0, 0, 0, 0, 0, 0, 0, 0, 0, 0, 0, 0, 0, 0, 0, 0, 0, 0, 0, 0, 0, 0, 0, 0, 0, 0, 0, 0, 0, 0, 0, 0, 0, 0, 0, 0, 0, 0, 0, 0, 0, 0, 0, 0, 0, 0, 0, 0, 0, 0, 0, 0, 0, 0, 0, 0, 0, 0, 0, 0, 0, 0, 0, 0, 0, 0, 0, 0, 0, 0, 0, 0, 0, 0, 0, 0, 0, 0, 0, 0, 0, 0, 0, 0, 0, 0, 0, 0, 0, 0, 0, 0, 0, 0, 0, 0, 0, 0, 0, 0, 0, 0, 0, 0, 0, 0, 0, 0, 0, 0, 0, 0, 0, 0, 0, 0, 0, 0, 0, 0, 1, 0, 0, 0, 0, 0, 0, 0, 0, 0, 0, 0, 0, 0, 0, 0, 0, 0, 0, 0, 0, 0, 0, 0, 0, 0, 0, 0, 0, 1, 0, 0, 0, 0, 0, 0, 0, 0, 0, 0, 0, 0, 0, 0, 0, 0, 0, 0, 0, 0, 0, 0, 0, 0, 0, 0, 0, 0, 0, 0, 0, 0, 0, 0, 0, 0, 0, 0, 0, 0, 0, 0, 0, 0, 0, 0, 0, 0, 0, 0, 0, 0, 0, 0, 0, 0, 0, 0, 0, 0, 0, 0, 0, 0, 0, 0, 0, 0, 0, 0, 0, 0, 0, 0, 0, 0, 0, 0, 0, 0, 0, 0, 0, 0, 0, 0, 0, 0, 0, 0, 0, 0, 0, 0, 0, 0, 0, 0, 0, 0, 0, 0, 0, 0, 0, 0, 0, 0, 0, 0, 0, 0, 0, 0, 0, 0, 0, 0, 0, 0, 0, 0, 0, 0, 0, 0, 0, 0, 0, 0, 0, 0, 0, 0, 0, 0, 0, 0, 0, 0, 0, 0, 0, 0, 0, 0, 0, 0, 0, 0, 0, 0, 0, 0, 0, 0, 0, 0, 0, 0, 0, 0, 0, 0, 0, 0, 0, 0, 0, 0, 0, 0, 0, 0, 0, 0, 0, 0, 0, 0, 0, 0, 0, 0, 0, 0, 0, 0, 0, 0, 0, 0, 0, 0, 0, 0, 0, 0, 0, 0, 0, 0, 0, 0, 0, 0, 0, 0, 0, 0, 0, 0, 0, 0, 0, 0, 0, 0, 0, 0, 0, 0, 0, 0, 0, 0, 0, 0, 0, 0, 0, 0, 0, 0, 0, 0, 0, 0, 0, 0, 0, 0, 0, 0, 0, 0, 0, 0, 0, 0, 0, 0, 0, 0, 0, 0, 0, 0, 0, 0, 0, 0, 0, 0, 0, 0, 0, 0, 0, 0, 0, 0, 0, 0, 0, 0, 0, 0, 0, 0, 0, 0, 0, 0, 0, 0, 0, 0, 0, 0, 0, 0, 0, 0, 0, 0, 0, 0, 0, 0, 0, 0, 0, 0, 0, 0, 0, 0, 0, 0, 0, 0, 0, 0, 0, 0, 0, 0, 0, 0, 0, 0, 0, 0, 0, 0, 0, 0, 0, 0, 0, 0, 0, 0, 0, 0, 0, 0, 0, 0, 0, 0, 0, 0, 0, 0, 0, 0, 0, 0, 0, 0, 0, 0, 0, 0, 0, 0, 0, 0, 0, 0, 0, 0, 0, 0, 0, 0, 0, 0, 0, 0, 0, 0, 0, 0, 0, 0, 0, 1, 0, 0, 0, 0, 0, 0, 0, 0, 0, 0, 0, 0, 0, 0, 0, 0, 0, 0, 0, 0, 0, 0, 0, 0, 0, 0, 0, 0, 0, 0, 0, 0, 0, 0, 0, 0, 0, 0, 0, 0, 0, 0, 0, 0, 0, 0, 0, 0, 0, 0, 0, 0, 0, 0, 0, 0, 0, 0, 0, 0, 0, 0, 0, 0, 0, 0, 0, 0, 0, 0, 0, 0, 0, 0, 0, 0, 0, 0, 0, 0, 0, 0, 0, 0, 0, 0, 0, 0, 0, 0, 0, 0, 0, 0, 0, 0, 0, 0, 0, 0, 0, 0, 0, 0, 0, 0, 0, 0, 0, 0, 0, 0, 0, 0, 0, 0, 0, 0, 0, 0, 0, 0, 0, 0, 0, 0, 0, 0, 0, 0, 0, 0, 0, 0, 0, 0, 0, 0, 0, 0, 0, 0, 0, 0, 0, 0, 0, 0, 0, 0, 0, 0, 0, 0, 0, 0, 0, 0, 0, 0, 0, 0, 0, 0, 0, 0, 0, 0, 0, 0, 0, 0, 0, 0, 0, 0, 0, 0, 0, 0, 0, 0, 0, 0, 0, 0, 0, 0, 0, 0, 0, 0, 0, 0, 0, 0, 0, 0, 0, 0, 0, 0, 0, 0, 0, 0, 0, 0, 0, 0, 0, 0, 0, 0, 0, 0, 0, 0, 0, 0, 0, 0, 0, 0, 0, 0, 0, 0, 0, 0, 0, 0, 0, 0, 0, 0, 0, 0, 0, 0, 0, 0, 0, 0, 0, 0, 0, 0, 0, 0, 0, 0, 0, 1, 0, 0, 0, 0, 0, 0, 0, 0, 0, 0, 0, 0, 0, 0, 0, 0, 0, 0, 0, 0, 0, 0, 0, 0, 0, 0, 0, 0, 0, 0, 0, 0, 0, 0, 0, 0, 0, 0, 0, 0, 0, 0, 0, 0, 0, 0, 0, 0, 0, 0, 0, 0, 0, 0, 0, 0, 0, 0, 0, 0, 0, 0, 0, 0, 0, 0, 0, 0, 0, 0, 0, 0, 0, 0, 0, 0, 0, 0, 0, 0, 0, 0, 0, 0, 0, 0, 1, 0, 0, 0, 0, 0, 0, 0, 0, 0, 0, 0, 0, 0, 0, 0, 0, 0, 0, 0, 0, 0, 0, 0, 0, 0, 0, 0, 0, 0, 0, 0, 0, 0, 0, 0, 0, 0, 0, 0, 0, 0, 0, 0, 0, 0, 0, 0, 0, 0, 0, 0, 0, 0, 0, 0, 0, 0, 0, 0, 0, 0, 0, 0, 0, 0, 0, 0, 0, 0, 0, 0, 0, 0, 0, 0, 0, 0, 0, 0, 0, 0, 0, 0, 0, 0, 0, 0, 0, 0, 0, 0, 0, 0, 0, 0, 0, 0, 0, 0, 0, 0, 0, 0, 0, 0, 0, 0, 0, 0, 0, 0, 0, 0, 0, 0, 0, 0, 0, 0, 0, 0, 0, 0, 0, 0, 0, 0, 0, 0, 0, 0, 0, 0, 0, 0, 0, 0, 0, 0, 0, 0, 0, 0, 0, 0, 0, 0, 0, 0, 0, 0, 0, 0, 0, 0, 0, 0, 0, 0, 0, 0, 0, 0, 0, 0, 0, 0, 0, 0, 0, 0, 0, 0, 0, 0, 0, 0, 0, 0, 0, 0, 0, 0, 0, 0, 0, 0, 0, 0, 0, 0, 0, 0, 0, 0, 0, 0, 0, 0, 0, 0, 0, 0, 0, 0, 0, 0, 0, 0, 0, 0, 0, 0, 0, 0, 0, 0, 0, 0, 0, 0, 0, 0, 0, 0, 0, 0, 0, 0, 0, 0, 0, 0, 0, 0, 0, 0, 0, 0, 0, 0, 0, 0, 0, 0, 0, 0, 0, 0, 0, 1, 0, 0, 0, 0, 0, 0, 0, 0, 0, 0, 0, 0, 0, 0, 0, 0, 0, 0, 0, 0, 0, 0, 0, 0, 0, 0, 0, 0, 0, 0, 0, 0, 0, 0, 0, 0, 0, 0, 0, 0, 0, 0, 0, 0, 0, 0, 0, 0, 0, 0, 0, 0, 0, 0, 0, 1, 0, 0, 0, 0, 0, 0, 0, 0, 0, 0, 0, 0, 0, 0, 0, 0, 0, 0, 0, 0, 0, 0, 0, 0, 0, 0, 0, 0, 0, 0, 0, 0, 0, 0, 0, 0, 0, 0, 0, 0, 0, 0, 0, 0, 0, 0, 0, 0, 0, 0, 0, 0, 0, 0, 0, 0, 0, 0, 0, 0, 0, 0, 0, 0, 0, 0, 0, 0, 0, 0, 0, 0, 0, 0, 0, 0, 0, 0, 0, 0, 0, 0, 0, 0, 0, 0, 0, 0, 0, 0, 0, 0, 0, 0, 0, 0, 0, 0, 0, 0, 0, 0, 0, 0, 0, 0, 0, 0, 0, 0, 0, 0, 0, 0, 0, 0, 0, 0, 0, 0, 0, 0, 0, 0, 0, 0, 0, 0, 0, 0, 0, 0, 0, 0, 0, 0, 0, 0, 0, 0, 0, 0, 0, 0, 0, 0, 0, 0, 0, 0, 0, 0, 0, 0, 0, 0, 0, 0, 0, 0, 0, 0, 0, 0, 0, 0, 0, 0, 0, 0, 0, 0, 0, 0, 0, 0, 0, 0, 0, 0, 0, 0, 0, 0, 0, 0, 0, 0, 0, 0, 0, 0, 0, 0, 0, 0, 0, 0, 0, 0, 0, 0, 0, 0, 0, 0, 0, 0, 0, 0, 0, 0, 0, 0, 0, 0, 0, 0, 0, 0, 0, 0, 0, 0, 0, 0, 0, 0, 0, 0, 0, 0, 0, 0, 0, 0, 0, 0, 0, 0, 0, 0, 0, 0, 0, 0, 0, 0, 0, 0, 0, 0, 0, 0, 0, 0, 0, 0, 0, 0, 0, 0, 0, 0, 0, 0, 0, 0, 0, 0, 0, 0, 0, 0, 0, 0, 0, 0, 0, 0, 0, 0, 0, 0, 0, 0, 0, 0, 0, 0, 0, 0, 0, 0, 0, 0, 0, 0, 0, 0, 0, 0, 0, 0, 0, 0, 0, 0, 0, 0, 0, 0, 0, 0, 0, 0, 0, 0, 0, 0, 0, 0, 0, 0, 0, 0, 0, 0, 0, 0, 0, 0, 0, 0, 0, 0, 0, 0, 0, 0, 0, 0, 0, 0, 0, 0, 0, 0, 0, 0, 0, 0, 0, 0, 0, 0, 0, 0, 0, 0, 0, 0, 0, 0, 0, 0, 0, 0, 0, 0, 0, 0, 0, 0, 0, 0, 0, 0, 0, 0, 0, 0, 0, 0, 0, 0, 0, 0, 0, 0, 0, 0, 0, 0, 0, 0, 0, 0, 0, 0, 0, 0, 0, 0, 0, 0, 0, 0, 0, 0, 0, 0, 0, 0, 0, 0, 0, 0, 0, 0, 0, 0, 0, 0, 0, 0, 0, 0, 0, 0, 0, 0, 0, 0, 0, 0, 0, 0, 0, 0, 0, 0, 0, 0, 0, 0, 0, 0, 0, 0, 0, 0, 0, 0, 0, 0, 0, 0, 0, 0, 0, 0, 0, 0, 0, 0, 0, 0, 0, 0, 0, 0, 0, 0, 0, 0, 0, 0, 0, 0, 0, 0, 0, 0, 0, 0, 0, 0, 0, 0, 0, 0, 0, 0, 0, 0, 0, 0, 0, 0, 0, 0, 0, 0, 0, 0, 0, 0, 0, 0, 0, 0, 0, 0, 0, 0, 0, 0, 0, 0, 0, 0, 0, 0, 0, 0, 0, 0, 0, 0, 0, 0, 0, 0, 0, 0, 0, 0, 0, 0, 0, 0, 0, 0, 0, 0, 0, 0, 0, 0, 0, 0, 0, 0, 0, 0, 0, 0, 0, 0, 0, 0, 0, 0, 0, 0, 0, 0, 0, 0, 0, 0, 0, 0, 0, 0, 0, 0, 0, 0, 0, 0, 0, 0, 0, 0, 0, 0, 0, 0, 0, 0, 0, 0, 0, 0, 0, 0, 0, 0, 0, 0, 0, 0, 0, 0, 0, 0, 0, 0, 0, 0, 0, 0, 0, 0, 0, 0, 0, 0, 0, 0, 0, 0, 0, 0, 0, 0, 0, 0, 0, 0, 0, 0, 0, 0, 0, 0, 0, 0, 0, 0, 0, 0, 0, 0, 0, 0, 0, 0, 0, 0, 0, 0, 0, 0, 0, 0, 0, 0, 0, 0, 0, 0, 0, 0, 0, 0, 0, 0, 0, 0, 0, 0, 0, 0, 0, 0, 0, 0, 0, 0, 1, 0, 0, 0, 0, 0, 0, 0, 0, 0, 0, 0, 0, 0, 0, 0, 0, 0, 0, 0, 0, 0, 0, 0, 0, 0, 0, 0, 0, 0, 0, 0, 0, 0, 0, 0, 0, 0, 0, 0, 0, 0, 0, 0, 0, 0, 0, 0, 0, 0, 0, 0, 0, 0, 0, 0, 0, 0, 0, 0, 0, 0, 0, 0, 0, 0, 0, 0, 0, 0, 0, 0, 0, 0, 0, 1, 0, 0, 0, 0, 0, 0, 0, 0, 0, 0, 0, 0, 0, 0, 0, 0, 0, 0, 0, 0, 1, 0, 0, 1, 0, 0, 0, 0, 0, 0, 0, 0, 0, 0, 0, 0, 0, 0, 0, 0, 0, 0, 0, 0, 0, 0, 0, 0, 0, 0, 0, 0, 0, 0, 0, 0, 0, 0, 0, 0, 0, 0, 0, 0, 0, 0, 0, 0, 0, 0, 0, 0, 0, 0, 0, 0, 0, 0, 0, 0, 0, 0, 0, 0, 0, 0, 0, 0, 0, 0, 0, 0, 0, 0, 0, 0, 0, 0, 0, 0, 0, 0, 0, 0, 0, 0, 0, 0, 0, 0, 0, 0, 0, 0, 0, 0, 0, 0, 0, 0, 0, 0, 0, 0, 0, 0, 0, 0, 0, 0, 0, 0, 0, 0, 0, 0, 0, 0, 0, 0, 0, 0, 0, 0, 0, 0, 0, 0, 0, 0, 0, 0, 0, 0, 0, 0, 0, 0, 0, 0, 0, 0, 0, 0, 0, 0, 0, 0, 0, 0, 0, 0, 0, 0, 0, 0, 0, 0, 0, 0, 0, 0, 0, 0, 0, 0, 0, 0, 0, 0, 0, 0, 0, 0, 0, 0, 0, 0, 0, 0, 0, 0, 0, 0, 0, 0, 0, 0, 0, 0, 0, 0, 0, 0, 0, 0, 0, 0, 0, 0, 0, 0, 0, 0, 0, 0, 0, 0, 0, 0, 0, 0, 0, 0, 0, 0, 0, 0, 0, 0, 0, 0, 0, 0, 0, 0, 0, 0, 0, 0, 0, 0, 0, 0, 0, 0, 0, 0, 0, 0, 0, 0, 0, 0, 0, 0, 0, 0, 0, 0, 0, 0, 0, 0, 0, 0, 0, 0, 0, 0, 0, 0, 0, 0, 0, 0, 0, 0, 0, 0, 0, 0, 0, 0, 0, 0, 0, 0, 0, 0, 0, 0, 0, 0, 0, 0, 0, 0, 0, 0, 0, 0, 0, 0, 0, 0, 0, 0, 0, 0, 0, 0, 0, 0, 0, 0, 0, 0, 0, 0, 0, 0, 0, 0, 0, 0, 0, 0, 0, 0, 0, 0, 0, 0, 0, 0, 0, 0, 0, 0, 0, 0, 0, 0, 0, 0, 0, 0, 0, 0, 0, 0, 0, 0, 0, 0, 0, 0, 0, 0, 0, 0, 0, 0, 0, 0, 0, 0, 0, 0, 0, 0, 0, 0, 0, 0, 0, 0, 0, 0, 0, 0, 0, 0, 0, 0, 0, 0, 0, 0, 0, 0, 0, 0, 0, 0, 0, 0, 0, 0, 0, 0, 0, 0, 0, 0, 0, 0, 0, 0, 0, 0, 0, 0, 0, 0, 0, 0, 0, 0, 0, 0, 0, 0, 0, 0, 0, 0, 0, 0, 0, 0, 0, 0, 0, 0, 0, 0, 0, 0, 0, 0, 0, 0, 0, 0, 0, 0, 0, 0, 0, 0, 0, 0, 0, 0, 0, 0, 0, 0, 0, 0, 0, 0, 0, 0, 0, 0, 0, 0, 0, 0, 0, 0, 0, 0, 0, 0, 0, 0, 1, 0, 0, 0, 0, 0, 0, 0, 0, 0, 0, 0, 0, 0, 0, 0, 0, 0, 0, 0, 0, 0, 0, 0, 0, 0, 0, 0, 0, 0, 0, 0, 0, 0, 0, 0, 0, 0, 0, 0, 0, 0, 0, 0, 0, 0, 0, 0, 0, 0, 0, 0, 0, 0, 0, 0, 0, 0, 0, 0, 0, 0, 0, 0, 0, 0, 0, 0, 0, 0, 0, 0, 0, 0, 0, 0, 0, 0, 0, 0, 0, 0, 0, 0, 0, 0, 0, 0, 0, 0, 0, 0, 0, 0, 0, 0, 0, 0, 0, 0, 0, 0, 0, 0, 0, 0, 0, 0, 0, 0, 0, 0, 0, 0, 0, 0, 0, 0, 0, 0, 0, 0, 0, 0, 0, 0, 0, 0, 0, 0, 0, 0, 0, 0, 0, 0, 0, 0, 0, 0, 0, 0, 0, 0, 0, 0, 0, 0, 0, 0, 0, 0, 0, 0, 0, 0, 0, 0, 0, 0, 0, 0, 0, 0, 0, 0, 0, 0, 0, 0, 0, 0, 0, 0, 0, 0, 0, 0, 0, 0, 0, 0, 0, 0, 0, 0, 0, 0, 0, 0, 0, 0, 0, 0, 0, 0, 0, 0, 0, 0, 0, 0, 0, 0, 0, 0, 0, 0, 0, 0, 0, 0, 0, 0, 0, 0, 0, 0, 0, 0, 0, 0, 0, 0, 0, 0, 0, 0, 0, 0, 0, 0, 0, 0, 0, 0, 0, 0, 0, 0, 0, 0, 0, 0, 0, 0, 0, 0, 0, 0, 0, 0, 0, 0, 0, 0, 0, 0, 0, 0, 0, 0, 0, 0, 0, 0, 0, 0, 0, 0, 0, 0, 0, 0, 0, 0, 0, 0, 0, 0, 0, 0, 0, 0, 0, 0, 0, 0, 0, 0, 0, 0, 0, 0, 0, 0, 0, 0, 0, 0, 0, 0, 0, 0, 0, 0, 0, 0, 0, 0, 0, 0, 0, 0, 0, 0, 0, 0, 0, 0, 0, 0, 0, 0, 0, 0, 0, 0, 0, 0, 0, 0, 0, 0, 0, 0, 0, 0, 0, 0, 0, 0, 0, 0, 0, 0, 0, 0, 0, 0, 0, 0, 0, 0, 0, 0, 0, 0, 0, 0, 0, 0, 0, 0, 0, 0, 0, 0, 0, 0, 0, 0, 0, 0, 0, 0, 0, 0, 0, 0, 0, 0, 0, 0, 0, 0, 0, 0, 0, 0, 0, 0, 0, 0, 0, 0, 0, 0, 0, 0, 0, 0, 0, 0, 0, 0, 0, 0, 0, 0, 0, 0, 0, 0, 0, 0, 0, 0, 0, 0, 0, 0, 0, 0, 0, 0, 0, 0, 0, 0, 0, 0, 0, 0, 0, 0, 0, 0, 0, 0, 0, 0, 0, 0, 0, 0, 0, 0, 0, 0, 0, 0, 0, 0, 0, 0, 0, 0, 0, 0, 0, 0, 0, 0, 0, 0, 0, 0, 0, 0, 0, 0, 0, 0, 0, 0, 0, 0, 0, 0, 0, 0, 0, 0, 0, 0, 0, 0, 0, 0, 0, 0, 0, 0, 0, 0, 0, 0, 0, 0, 0, 0, 0, 0, 0, 0, 0, 0, 0, 0, 0, 0, 1, 0, 0, 0, 0, 0, 0, 0, 0, 0, 0, 0, 0, 0, 0, 0, 0, 0, 0, 0, 0, 0, 0, 0, 0, 0, 0, 0, 0, 0, 0, 0, 0, 0, 0, 0, 2, 0, 0, 0, 0, 0, 0, 0, 0, 0, 0, 0, 0, 0, 0, 0, 0, 0, 0, 0, 0, 0, 0, 0, 0, 0, 0, 0, 0, 0, 0, 0, 0, 0, 0, 0, 0, 0, 0, 0, 0, 1, 0, 0, 0, 0, 0, 0, 0, 0, 0, 0, 0, 0, 0, 0, 0, 0, 0, 0, 0, 0, 0, 0, 0, 0, 0, 0, 0, 0, 0, 0, 0, 0, 0, 0, 0, 0, 0, 0, 0, 0, 0, 0, 0, 0, 0, 0, 0, 0, 0, 0, 0, 0, 0, 0, 0, 0, 0, 0, 0, 0, 0, 0, 0, 0, 0, 0, 0, 0, 0, 0, 0, 0, 0, 0, 0, 0, 0, 0, 0, 0, 0, 0, 0, 0, 0, 0, 0, 0, 0, 0, 0, 0, 0, 0, 0, 0, 0, 0, 0, 0, 0, 0, 0, 0, 0, 0, 0, 0, 0, 0, 0, 0, 0, 0, 0, 0, 0, 0, 0, 0, 0, 0, 0, 0, 0, 0, 0, 0, 0, 0, 0, 0, 0, 0, 0, 0, 0, 0, 0, 0, 0, 0, 0, 0, 0, 0, 0, 0, 0, 0, 0, 0, 0, 0, 0, 0, 0, 0, 0, 0, 0, 0, 0, 0, 0, 0, 0, 0, 0, 0, 0, 0, 0, 0, 0, 0, 0, 0, 0, 0, 0, 0, 0, 0, 0, 0, 0, 0, 0, 0, 0, 0, 0, 0, 0, 0, 0, 0, 0, 0, 0, 0, 0, 0, 0, 0, 0, 0, 0, 0, 0, 0, 0, 0, 0, 0, 0, 0, 0, 0, 0, 0, 0, 0, 0, 0, 0, 0, 0, 0, 0, 0, 0, 0, 0, 0, 0, 0, 0, 0, 0, 0, 0, 0, 0, 0, 0, 0, 0, 0, 0, 0, 0, 0, 0, 0, 0, 0, 0, 0, 0, 0, 0, 0, 0, 0, 0, 0, 0, 0, 0, 0, 0, 0, 0, 0, 0, 0, 0, 0, 0, 0, 0, 0, 0, 0, 0, 0, 0, 0, 0, 0, 0, 0, 0, 0, 0, 0, 0, 0, 0, 0, 0, 0, 0, 0, 0, 0, 0, 0, 0, 0, 0, 0, 0, 0, 0, 0, 0, 0, 0, 0, 0, 0, 0, 0, 0, 0, 0, 0, 0, 0, 0, 0, 0, 0, 0, 0, 0, 0, 0, 0, 0, 0, 0, 0, 0, 0, 0, 0, 0, 0, 0, 0, 0, 0, 0, 0, 0, 0, 0, 0, 0, 0, 0, 0, 0, 0, 0, 0, 0, 0, 0, 0, 0, 0, 0, 0, 0, 0, 0, 0, 0, 0, 0, 0, 0, 0, 0, 0, 0, 0, 0, 0, 0, 0, 0, 0, 0, 0, 0, 0, 0, 0, 0, 0, 0, 0, 0, 0, 0, 0, 0, 0, 0, 0, 0, 0, 0, 0, 0, 0, 0, 0, 0, 0, 0, 0, 0, 0, 0, 0, 0, 0, 0, 0, 0, 0, 0, 0, 0, 0, 0, 0, 0, 0, 0, 0, 0, 0, 0, 0, 0, 0, 0, 0, 0, 0, 0, 0, 0, 0, 0, 0, 0, 0, 0, 0, 0, 0, 0, 0, 0, 0, 0, 0, 0, 0, 0, 0, 0, 0, 0, 0, 0, 0, 0, 0, 0, 0, 0, 0, 0, 0, 0, 0, 0, 0, 1, 0, 0, 0, 0, 0, 0, 0, 0, 0, 0, 0, 0, 0, 0, 0, 0, 0, 0, 0, 0, 0, 0, 0, 0, 0, 0, 0, 0, 0, 0, 0, 0, 0, 0, 0, 0, 0, 0, 0, 0, 0, 0, 0, 0, 0, 0, 0, 0, 0, 0, 0, 0, 0, 0, 0, 0, 0, 0, 0, 0, 0, 0, 0, 0, 0, 0, 0, 0, 0, 0, 0, 0, 0, 0, 0, 0, 0, 0, 0, 0, 0, 0, 0, 0, 0, 0, 0, 0, 0, 0, 0, 0, 0, 0, 0, 0, 0, 0, 0, 0, 0, 0, 0, 0, 0, 0, 0, 0, 0, 2, 0, 0, 0, 0, 0, 0, 0, 0, 0, 0, 0, 0, 0, 0, 0, 0, 0, 0, 0, 0, 0, 0, 0, 0, 0, 0, 0, 0, 0, 0, 0, 0, 0, 0, 0, 0, 0, 0, 0, 0, 0, 0, 0, 0, 0, 0, 0, 0, 0, 0, 0, 0, 0, 0, 0, 0, 0, 0, 0, 0, 0, 0, 0, 0, 0, 0, 0, 0, 0, 0, 0, 0, 0, 0, 0, 0, 0, 0, 0, 0, 0, 0, 0, 0, 0, 0, 0, 0, 0, 0, 0, 0, 0, 0, 0, 0, 0, 0, 0, 0, 0, 0, 0, 0, 0, 0, 0, 0, 0, 0, 0, 0, 0, 0, 0, 0, 0, 0, 0, 0, 0, 0, 0, 0, 0, 0, 0, 0, 0, 0, 0, 0, 0, 0, 0, 0, 0, 0, 0, 0, 0, 0, 0, 0, 0, 0, 0, 0, 0, 0, 0, 0, 0, 0, 0, 0, 0, 0, 0, 0, 0, 0, 0, 0, 0, 0, 0, 0, 0, 0, 0, 0, 0, 0, 0, 0, 0, 0, 0, 0, 0, 0, 0, 0, 0, 0, 0, 0, 0, 0, 0, 0, 0, 0, 0, 0, 0, 0, 0, 0, 0, 0, 0, 0, 0, 0, 0, 0, 0, 0, 0, 0, 0, 0, 0, 0, 0, 0, 0, 0, 0, 0, 0, 0, 0, 0, 0, 0, 0, 0, 0, 0, 0, 0, 0, 0, 0, 0, 0, 0, 0, 0, 0, 0, 0, 0, 0, 0, 0, 0, 0, 0, 0, 0, 0, 0, 0, 0, 0, 0, 0, 0, 0, 0, 0, 0, 0, 0, 0, 0, 0, 0, 0, 0, 0, 0, 0, 0, 0, 0, 0, 0, 0, 0, 0, 0, 0, 0, 0, 0, 0, 0, 0, 0, 0, 0, 0, 0, 0, 0, 0, 0, 0, 0, 0, 0, 0, 0, 0, 0, 0, 0, 0, 0, 0, 0, 0, 0, 0, 0, 0, 0, 0, 0, 0, 0, 0, 0, 0, 0, 0, 0, 0, 0, 0, 0, 0, 0, 0, 0, 0, 0, 0, 0, 0, 0, 0, 0, 0, 0, 0, 0, 0, 0, 0, 0, 0, 0, 0, 0, 0, 0, 0, 0, 0, 0, 0, 0, 0, 0, 0, 0, 0, 0, 0, 0, 0, 0, 0, 0, 0, 0, 0, 0, 0, 0, 0, 0, 0, 0, 0, 0, 0, 0, 0, 0, 0, 0, 0, 0, 0, 0, 0, 0, 0, 0, 0, 0, 0, 0, 0, 0, 0, 0, 0, 0, 0, 0, 0, 0, 0, 0, 0, 0, 0, 0, 0, 0, 0, 0, 0, 0, 0, 0, 0, 0, 0, 0, 0, 0, 0, 0, 0, 0, 0, 0, 0, 0, 0, 0, 0, 0, 0, 0, 0, 0, 0, 0, 0, 0, 0, 0, 0, 0, 0, 0, 0, 0, 0, 0, 0, 0, 0, 0, 0, 0, 0, 0, 0, 0, 0, 0, 0, 0, 0, 0, 0, 0, 0, 0, 0, 0, 0, 0, 0, 0, 0, 0, 0, 0, 0, 0, 0, 0, 0, 0, 0, 0, 0, 0, 0, 0, 0, 0, 0, 0, 0, 0, 0, 0, 0, 0, 0, 0, 0, 0, 0, 0, 0, 0, 0, 0, 0, 0, 0, 0, 0, 0, 0, 0, 0, 0, 0, 0, 0, 0, 0, 0, 0, 0, 0, 0, 0, 0, 0, 0, 0, 0, 0, 0, 0, 0, 0, 0, 0, 0, 0, 0, 0, 0, 0, 0, 0, 0, 0, 0, 0, 0, 0, 0, 0, 0, 0, 0, 0, 0, 0, 0, 0, 0, 0, 0, 0, 0, 0, 0, 0, 0, 0, 0, 0, 0, 0, 0, 0, 0, 0, 0, 0, 0, 0, 0, 0, 0, 0, 0, 0, 0, 0, 0, 0, 0, 0, 0, 0, 0, 0, 0, 0, 0, 0, 0, 0, 0, 0, 0, 0, 0, 0, 0, 0, 0, 0, 0, 0, 0, 0, 0, 0, 0, 0, 0, 0, 0, 0, 0, 0, 0, 0, 0, 0, 0, 0, 0, 0, 0, 0, 0, 0, 0, 0, 0, 0, 0, 0, 0, 0, 0, 0, 0, 0, 0, 0, 0, 0, 0, 0, 0, 0, 0, 0, 1, 0, 0, 0, 0, 0, 0, 0, 0, 0, 0, 0, 0, 0, 0, 0, 0, 0, 0, 0, 0, 0, 0, 0, 0, 0, 0, 0, 0, 0, 0, 0, 0, 0, 0, 0, 0, 0, 0, 0, 0, 0, 0, 0, 0, 0, 0, 0, 0, 0, 0, 0, 0, 0, 0, 0, 0, 0, 0, 0, 0, 0, 0, 0, 0, 0, 0, 0, 0, 0, 0, 0, 0, 0, 0, 0, 0, 0, 0, 0, 0, 0, 0, 0, 0, 0, 0, 0, 0, 0, 0, 0, 0, 0, 0, 0, 0, 0, 0, 0, 0, 0, 0, 0, 0, 0, 0, 0, 1, 0, 0, 0, 0, 0, 0, 0, 0, 0, 0, 0, 0, 0, 0, 0, 0, 0, 0, 0, 0, 0, 0, 0, 0, 0, 0, 0, 0, 0, 0, 0, 0, 0, 0, 0, 0, 0, 0, 0, 0, 0, 0, 0, 0, 0, 0, 0, 0, 0, 0, 0, 0, 0, 0, 0, 0, 0, 0, 0, 0, 0, 0, 0, 0, 0, 0, 0, 0, 0, 0, 0, 0, 0, 0, 0, 0, 0, 0, 0, 0, 0, 0, 0, 0, 0, 0, 0, 0, 0, 0, 0, 0, 0, 0, 0, 0, 0, 0, 0, 0, 0, 0, 0, 0, 0, 0, 0, 0, 0, 0, 0, 0, 0, 0, 0, 0, 0, 0, 0, 0, 0, 0, 0, 0, 0, 0, 0, 0, 0, 0, 0, 0, 0, 0, 0, 0, 0, 0, 0, 0, 0, 0, 0, 0, 0, 0, 0, 0, 0, 0, 0, 0, 0, 0, 0, 0, 0, 0, 0, 0, 0, 0, 0, 0, 0, 0, 0, 0, 0, 0, 0, 0, 0, 0, 0, 0, 0, 0, 0, 0, 0, 0, 0, 0, 0, 0, 0, 0, 0, 0, 0, 0, 0, 0, 0, 0, 0, 0, 0, 0, 0, 0, 0, 0, 0, 0, 0, 0, 0, 0, 0, 0, 0, 0, 0, 0, 0, 0, 0, 0, 0, 0, 0, 0, 0, 0, 0, 0, 0, 0, 0, 0, 0, 0, 0, 0, 0, 0, 0, 0, 0, 0, 0, 0, 0, 0, 0, 0, 0, 0, 0, 0, 0, 0, 0, 0, 0, 0, 0, 0, 0, 0, 0, 0, 0, 0, 0, 0, 0, 0, 0, 0, 0, 0, 0, 0, 0, 0, 0, 0, 0, 0, 0, 0, 0, 0, 0, 0, 0, 0, 0, 0, 0, 0, 0, 0, 0, 0, 0, 0, 0, 0, 0, 0, 0, 0, 0, 0, 0, 0, 0, 0, 0, 0, 0, 0, 0, 0, 0, 0, 0, 0, 0, 0, 0, 0, 0, 0, 0, 0, 0, 0, 0, 0, 0, 0, 0, 0, 0, 0, 0, 0, 0, 0, 0, 0, 0, 0, 0, 0, 0, 0, 0, 0, 0, 0, 0, 0, 0, 0, 0, 0, 0, 0, 0, 0, 0, 0, 0, 0, 0, 0, 0, 0, 0, 0, 0, 0, 0, 0, 0, 0, 0, 0, 0, 0, 0, 0, 0, 0, 0, 0, 0, 0, 0, 0, 0, 0, 0, 0, 0, 0, 0, 0, 0, 0, 0, 0, 0, 0, 0, 0, 0, 0, 0, 0, 0, 0, 0, 0, 0, 0, 0, 0, 0, 0, 0, 0, 0, 0, 0, 0, 0, 0, 0, 0, 0, 0, 0, 0, 0, 0, 0, 0, 0, 0, 0, 0, 0, 0, 0, 0, 0, 0, 0, 0, 0, 0, 0, 0, 0, 0, 0, 0, 0, 2, 0, 1, 0]\n"
     ]
    }
   ],
   "source": [
    "test_bow = bow_encoding(test_words, vocabulary)\n",
    "print(test_bow)"
   ]
  },
  {
   "cell_type": "code",
   "execution_count": 44,
   "metadata": {},
   "outputs": [
    {
     "data": {
      "text/plain": [
       "5000"
      ]
     },
     "execution_count": 44,
     "metadata": {},
     "output_type": "execute_result"
    }
   ],
   "source": [
    "len(test_bow)"
   ]
  },
  {
   "cell_type": "markdown",
   "metadata": {},
   "source": [
    "So now we know how to construct a bag of words encoding of a user provided review, how to we send it to our endpoint? First, we need to start the endpoint back up."
   ]
  },
  {
   "cell_type": "code",
   "execution_count": 45,
   "metadata": {},
   "outputs": [
    {
     "name": "stderr",
     "output_type": "stream",
     "text": [
      "Parameter image will be renamed to image_uri in SageMaker Python SDK v2.\n",
      "Using already existing model: xgboost-2021-02-27-16-55-55-400\n"
     ]
    },
    {
     "name": "stdout",
     "output_type": "stream",
     "text": [
      "---------------!"
     ]
    }
   ],
   "source": [
    "xgb_predictor = xgb.deploy(initial_instance_count = 1, instance_type = 'ml.m4.xlarge')"
   ]
  },
  {
   "cell_type": "markdown",
   "metadata": {},
   "source": [
    "At this point we could just do the same thing that we did earlier when we tested our deployed model and send `test_bow` to our endpoint using the `xgb_predictor` object. However, when we eventually construct our Lambda function we won't have access to this object, so how do we call a SageMaker endpoint?\n",
    "\n",
    "It turns out that Python functions that are used in Lambda have access to another Amazon library called `boto3`. This library provides an API for working with Amazon services, including SageMaker. To start with, we need to get a handle to the SageMaker runtime."
   ]
  },
  {
   "cell_type": "code",
   "execution_count": 46,
   "metadata": {},
   "outputs": [],
   "source": [
    "import boto3\n",
    "\n",
    "runtime = boto3.Session().client('sagemaker-runtime')"
   ]
  },
  {
   "cell_type": "markdown",
   "metadata": {},
   "source": [
    "And now that we have access to the SageMaker runtime, we can ask it to make use of (invoke) an endpoint that has already been created. However, we need to provide SageMaker with the name of the deployed endpoint. To find this out we can print it out using the `xgb_predictor` object."
   ]
  },
  {
   "cell_type": "code",
   "execution_count": 47,
   "metadata": {},
   "outputs": [
    {
     "data": {
      "text/plain": [
       "'xgboost-2021-02-27-16-55-55-400'"
      ]
     },
     "execution_count": 47,
     "metadata": {},
     "output_type": "execute_result"
    }
   ],
   "source": [
    "xgb_predictor.endpoint"
   ]
  },
  {
   "cell_type": "markdown",
   "metadata": {},
   "source": [
    "Using the SageMaker runtime and the name of our endpoint, we can invoke the endpoint and send it the `test_bow` data."
   ]
  },
  {
   "cell_type": "code",
   "execution_count": 48,
   "metadata": {},
   "outputs": [
    {
     "ename": "ParamValidationError",
     "evalue": "Parameter validation failed:\nInvalid type for parameter Body, value: [0, 0, 0, 0, 0, 0, 0, 0, 0, 0, 0, 0, 0, 0, 0, 0, 0, 0, 0, 0, 0, 0, 0, 0, 0, 0, 0, 0, 0, 0, 0, 0, 0, 0, 0, 0, 0, 0, 0, 0, 0, 0, 0, 0, 0, 0, 0, 0, 0, 0, 0, 0, 0, 0, 0, 0, 0, 0, 0, 0, 0, 0, 0, 0, 0, 0, 0, 0, 0, 0, 0, 0, 0, 0, 0, 0, 0, 0, 0, 0, 0, 0, 0, 0, 0, 0, 0, 0, 0, 0, 0, 0, 0, 0, 0, 0, 0, 0, 0, 0, 0, 0, 0, 0, 0, 0, 0, 0, 0, 0, 0, 0, 0, 0, 0, 0, 0, 0, 0, 0, 0, 0, 0, 0, 0, 0, 0, 0, 0, 0, 0, 0, 0, 0, 0, 0, 0, 0, 0, 0, 0, 0, 0, 0, 0, 0, 0, 0, 0, 0, 0, 0, 0, 0, 0, 0, 0, 0, 0, 0, 0, 0, 0, 0, 0, 0, 0, 0, 0, 0, 0, 0, 0, 0, 0, 0, 0, 0, 0, 0, 0, 0, 0, 0, 0, 0, 0, 0, 0, 0, 0, 0, 0, 0, 0, 0, 0, 0, 0, 0, 0, 0, 0, 0, 0, 0, 0, 0, 0, 0, 0, 0, 0, 0, 0, 0, 0, 0, 0, 0, 0, 0, 0, 0, 0, 0, 1, 0, 0, 0, 0, 0, 0, 0, 0, 0, 0, 0, 0, 0, 0, 0, 0, 0, 0, 0, 0, 0, 0, 0, 0, 0, 0, 0, 0, 1, 0, 0, 0, 0, 0, 0, 0, 0, 0, 0, 0, 0, 0, 0, 0, 0, 0, 0, 0, 0, 0, 0, 0, 0, 0, 0, 0, 0, 0, 0, 0, 0, 0, 0, 0, 0, 0, 0, 0, 0, 0, 0, 0, 0, 0, 0, 0, 0, 0, 0, 0, 0, 0, 0, 0, 0, 0, 0, 0, 0, 0, 0, 0, 0, 0, 0, 0, 0, 0, 0, 0, 0, 0, 0, 0, 0, 0, 0, 0, 0, 0, 0, 0, 0, 0, 0, 0, 0, 0, 0, 0, 0, 0, 0, 0, 0, 0, 0, 0, 0, 0, 0, 0, 0, 0, 0, 0, 0, 0, 0, 0, 0, 0, 0, 0, 0, 0, 0, 0, 0, 0, 0, 0, 0, 0, 0, 0, 0, 0, 0, 0, 0, 0, 0, 0, 0, 0, 0, 0, 0, 0, 0, 0, 0, 0, 0, 0, 0, 0, 0, 0, 0, 0, 0, 0, 0, 0, 0, 0, 0, 0, 0, 0, 0, 0, 0, 0, 0, 0, 0, 0, 0, 0, 0, 0, 0, 0, 0, 0, 0, 0, 0, 0, 0, 0, 0, 0, 0, 0, 0, 0, 0, 0, 0, 0, 0, 0, 0, 0, 0, 0, 0, 0, 0, 0, 0, 0, 0, 0, 0, 0, 0, 0, 0, 0, 0, 0, 0, 0, 0, 0, 0, 0, 0, 0, 0, 0, 0, 0, 0, 0, 0, 0, 0, 0, 0, 0, 0, 0, 0, 0, 0, 0, 0, 0, 0, 0, 0, 0, 0, 0, 0, 0, 0, 0, 0, 0, 0, 0, 0, 0, 0, 0, 0, 0, 0, 0, 0, 0, 0, 0, 0, 0, 0, 0, 0, 0, 0, 0, 0, 0, 0, 0, 0, 0, 0, 0, 0, 0, 0, 0, 0, 0, 0, 0, 0, 0, 0, 0, 0, 0, 0, 0, 0, 0, 0, 0, 0, 0, 0, 0, 0, 0, 0, 0, 0, 0, 0, 0, 0, 0, 0, 0, 0, 0, 0, 0, 0, 0, 0, 0, 0, 0, 0, 0, 0, 0, 0, 0, 0, 0, 0, 0, 0, 0, 0, 0, 0, 0, 0, 0, 0, 0, 0, 0, 0, 0, 0, 0, 0, 0, 0, 0, 0, 0, 0, 0, 0, 0, 0, 0, 0, 0, 0, 0, 0, 0, 0, 0, 1, 0, 0, 0, 0, 0, 0, 0, 0, 0, 0, 0, 0, 0, 0, 0, 0, 0, 0, 0, 0, 0, 0, 0, 0, 0, 0, 0, 0, 0, 0, 0, 0, 0, 0, 0, 0, 0, 0, 0, 0, 0, 0, 0, 0, 0, 0, 0, 0, 0, 0, 0, 0, 0, 0, 0, 0, 0, 0, 0, 0, 0, 0, 0, 0, 0, 0, 0, 0, 0, 0, 0, 0, 0, 0, 0, 0, 0, 0, 0, 0, 0, 0, 0, 0, 0, 0, 0, 0, 0, 0, 0, 0, 0, 0, 0, 0, 0, 0, 0, 0, 0, 0, 0, 0, 0, 0, 0, 0, 0, 0, 0, 0, 0, 0, 0, 0, 0, 0, 0, 0, 0, 0, 0, 0, 0, 0, 0, 0, 0, 0, 0, 0, 0, 0, 0, 0, 0, 0, 0, 0, 0, 0, 0, 0, 0, 0, 0, 0, 0, 0, 0, 0, 0, 0, 0, 0, 0, 0, 0, 0, 0, 0, 0, 0, 0, 0, 0, 0, 0, 0, 0, 0, 0, 0, 0, 0, 0, 0, 0, 0, 0, 0, 0, 0, 0, 0, 0, 0, 0, 0, 0, 0, 0, 0, 0, 0, 0, 0, 0, 0, 0, 0, 0, 0, 0, 0, 0, 0, 0, 0, 0, 0, 0, 0, 0, 0, 0, 0, 0, 0, 0, 0, 0, 0, 0, 0, 0, 0, 0, 0, 0, 0, 0, 0, 0, 0, 0, 0, 0, 0, 0, 0, 0, 0, 0, 0, 0, 0, 0, 0, 0, 0, 0, 1, 0, 0, 0, 0, 0, 0, 0, 0, 0, 0, 0, 0, 0, 0, 0, 0, 0, 0, 0, 0, 0, 0, 0, 0, 0, 0, 0, 0, 0, 0, 0, 0, 0, 0, 0, 0, 0, 0, 0, 0, 0, 0, 0, 0, 0, 0, 0, 0, 0, 0, 0, 0, 0, 0, 0, 0, 0, 0, 0, 0, 0, 0, 0, 0, 0, 0, 0, 0, 0, 0, 0, 0, 0, 0, 0, 0, 0, 0, 0, 0, 0, 0, 0, 0, 0, 0, 1, 0, 0, 0, 0, 0, 0, 0, 0, 0, 0, 0, 0, 0, 0, 0, 0, 0, 0, 0, 0, 0, 0, 0, 0, 0, 0, 0, 0, 0, 0, 0, 0, 0, 0, 0, 0, 0, 0, 0, 0, 0, 0, 0, 0, 0, 0, 0, 0, 0, 0, 0, 0, 0, 0, 0, 0, 0, 0, 0, 0, 0, 0, 0, 0, 0, 0, 0, 0, 0, 0, 0, 0, 0, 0, 0, 0, 0, 0, 0, 0, 0, 0, 0, 0, 0, 0, 0, 0, 0, 0, 0, 0, 0, 0, 0, 0, 0, 0, 0, 0, 0, 0, 0, 0, 0, 0, 0, 0, 0, 0, 0, 0, 0, 0, 0, 0, 0, 0, 0, 0, 0, 0, 0, 0, 0, 0, 0, 0, 0, 0, 0, 0, 0, 0, 0, 0, 0, 0, 0, 0, 0, 0, 0, 0, 0, 0, 0, 0, 0, 0, 0, 0, 0, 0, 0, 0, 0, 0, 0, 0, 0, 0, 0, 0, 0, 0, 0, 0, 0, 0, 0, 0, 0, 0, 0, 0, 0, 0, 0, 0, 0, 0, 0, 0, 0, 0, 0, 0, 0, 0, 0, 0, 0, 0, 0, 0, 0, 0, 0, 0, 0, 0, 0, 0, 0, 0, 0, 0, 0, 0, 0, 0, 0, 0, 0, 0, 0, 0, 0, 0, 0, 0, 0, 0, 0, 0, 0, 0, 0, 0, 0, 0, 0, 0, 0, 0, 0, 0, 0, 0, 0, 0, 0, 0, 0, 0, 0, 0, 0, 0, 1, 0, 0, 0, 0, 0, 0, 0, 0, 0, 0, 0, 0, 0, 0, 0, 0, 0, 0, 0, 0, 0, 0, 0, 0, 0, 0, 0, 0, 0, 0, 0, 0, 0, 0, 0, 0, 0, 0, 0, 0, 0, 0, 0, 0, 0, 0, 0, 0, 0, 0, 0, 0, 0, 0, 0, 1, 0, 0, 0, 0, 0, 0, 0, 0, 0, 0, 0, 0, 0, 0, 0, 0, 0, 0, 0, 0, 0, 0, 0, 0, 0, 0, 0, 0, 0, 0, 0, 0, 0, 0, 0, 0, 0, 0, 0, 0, 0, 0, 0, 0, 0, 0, 0, 0, 0, 0, 0, 0, 0, 0, 0, 0, 0, 0, 0, 0, 0, 0, 0, 0, 0, 0, 0, 0, 0, 0, 0, 0, 0, 0, 0, 0, 0, 0, 0, 0, 0, 0, 0, 0, 0, 0, 0, 0, 0, 0, 0, 0, 0, 0, 0, 0, 0, 0, 0, 0, 0, 0, 0, 0, 0, 0, 0, 0, 0, 0, 0, 0, 0, 0, 0, 0, 0, 0, 0, 0, 0, 0, 0, 0, 0, 0, 0, 0, 0, 0, 0, 0, 0, 0, 0, 0, 0, 0, 0, 0, 0, 0, 0, 0, 0, 0, 0, 0, 0, 0, 0, 0, 0, 0, 0, 0, 0, 0, 0, 0, 0, 0, 0, 0, 0, 0, 0, 0, 0, 0, 0, 0, 0, 0, 0, 0, 0, 0, 0, 0, 0, 0, 0, 0, 0, 0, 0, 0, 0, 0, 0, 0, 0, 0, 0, 0, 0, 0, 0, 0, 0, 0, 0, 0, 0, 0, 0, 0, 0, 0, 0, 0, 0, 0, 0, 0, 0, 0, 0, 0, 0, 0, 0, 0, 0, 0, 0, 0, 0, 0, 0, 0, 0, 0, 0, 0, 0, 0, 0, 0, 0, 0, 0, 0, 0, 0, 0, 0, 0, 0, 0, 0, 0, 0, 0, 0, 0, 0, 0, 0, 0, 0, 0, 0, 0, 0, 0, 0, 0, 0, 0, 0, 0, 0, 0, 0, 0, 0, 0, 0, 0, 0, 0, 0, 0, 0, 0, 0, 0, 0, 0, 0, 0, 0, 0, 0, 0, 0, 0, 0, 0, 0, 0, 0, 0, 0, 0, 0, 0, 0, 0, 0, 0, 0, 0, 0, 0, 0, 0, 0, 0, 0, 0, 0, 0, 0, 0, 0, 0, 0, 0, 0, 0, 0, 0, 0, 0, 0, 0, 0, 0, 0, 0, 0, 0, 0, 0, 0, 0, 0, 0, 0, 0, 0, 0, 0, 0, 0, 0, 0, 0, 0, 0, 0, 0, 0, 0, 0, 0, 0, 0, 0, 0, 0, 0, 0, 0, 0, 0, 0, 0, 0, 0, 0, 0, 0, 0, 0, 0, 0, 0, 0, 0, 0, 0, 0, 0, 0, 0, 0, 0, 0, 0, 0, 0, 0, 0, 0, 0, 0, 0, 0, 0, 0, 0, 0, 0, 0, 0, 0, 0, 0, 0, 0, 0, 0, 0, 0, 0, 0, 0, 0, 0, 0, 0, 0, 0, 0, 0, 0, 0, 0, 0, 0, 0, 0, 0, 0, 0, 0, 0, 0, 0, 0, 0, 0, 0, 0, 0, 0, 0, 0, 0, 0, 0, 0, 0, 0, 0, 0, 0, 0, 0, 0, 0, 0, 0, 0, 0, 0, 0, 0, 0, 0, 0, 0, 0, 0, 0, 0, 0, 0, 0, 0, 0, 0, 0, 0, 0, 0, 0, 0, 0, 0, 0, 0, 0, 0, 0, 0, 0, 0, 0, 0, 0, 0, 0, 0, 0, 0, 0, 0, 0, 0, 0, 0, 0, 0, 0, 0, 0, 0, 0, 0, 0, 0, 0, 0, 0, 0, 0, 0, 0, 0, 0, 0, 0, 0, 0, 0, 0, 0, 0, 0, 0, 0, 0, 0, 0, 0, 0, 0, 0, 0, 0, 0, 0, 0, 0, 0, 0, 0, 0, 0, 0, 0, 0, 0, 0, 0, 0, 0, 0, 0, 0, 0, 0, 0, 0, 0, 0, 0, 0, 0, 0, 0, 0, 0, 0, 0, 0, 0, 0, 0, 0, 0, 0, 0, 0, 0, 0, 0, 0, 0, 0, 0, 0, 0, 0, 0, 0, 0, 0, 0, 0, 0, 0, 0, 0, 0, 0, 0, 0, 0, 0, 0, 0, 0, 0, 0, 0, 0, 0, 0, 0, 0, 0, 0, 0, 0, 0, 0, 0, 0, 0, 0, 0, 0, 0, 0, 0, 0, 0, 0, 0, 0, 0, 0, 0, 0, 0, 0, 0, 0, 0, 0, 0, 0, 0, 0, 0, 0, 1, 0, 0, 0, 0, 0, 0, 0, 0, 0, 0, 0, 0, 0, 0, 0, 0, 0, 0, 0, 0, 0, 0, 0, 0, 0, 0, 0, 0, 0, 0, 0, 0, 0, 0, 0, 0, 0, 0, 0, 0, 0, 0, 0, 0, 0, 0, 0, 0, 0, 0, 0, 0, 0, 0, 0, 0, 0, 0, 0, 0, 0, 0, 0, 0, 0, 0, 0, 0, 0, 0, 0, 0, 0, 0, 1, 0, 0, 0, 0, 0, 0, 0, 0, 0, 0, 0, 0, 0, 0, 0, 0, 0, 0, 0, 0, 1, 0, 0, 1, 0, 0, 0, 0, 0, 0, 0, 0, 0, 0, 0, 0, 0, 0, 0, 0, 0, 0, 0, 0, 0, 0, 0, 0, 0, 0, 0, 0, 0, 0, 0, 0, 0, 0, 0, 0, 0, 0, 0, 0, 0, 0, 0, 0, 0, 0, 0, 0, 0, 0, 0, 0, 0, 0, 0, 0, 0, 0, 0, 0, 0, 0, 0, 0, 0, 0, 0, 0, 0, 0, 0, 0, 0, 0, 0, 0, 0, 0, 0, 0, 0, 0, 0, 0, 0, 0, 0, 0, 0, 0, 0, 0, 0, 0, 0, 0, 0, 0, 0, 0, 0, 0, 0, 0, 0, 0, 0, 0, 0, 0, 0, 0, 0, 0, 0, 0, 0, 0, 0, 0, 0, 0, 0, 0, 0, 0, 0, 0, 0, 0, 0, 0, 0, 0, 0, 0, 0, 0, 0, 0, 0, 0, 0, 0, 0, 0, 0, 0, 0, 0, 0, 0, 0, 0, 0, 0, 0, 0, 0, 0, 0, 0, 0, 0, 0, 0, 0, 0, 0, 0, 0, 0, 0, 0, 0, 0, 0, 0, 0, 0, 0, 0, 0, 0, 0, 0, 0, 0, 0, 0, 0, 0, 0, 0, 0, 0, 0, 0, 0, 0, 0, 0, 0, 0, 0, 0, 0, 0, 0, 0, 0, 0, 0, 0, 0, 0, 0, 0, 0, 0, 0, 0, 0, 0, 0, 0, 0, 0, 0, 0, 0, 0, 0, 0, 0, 0, 0, 0, 0, 0, 0, 0, 0, 0, 0, 0, 0, 0, 0, 0, 0, 0, 0, 0, 0, 0, 0, 0, 0, 0, 0, 0, 0, 0, 0, 0, 0, 0, 0, 0, 0, 0, 0, 0, 0, 0, 0, 0, 0, 0, 0, 0, 0, 0, 0, 0, 0, 0, 0, 0, 0, 0, 0, 0, 0, 0, 0, 0, 0, 0, 0, 0, 0, 0, 0, 0, 0, 0, 0, 0, 0, 0, 0, 0, 0, 0, 0, 0, 0, 0, 0, 0, 0, 0, 0, 0, 0, 0, 0, 0, 0, 0, 0, 0, 0, 0, 0, 0, 0, 0, 0, 0, 0, 0, 0, 0, 0, 0, 0, 0, 0, 0, 0, 0, 0, 0, 0, 0, 0, 0, 0, 0, 0, 0, 0, 0, 0, 0, 0, 0, 0, 0, 0, 0, 0, 0, 0, 0, 0, 0, 0, 0, 0, 0, 0, 0, 0, 0, 0, 0, 0, 0, 0, 0, 0, 0, 0, 0, 0, 0, 0, 0, 0, 0, 0, 0, 0, 0, 0, 0, 0, 0, 0, 0, 0, 0, 0, 0, 0, 0, 0, 0, 0, 0, 0, 0, 0, 0, 0, 0, 0, 0, 0, 0, 0, 0, 0, 0, 0, 0, 0, 0, 0, 0, 0, 0, 0, 0, 0, 0, 0, 0, 0, 0, 0, 0, 0, 0, 0, 0, 0, 0, 0, 0, 0, 0, 1, 0, 0, 0, 0, 0, 0, 0, 0, 0, 0, 0, 0, 0, 0, 0, 0, 0, 0, 0, 0, 0, 0, 0, 0, 0, 0, 0, 0, 0, 0, 0, 0, 0, 0, 0, 0, 0, 0, 0, 0, 0, 0, 0, 0, 0, 0, 0, 0, 0, 0, 0, 0, 0, 0, 0, 0, 0, 0, 0, 0, 0, 0, 0, 0, 0, 0, 0, 0, 0, 0, 0, 0, 0, 0, 0, 0, 0, 0, 0, 0, 0, 0, 0, 0, 0, 0, 0, 0, 0, 0, 0, 0, 0, 0, 0, 0, 0, 0, 0, 0, 0, 0, 0, 0, 0, 0, 0, 0, 0, 0, 0, 0, 0, 0, 0, 0, 0, 0, 0, 0, 0, 0, 0, 0, 0, 0, 0, 0, 0, 0, 0, 0, 0, 0, 0, 0, 0, 0, 0, 0, 0, 0, 0, 0, 0, 0, 0, 0, 0, 0, 0, 0, 0, 0, 0, 0, 0, 0, 0, 0, 0, 0, 0, 0, 0, 0, 0, 0, 0, 0, 0, 0, 0, 0, 0, 0, 0, 0, 0, 0, 0, 0, 0, 0, 0, 0, 0, 0, 0, 0, 0, 0, 0, 0, 0, 0, 0, 0, 0, 0, 0, 0, 0, 0, 0, 0, 0, 0, 0, 0, 0, 0, 0, 0, 0, 0, 0, 0, 0, 0, 0, 0, 0, 0, 0, 0, 0, 0, 0, 0, 0, 0, 0, 0, 0, 0, 0, 0, 0, 0, 0, 0, 0, 0, 0, 0, 0, 0, 0, 0, 0, 0, 0, 0, 0, 0, 0, 0, 0, 0, 0, 0, 0, 0, 0, 0, 0, 0, 0, 0, 0, 0, 0, 0, 0, 0, 0, 0, 0, 0, 0, 0, 0, 0, 0, 0, 0, 0, 0, 0, 0, 0, 0, 0, 0, 0, 0, 0, 0, 0, 0, 0, 0, 0, 0, 0, 0, 0, 0, 0, 0, 0, 0, 0, 0, 0, 0, 0, 0, 0, 0, 0, 0, 0, 0, 0, 0, 0, 0, 0, 0, 0, 0, 0, 0, 0, 0, 0, 0, 0, 0, 0, 0, 0, 0, 0, 0, 0, 0, 0, 0, 0, 0, 0, 0, 0, 0, 0, 0, 0, 0, 0, 0, 0, 0, 0, 0, 0, 0, 0, 0, 0, 0, 0, 0, 0, 0, 0, 0, 0, 0, 0, 0, 0, 0, 0, 0, 0, 0, 0, 0, 0, 0, 0, 0, 0, 0, 0, 0, 0, 0, 0, 0, 0, 0, 0, 0, 0, 0, 0, 0, 0, 0, 0, 0, 0, 0, 0, 0, 0, 0, 0, 0, 0, 0, 0, 0, 0, 0, 0, 0, 0, 0, 0, 0, 0, 0, 0, 0, 0, 0, 0, 0, 0, 0, 0, 0, 0, 0, 0, 0, 0, 0, 0, 0, 0, 0, 0, 0, 0, 0, 0, 0, 0, 0, 0, 0, 0, 0, 0, 0, 0, 0, 0, 0, 0, 0, 0, 0, 0, 0, 0, 0, 0, 0, 0, 0, 0, 0, 0, 0, 0, 0, 0, 0, 0, 0, 0, 0, 0, 0, 0, 0, 0, 0, 0, 0, 0, 0, 0, 0, 1, 0, 0, 0, 0, 0, 0, 0, 0, 0, 0, 0, 0, 0, 0, 0, 0, 0, 0, 0, 0, 0, 0, 0, 0, 0, 0, 0, 0, 0, 0, 0, 0, 0, 0, 0, 2, 0, 0, 0, 0, 0, 0, 0, 0, 0, 0, 0, 0, 0, 0, 0, 0, 0, 0, 0, 0, 0, 0, 0, 0, 0, 0, 0, 0, 0, 0, 0, 0, 0, 0, 0, 0, 0, 0, 0, 0, 1, 0, 0, 0, 0, 0, 0, 0, 0, 0, 0, 0, 0, 0, 0, 0, 0, 0, 0, 0, 0, 0, 0, 0, 0, 0, 0, 0, 0, 0, 0, 0, 0, 0, 0, 0, 0, 0, 0, 0, 0, 0, 0, 0, 0, 0, 0, 0, 0, 0, 0, 0, 0, 0, 0, 0, 0, 0, 0, 0, 0, 0, 0, 0, 0, 0, 0, 0, 0, 0, 0, 0, 0, 0, 0, 0, 0, 0, 0, 0, 0, 0, 0, 0, 0, 0, 0, 0, 0, 0, 0, 0, 0, 0, 0, 0, 0, 0, 0, 0, 0, 0, 0, 0, 0, 0, 0, 0, 0, 0, 0, 0, 0, 0, 0, 0, 0, 0, 0, 0, 0, 0, 0, 0, 0, 0, 0, 0, 0, 0, 0, 0, 0, 0, 0, 0, 0, 0, 0, 0, 0, 0, 0, 0, 0, 0, 0, 0, 0, 0, 0, 0, 0, 0, 0, 0, 0, 0, 0, 0, 0, 0, 0, 0, 0, 0, 0, 0, 0, 0, 0, 0, 0, 0, 0, 0, 0, 0, 0, 0, 0, 0, 0, 0, 0, 0, 0, 0, 0, 0, 0, 0, 0, 0, 0, 0, 0, 0, 0, 0, 0, 0, 0, 0, 0, 0, 0, 0, 0, 0, 0, 0, 0, 0, 0, 0, 0, 0, 0, 0, 0, 0, 0, 0, 0, 0, 0, 0, 0, 0, 0, 0, 0, 0, 0, 0, 0, 0, 0, 0, 0, 0, 0, 0, 0, 0, 0, 0, 0, 0, 0, 0, 0, 0, 0, 0, 0, 0, 0, 0, 0, 0, 0, 0, 0, 0, 0, 0, 0, 0, 0, 0, 0, 0, 0, 0, 0, 0, 0, 0, 0, 0, 0, 0, 0, 0, 0, 0, 0, 0, 0, 0, 0, 0, 0, 0, 0, 0, 0, 0, 0, 0, 0, 0, 0, 0, 0, 0, 0, 0, 0, 0, 0, 0, 0, 0, 0, 0, 0, 0, 0, 0, 0, 0, 0, 0, 0, 0, 0, 0, 0, 0, 0, 0, 0, 0, 0, 0, 0, 0, 0, 0, 0, 0, 0, 0, 0, 0, 0, 0, 0, 0, 0, 0, 0, 0, 0, 0, 0, 0, 0, 0, 0, 0, 0, 0, 0, 0, 0, 0, 0, 0, 0, 0, 0, 0, 0, 0, 0, 0, 0, 0, 0, 0, 0, 0, 0, 0, 0, 0, 0, 0, 0, 0, 0, 0, 0, 0, 0, 0, 0, 0, 0, 0, 0, 0, 0, 0, 0, 0, 0, 0, 0, 0, 0, 0, 0, 0, 0, 0, 0, 0, 0, 0, 0, 0, 0, 0, 0, 0, 0, 0, 0, 0, 0, 0, 0, 0, 0, 0, 0, 0, 0, 0, 0, 0, 0, 0, 0, 0, 0, 0, 0, 0, 0, 0, 0, 0, 0, 0, 0, 0, 0, 0, 0, 0, 0, 0, 0, 0, 0, 0, 0, 0, 0, 0, 0, 0, 0, 0, 0, 0, 0, 0, 0, 0, 0, 0, 0, 0, 0, 0, 0, 0, 0, 0, 0, 0, 0, 1, 0, 0, 0, 0, 0, 0, 0, 0, 0, 0, 0, 0, 0, 0, 0, 0, 0, 0, 0, 0, 0, 0, 0, 0, 0, 0, 0, 0, 0, 0, 0, 0, 0, 0, 0, 0, 0, 0, 0, 0, 0, 0, 0, 0, 0, 0, 0, 0, 0, 0, 0, 0, 0, 0, 0, 0, 0, 0, 0, 0, 0, 0, 0, 0, 0, 0, 0, 0, 0, 0, 0, 0, 0, 0, 0, 0, 0, 0, 0, 0, 0, 0, 0, 0, 0, 0, 0, 0, 0, 0, 0, 0, 0, 0, 0, 0, 0, 0, 0, 0, 0, 0, 0, 0, 0, 0, 0, 0, 0, 2, 0, 0, 0, 0, 0, 0, 0, 0, 0, 0, 0, 0, 0, 0, 0, 0, 0, 0, 0, 0, 0, 0, 0, 0, 0, 0, 0, 0, 0, 0, 0, 0, 0, 0, 0, 0, 0, 0, 0, 0, 0, 0, 0, 0, 0, 0, 0, 0, 0, 0, 0, 0, 0, 0, 0, 0, 0, 0, 0, 0, 0, 0, 0, 0, 0, 0, 0, 0, 0, 0, 0, 0, 0, 0, 0, 0, 0, 0, 0, 0, 0, 0, 0, 0, 0, 0, 0, 0, 0, 0, 0, 0, 0, 0, 0, 0, 0, 0, 0, 0, 0, 0, 0, 0, 0, 0, 0, 0, 0, 0, 0, 0, 0, 0, 0, 0, 0, 0, 0, 0, 0, 0, 0, 0, 0, 0, 0, 0, 0, 0, 0, 0, 0, 0, 0, 0, 0, 0, 0, 0, 0, 0, 0, 0, 0, 0, 0, 0, 0, 0, 0, 0, 0, 0, 0, 0, 0, 0, 0, 0, 0, 0, 0, 0, 0, 0, 0, 0, 0, 0, 0, 0, 0, 0, 0, 0, 0, 0, 0, 0, 0, 0, 0, 0, 0, 0, 0, 0, 0, 0, 0, 0, 0, 0, 0, 0, 0, 0, 0, 0, 0, 0, 0, 0, 0, 0, 0, 0, 0, 0, 0, 0, 0, 0, 0, 0, 0, 0, 0, 0, 0, 0, 0, 0, 0, 0, 0, 0, 0, 0, 0, 0, 0, 0, 0, 0, 0, 0, 0, 0, 0, 0, 0, 0, 0, 0, 0, 0, 0, 0, 0, 0, 0, 0, 0, 0, 0, 0, 0, 0, 0, 0, 0, 0, 0, 0, 0, 0, 0, 0, 0, 0, 0, 0, 0, 0, 0, 0, 0, 0, 0, 0, 0, 0, 0, 0, 0, 0, 0, 0, 0, 0, 0, 0, 0, 0, 0, 0, 0, 0, 0, 0, 0, 0, 0, 0, 0, 0, 0, 0, 0, 0, 0, 0, 0, 0, 0, 0, 0, 0, 0, 0, 0, 0, 0, 0, 0, 0, 0, 0, 0, 0, 0, 0, 0, 0, 0, 0, 0, 0, 0, 0, 0, 0, 0, 0, 0, 0, 0, 0, 0, 0, 0, 0, 0, 0, 0, 0, 0, 0, 0, 0, 0, 0, 0, 0, 0, 0, 0, 0, 0, 0, 0, 0, 0, 0, 0, 0, 0, 0, 0, 0, 0, 0, 0, 0, 0, 0, 0, 0, 0, 0, 0, 0, 0, 0, 0, 0, 0, 0, 0, 0, 0, 0, 0, 0, 0, 0, 0, 0, 0, 0, 0, 0, 0, 0, 0, 0, 0, 0, 0, 0, 0, 0, 0, 0, 0, 0, 0, 0, 0, 0, 0, 0, 0, 0, 0, 0, 0, 0, 0, 0, 0, 0, 0, 0, 0, 0, 0, 0, 0, 0, 0, 0, 0, 0, 0, 0, 0, 0, 0, 0, 0, 0, 0, 0, 0, 0, 0, 0, 0, 0, 0, 0, 0, 0, 0, 0, 0, 0, 0, 0, 0, 0, 0, 0, 0, 0, 0, 0, 0, 0, 0, 0, 0, 0, 0, 0, 0, 0, 0, 0, 0, 0, 0, 0, 0, 0, 0, 0, 0, 0, 0, 0, 0, 0, 0, 0, 0, 0, 0, 0, 0, 0, 0, 0, 0, 0, 0, 0, 0, 0, 0, 0, 0, 0, 0, 0, 0, 0, 0, 0, 0, 0, 0, 0, 0, 0, 0, 0, 0, 0, 0, 0, 0, 0, 0, 0, 0, 0, 0, 0, 0, 0, 0, 0, 0, 0, 0, 0, 0, 0, 0, 0, 0, 0, 0, 0, 0, 0, 0, 0, 0, 0, 0, 0, 0, 0, 0, 0, 0, 0, 0, 0, 0, 0, 0, 0, 0, 0, 0, 0, 0, 0, 0, 0, 0, 0, 0, 0, 0, 0, 0, 0, 0, 0, 0, 0, 0, 0, 0, 0, 0, 0, 0, 0, 0, 0, 0, 0, 0, 0, 0, 0, 0, 0, 0, 0, 0, 0, 0, 0, 0, 0, 0, 0, 0, 0, 0, 0, 0, 0, 0, 0, 0, 0, 0, 0, 0, 0, 0, 0, 0, 0, 0, 0, 0, 0, 0, 0, 0, 0, 0, 0, 0, 0, 0, 0, 0, 0, 0, 0, 0, 0, 0, 0, 0, 0, 0, 0, 0, 1, 0, 0, 0, 0, 0, 0, 0, 0, 0, 0, 0, 0, 0, 0, 0, 0, 0, 0, 0, 0, 0, 0, 0, 0, 0, 0, 0, 0, 0, 0, 0, 0, 0, 0, 0, 0, 0, 0, 0, 0, 0, 0, 0, 0, 0, 0, 0, 0, 0, 0, 0, 0, 0, 0, 0, 0, 0, 0, 0, 0, 0, 0, 0, 0, 0, 0, 0, 0, 0, 0, 0, 0, 0, 0, 0, 0, 0, 0, 0, 0, 0, 0, 0, 0, 0, 0, 0, 0, 0, 0, 0, 0, 0, 0, 0, 0, 0, 0, 0, 0, 0, 0, 0, 0, 0, 0, 0, 1, 0, 0, 0, 0, 0, 0, 0, 0, 0, 0, 0, 0, 0, 0, 0, 0, 0, 0, 0, 0, 0, 0, 0, 0, 0, 0, 0, 0, 0, 0, 0, 0, 0, 0, 0, 0, 0, 0, 0, 0, 0, 0, 0, 0, 0, 0, 0, 0, 0, 0, 0, 0, 0, 0, 0, 0, 0, 0, 0, 0, 0, 0, 0, 0, 0, 0, 0, 0, 0, 0, 0, 0, 0, 0, 0, 0, 0, 0, 0, 0, 0, 0, 0, 0, 0, 0, 0, 0, 0, 0, 0, 0, 0, 0, 0, 0, 0, 0, 0, 0, 0, 0, 0, 0, 0, 0, 0, 0, 0, 0, 0, 0, 0, 0, 0, 0, 0, 0, 0, 0, 0, 0, 0, 0, 0, 0, 0, 0, 0, 0, 0, 0, 0, 0, 0, 0, 0, 0, 0, 0, 0, 0, 0, 0, 0, 0, 0, 0, 0, 0, 0, 0, 0, 0, 0, 0, 0, 0, 0, 0, 0, 0, 0, 0, 0, 0, 0, 0, 0, 0, 0, 0, 0, 0, 0, 0, 0, 0, 0, 0, 0, 0, 0, 0, 0, 0, 0, 0, 0, 0, 0, 0, 0, 0, 0, 0, 0, 0, 0, 0, 0, 0, 0, 0, 0, 0, 0, 0, 0, 0, 0, 0, 0, 0, 0, 0, 0, 0, 0, 0, 0, 0, 0, 0, 0, 0, 0, 0, 0, 0, 0, 0, 0, 0, 0, 0, 0, 0, 0, 0, 0, 0, 0, 0, 0, 0, 0, 0, 0, 0, 0, 0, 0, 0, 0, 0, 0, 0, 0, 0, 0, 0, 0, 0, 0, 0, 0, 0, 0, 0, 0, 0, 0, 0, 0, 0, 0, 0, 0, 0, 0, 0, 0, 0, 0, 0, 0, 0, 0, 0, 0, 0, 0, 0, 0, 0, 0, 0, 0, 0, 0, 0, 0, 0, 0, 0, 0, 0, 0, 0, 0, 0, 0, 0, 0, 0, 0, 0, 0, 0, 0, 0, 0, 0, 0, 0, 0, 0, 0, 0, 0, 0, 0, 0, 0, 0, 0, 0, 0, 0, 0, 0, 0, 0, 0, 0, 0, 0, 0, 0, 0, 0, 0, 0, 0, 0, 0, 0, 0, 0, 0, 0, 0, 0, 0, 0, 0, 0, 0, 0, 0, 0, 0, 0, 0, 0, 0, 0, 0, 0, 0, 0, 0, 0, 0, 0, 0, 0, 0, 0, 0, 0, 0, 0, 0, 0, 0, 0, 0, 0, 0, 0, 0, 0, 0, 0, 0, 0, 0, 0, 0, 0, 0, 0, 0, 0, 0, 0, 0, 0, 0, 0, 0, 0, 0, 0, 0, 0, 0, 0, 0, 0, 0, 0, 0, 0, 0, 0, 0, 0, 0, 0, 0, 0, 0, 0, 0, 0, 0, 0, 0, 0, 0, 0, 0, 0, 0, 0, 0, 0, 0, 0, 0, 0, 0, 2, 0, 1, 0], type: <class 'list'>, valid types: <class 'bytes'>, <class 'bytearray'>, file-like object",
     "output_type": "error",
     "traceback": [
      "\u001b[0;31m---------------------------------------------------------------------------\u001b[0m",
      "\u001b[0;31mParamValidationError\u001b[0m                      Traceback (most recent call last)",
      "\u001b[0;32m<ipython-input-48-c9ab54ae3a48>\u001b[0m in \u001b[0;36m<module>\u001b[0;34m\u001b[0m\n\u001b[1;32m      1\u001b[0m response = runtime.invoke_endpoint(EndpointName = xgb_predictor.endpoint, # The name of the endpoint we created\n\u001b[1;32m      2\u001b[0m                                        \u001b[0mContentType\u001b[0m \u001b[0;34m=\u001b[0m \u001b[0;34m'text/csv'\u001b[0m\u001b[0;34m,\u001b[0m                     \u001b[0;31m# The data format that is expected\u001b[0m\u001b[0;34m\u001b[0m\u001b[0;34m\u001b[0m\u001b[0m\n\u001b[0;32m----> 3\u001b[0;31m                                        Body = test_bow)\n\u001b[0m",
      "\u001b[0;32m~/anaconda3/envs/python3/lib/python3.6/site-packages/botocore/client.py\u001b[0m in \u001b[0;36m_api_call\u001b[0;34m(self, *args, **kwargs)\u001b[0m\n\u001b[1;32m    355\u001b[0m                     \"%s() only accepts keyword arguments.\" % py_operation_name)\n\u001b[1;32m    356\u001b[0m             \u001b[0;31m# The \"self\" in this scope is referring to the BaseClient.\u001b[0m\u001b[0;34m\u001b[0m\u001b[0;34m\u001b[0m\u001b[0;34m\u001b[0m\u001b[0m\n\u001b[0;32m--> 357\u001b[0;31m             \u001b[0;32mreturn\u001b[0m \u001b[0mself\u001b[0m\u001b[0;34m.\u001b[0m\u001b[0m_make_api_call\u001b[0m\u001b[0;34m(\u001b[0m\u001b[0moperation_name\u001b[0m\u001b[0;34m,\u001b[0m \u001b[0mkwargs\u001b[0m\u001b[0;34m)\u001b[0m\u001b[0;34m\u001b[0m\u001b[0;34m\u001b[0m\u001b[0m\n\u001b[0m\u001b[1;32m    358\u001b[0m \u001b[0;34m\u001b[0m\u001b[0m\n\u001b[1;32m    359\u001b[0m         \u001b[0m_api_call\u001b[0m\u001b[0;34m.\u001b[0m\u001b[0m__name__\u001b[0m \u001b[0;34m=\u001b[0m \u001b[0mstr\u001b[0m\u001b[0;34m(\u001b[0m\u001b[0mpy_operation_name\u001b[0m\u001b[0;34m)\u001b[0m\u001b[0;34m\u001b[0m\u001b[0;34m\u001b[0m\u001b[0m\n",
      "\u001b[0;32m~/anaconda3/envs/python3/lib/python3.6/site-packages/botocore/client.py\u001b[0m in \u001b[0;36m_make_api_call\u001b[0;34m(self, operation_name, api_params)\u001b[0m\n\u001b[1;32m    647\u001b[0m         }\n\u001b[1;32m    648\u001b[0m         request_dict = self._convert_to_request_dict(\n\u001b[0;32m--> 649\u001b[0;31m             api_params, operation_model, context=request_context)\n\u001b[0m\u001b[1;32m    650\u001b[0m \u001b[0;34m\u001b[0m\u001b[0m\n\u001b[1;32m    651\u001b[0m         \u001b[0mservice_id\u001b[0m \u001b[0;34m=\u001b[0m \u001b[0mself\u001b[0m\u001b[0;34m.\u001b[0m\u001b[0m_service_model\u001b[0m\u001b[0;34m.\u001b[0m\u001b[0mservice_id\u001b[0m\u001b[0;34m.\u001b[0m\u001b[0mhyphenize\u001b[0m\u001b[0;34m(\u001b[0m\u001b[0;34m)\u001b[0m\u001b[0;34m\u001b[0m\u001b[0;34m\u001b[0m\u001b[0m\n",
      "\u001b[0;32m~/anaconda3/envs/python3/lib/python3.6/site-packages/botocore/client.py\u001b[0m in \u001b[0;36m_convert_to_request_dict\u001b[0;34m(self, api_params, operation_model, context)\u001b[0m\n\u001b[1;32m    695\u001b[0m             api_params, operation_model, context)\n\u001b[1;32m    696\u001b[0m         request_dict = self._serializer.serialize_to_request(\n\u001b[0;32m--> 697\u001b[0;31m             api_params, operation_model)\n\u001b[0m\u001b[1;32m    698\u001b[0m         \u001b[0;32mif\u001b[0m \u001b[0;32mnot\u001b[0m \u001b[0mself\u001b[0m\u001b[0;34m.\u001b[0m\u001b[0m_client_config\u001b[0m\u001b[0;34m.\u001b[0m\u001b[0minject_host_prefix\u001b[0m\u001b[0;34m:\u001b[0m\u001b[0;34m\u001b[0m\u001b[0;34m\u001b[0m\u001b[0m\n\u001b[1;32m    699\u001b[0m             \u001b[0mrequest_dict\u001b[0m\u001b[0;34m.\u001b[0m\u001b[0mpop\u001b[0m\u001b[0;34m(\u001b[0m\u001b[0;34m'host_prefix'\u001b[0m\u001b[0;34m,\u001b[0m \u001b[0;32mNone\u001b[0m\u001b[0;34m)\u001b[0m\u001b[0;34m\u001b[0m\u001b[0;34m\u001b[0m\u001b[0m\n",
      "\u001b[0;32m~/anaconda3/envs/python3/lib/python3.6/site-packages/botocore/validate.py\u001b[0m in \u001b[0;36mserialize_to_request\u001b[0;34m(self, parameters, operation_model)\u001b[0m\n\u001b[1;32m    291\u001b[0m                                                     operation_model.input_shape)\n\u001b[1;32m    292\u001b[0m             \u001b[0;32mif\u001b[0m \u001b[0mreport\u001b[0m\u001b[0;34m.\u001b[0m\u001b[0mhas_errors\u001b[0m\u001b[0;34m(\u001b[0m\u001b[0;34m)\u001b[0m\u001b[0;34m:\u001b[0m\u001b[0;34m\u001b[0m\u001b[0;34m\u001b[0m\u001b[0m\n\u001b[0;32m--> 293\u001b[0;31m                 \u001b[0;32mraise\u001b[0m \u001b[0mParamValidationError\u001b[0m\u001b[0;34m(\u001b[0m\u001b[0mreport\u001b[0m\u001b[0;34m=\u001b[0m\u001b[0mreport\u001b[0m\u001b[0;34m.\u001b[0m\u001b[0mgenerate_report\u001b[0m\u001b[0;34m(\u001b[0m\u001b[0;34m)\u001b[0m\u001b[0;34m)\u001b[0m\u001b[0;34m\u001b[0m\u001b[0;34m\u001b[0m\u001b[0m\n\u001b[0m\u001b[1;32m    294\u001b[0m         return self._serializer.serialize_to_request(parameters,\n\u001b[1;32m    295\u001b[0m                                                      operation_model)\n",
      "\u001b[0;31mParamValidationError\u001b[0m: Parameter validation failed:\nInvalid type for parameter Body, value: [0, 0, 0, 0, 0, 0, 0, 0, 0, 0, 0, 0, 0, 0, 0, 0, 0, 0, 0, 0, 0, 0, 0, 0, 0, 0, 0, 0, 0, 0, 0, 0, 0, 0, 0, 0, 0, 0, 0, 0, 0, 0, 0, 0, 0, 0, 0, 0, 0, 0, 0, 0, 0, 0, 0, 0, 0, 0, 0, 0, 0, 0, 0, 0, 0, 0, 0, 0, 0, 0, 0, 0, 0, 0, 0, 0, 0, 0, 0, 0, 0, 0, 0, 0, 0, 0, 0, 0, 0, 0, 0, 0, 0, 0, 0, 0, 0, 0, 0, 0, 0, 0, 0, 0, 0, 0, 0, 0, 0, 0, 0, 0, 0, 0, 0, 0, 0, 0, 0, 0, 0, 0, 0, 0, 0, 0, 0, 0, 0, 0, 0, 0, 0, 0, 0, 0, 0, 0, 0, 0, 0, 0, 0, 0, 0, 0, 0, 0, 0, 0, 0, 0, 0, 0, 0, 0, 0, 0, 0, 0, 0, 0, 0, 0, 0, 0, 0, 0, 0, 0, 0, 0, 0, 0, 0, 0, 0, 0, 0, 0, 0, 0, 0, 0, 0, 0, 0, 0, 0, 0, 0, 0, 0, 0, 0, 0, 0, 0, 0, 0, 0, 0, 0, 0, 0, 0, 0, 0, 0, 0, 0, 0, 0, 0, 0, 0, 0, 0, 0, 0, 0, 0, 0, 0, 0, 0, 1, 0, 0, 0, 0, 0, 0, 0, 0, 0, 0, 0, 0, 0, 0, 0, 0, 0, 0, 0, 0, 0, 0, 0, 0, 0, 0, 0, 0, 1, 0, 0, 0, 0, 0, 0, 0, 0, 0, 0, 0, 0, 0, 0, 0, 0, 0, 0, 0, 0, 0, 0, 0, 0, 0, 0, 0, 0, 0, 0, 0, 0, 0, 0, 0, 0, 0, 0, 0, 0, 0, 0, 0, 0, 0, 0, 0, 0, 0, 0, 0, 0, 0, 0, 0, 0, 0, 0, 0, 0, 0, 0, 0, 0, 0, 0, 0, 0, 0, 0, 0, 0, 0, 0, 0, 0, 0, 0, 0, 0, 0, 0, 0, 0, 0, 0, 0, 0, 0, 0, 0, 0, 0, 0, 0, 0, 0, 0, 0, 0, 0, 0, 0, 0, 0, 0, 0, 0, 0, 0, 0, 0, 0, 0, 0, 0, 0, 0, 0, 0, 0, 0, 0, 0, 0, 0, 0, 0, 0, 0, 0, 0, 0, 0, 0, 0, 0, 0, 0, 0, 0, 0, 0, 0, 0, 0, 0, 0, 0, 0, 0, 0, 0, 0, 0, 0, 0, 0, 0, 0, 0, 0, 0, 0, 0, 0, 0, 0, 0, 0, 0, 0, 0, 0, 0, 0, 0, 0, 0, 0, 0, 0, 0, 0, 0, 0, 0, 0, 0, 0, 0, 0, 0, 0, 0, 0, 0, 0, 0, 0, 0, 0, 0, 0, 0, 0, 0, 0, 0, 0, 0, 0, 0, 0, 0, 0, 0, 0, 0, 0, 0, 0, 0, 0, 0, 0, 0, 0, 0, 0, 0, 0, 0, 0, 0, 0, 0, 0, 0, 0, 0, 0, 0, 0, 0, 0, 0, 0, 0, 0, 0, 0, 0, 0, 0, 0, 0, 0, 0, 0, 0, 0, 0, 0, 0, 0, 0, 0, 0, 0, 0, 0, 0, 0, 0, 0, 0, 0, 0, 0, 0, 0, 0, 0, 0, 0, 0, 0, 0, 0, 0, 0, 0, 0, 0, 0, 0, 0, 0, 0, 0, 0, 0, 0, 0, 0, 0, 0, 0, 0, 0, 0, 0, 0, 0, 0, 0, 0, 0, 0, 0, 0, 0, 0, 0, 0, 0, 0, 0, 0, 0, 0, 0, 0, 0, 0, 0, 0, 0, 0, 0, 0, 0, 0, 0, 0, 0, 0, 0, 0, 0, 0, 0, 0, 0, 0, 0, 0, 0, 0, 0, 0, 0, 0, 0, 0, 0, 0, 0, 0, 0, 0, 0, 0, 0, 0, 0, 0, 0, 1, 0, 0, 0, 0, 0, 0, 0, 0, 0, 0, 0, 0, 0, 0, 0, 0, 0, 0, 0, 0, 0, 0, 0, 0, 0, 0, 0, 0, 0, 0, 0, 0, 0, 0, 0, 0, 0, 0, 0, 0, 0, 0, 0, 0, 0, 0, 0, 0, 0, 0, 0, 0, 0, 0, 0, 0, 0, 0, 0, 0, 0, 0, 0, 0, 0, 0, 0, 0, 0, 0, 0, 0, 0, 0, 0, 0, 0, 0, 0, 0, 0, 0, 0, 0, 0, 0, 0, 0, 0, 0, 0, 0, 0, 0, 0, 0, 0, 0, 0, 0, 0, 0, 0, 0, 0, 0, 0, 0, 0, 0, 0, 0, 0, 0, 0, 0, 0, 0, 0, 0, 0, 0, 0, 0, 0, 0, 0, 0, 0, 0, 0, 0, 0, 0, 0, 0, 0, 0, 0, 0, 0, 0, 0, 0, 0, 0, 0, 0, 0, 0, 0, 0, 0, 0, 0, 0, 0, 0, 0, 0, 0, 0, 0, 0, 0, 0, 0, 0, 0, 0, 0, 0, 0, 0, 0, 0, 0, 0, 0, 0, 0, 0, 0, 0, 0, 0, 0, 0, 0, 0, 0, 0, 0, 0, 0, 0, 0, 0, 0, 0, 0, 0, 0, 0, 0, 0, 0, 0, 0, 0, 0, 0, 0, 0, 0, 0, 0, 0, 0, 0, 0, 0, 0, 0, 0, 0, 0, 0, 0, 0, 0, 0, 0, 0, 0, 0, 0, 0, 0, 0, 0, 0, 0, 0, 0, 0, 0, 0, 0, 0, 0, 0, 0, 1, 0, 0, 0, 0, 0, 0, 0, 0, 0, 0, 0, 0, 0, 0, 0, 0, 0, 0, 0, 0, 0, 0, 0, 0, 0, 0, 0, 0, 0, 0, 0, 0, 0, 0, 0, 0, 0, 0, 0, 0, 0, 0, 0, 0, 0, 0, 0, 0, 0, 0, 0, 0, 0, 0, 0, 0, 0, 0, 0, 0, 0, 0, 0, 0, 0, 0, 0, 0, 0, 0, 0, 0, 0, 0, 0, 0, 0, 0, 0, 0, 0, 0, 0, 0, 0, 0, 1, 0, 0, 0, 0, 0, 0, 0, 0, 0, 0, 0, 0, 0, 0, 0, 0, 0, 0, 0, 0, 0, 0, 0, 0, 0, 0, 0, 0, 0, 0, 0, 0, 0, 0, 0, 0, 0, 0, 0, 0, 0, 0, 0, 0, 0, 0, 0, 0, 0, 0, 0, 0, 0, 0, 0, 0, 0, 0, 0, 0, 0, 0, 0, 0, 0, 0, 0, 0, 0, 0, 0, 0, 0, 0, 0, 0, 0, 0, 0, 0, 0, 0, 0, 0, 0, 0, 0, 0, 0, 0, 0, 0, 0, 0, 0, 0, 0, 0, 0, 0, 0, 0, 0, 0, 0, 0, 0, 0, 0, 0, 0, 0, 0, 0, 0, 0, 0, 0, 0, 0, 0, 0, 0, 0, 0, 0, 0, 0, 0, 0, 0, 0, 0, 0, 0, 0, 0, 0, 0, 0, 0, 0, 0, 0, 0, 0, 0, 0, 0, 0, 0, 0, 0, 0, 0, 0, 0, 0, 0, 0, 0, 0, 0, 0, 0, 0, 0, 0, 0, 0, 0, 0, 0, 0, 0, 0, 0, 0, 0, 0, 0, 0, 0, 0, 0, 0, 0, 0, 0, 0, 0, 0, 0, 0, 0, 0, 0, 0, 0, 0, 0, 0, 0, 0, 0, 0, 0, 0, 0, 0, 0, 0, 0, 0, 0, 0, 0, 0, 0, 0, 0, 0, 0, 0, 0, 0, 0, 0, 0, 0, 0, 0, 0, 0, 0, 0, 0, 0, 0, 0, 0, 0, 0, 0, 0, 0, 0, 0, 0, 0, 1, 0, 0, 0, 0, 0, 0, 0, 0, 0, 0, 0, 0, 0, 0, 0, 0, 0, 0, 0, 0, 0, 0, 0, 0, 0, 0, 0, 0, 0, 0, 0, 0, 0, 0, 0, 0, 0, 0, 0, 0, 0, 0, 0, 0, 0, 0, 0, 0, 0, 0, 0, 0, 0, 0, 0, 1, 0, 0, 0, 0, 0, 0, 0, 0, 0, 0, 0, 0, 0, 0, 0, 0, 0, 0, 0, 0, 0, 0, 0, 0, 0, 0, 0, 0, 0, 0, 0, 0, 0, 0, 0, 0, 0, 0, 0, 0, 0, 0, 0, 0, 0, 0, 0, 0, 0, 0, 0, 0, 0, 0, 0, 0, 0, 0, 0, 0, 0, 0, 0, 0, 0, 0, 0, 0, 0, 0, 0, 0, 0, 0, 0, 0, 0, 0, 0, 0, 0, 0, 0, 0, 0, 0, 0, 0, 0, 0, 0, 0, 0, 0, 0, 0, 0, 0, 0, 0, 0, 0, 0, 0, 0, 0, 0, 0, 0, 0, 0, 0, 0, 0, 0, 0, 0, 0, 0, 0, 0, 0, 0, 0, 0, 0, 0, 0, 0, 0, 0, 0, 0, 0, 0, 0, 0, 0, 0, 0, 0, 0, 0, 0, 0, 0, 0, 0, 0, 0, 0, 0, 0, 0, 0, 0, 0, 0, 0, 0, 0, 0, 0, 0, 0, 0, 0, 0, 0, 0, 0, 0, 0, 0, 0, 0, 0, 0, 0, 0, 0, 0, 0, 0, 0, 0, 0, 0, 0, 0, 0, 0, 0, 0, 0, 0, 0, 0, 0, 0, 0, 0, 0, 0, 0, 0, 0, 0, 0, 0, 0, 0, 0, 0, 0, 0, 0, 0, 0, 0, 0, 0, 0, 0, 0, 0, 0, 0, 0, 0, 0, 0, 0, 0, 0, 0, 0, 0, 0, 0, 0, 0, 0, 0, 0, 0, 0, 0, 0, 0, 0, 0, 0, 0, 0, 0, 0, 0, 0, 0, 0, 0, 0, 0, 0, 0, 0, 0, 0, 0, 0, 0, 0, 0, 0, 0, 0, 0, 0, 0, 0, 0, 0, 0, 0, 0, 0, 0, 0, 0, 0, 0, 0, 0, 0, 0, 0, 0, 0, 0, 0, 0, 0, 0, 0, 0, 0, 0, 0, 0, 0, 0, 0, 0, 0, 0, 0, 0, 0, 0, 0, 0, 0, 0, 0, 0, 0, 0, 0, 0, 0, 0, 0, 0, 0, 0, 0, 0, 0, 0, 0, 0, 0, 0, 0, 0, 0, 0, 0, 0, 0, 0, 0, 0, 0, 0, 0, 0, 0, 0, 0, 0, 0, 0, 0, 0, 0, 0, 0, 0, 0, 0, 0, 0, 0, 0, 0, 0, 0, 0, 0, 0, 0, 0, 0, 0, 0, 0, 0, 0, 0, 0, 0, 0, 0, 0, 0, 0, 0, 0, 0, 0, 0, 0, 0, 0, 0, 0, 0, 0, 0, 0, 0, 0, 0, 0, 0, 0, 0, 0, 0, 0, 0, 0, 0, 0, 0, 0, 0, 0, 0, 0, 0, 0, 0, 0, 0, 0, 0, 0, 0, 0, 0, 0, 0, 0, 0, 0, 0, 0, 0, 0, 0, 0, 0, 0, 0, 0, 0, 0, 0, 0, 0, 0, 0, 0, 0, 0, 0, 0, 0, 0, 0, 0, 0, 0, 0, 0, 0, 0, 0, 0, 0, 0, 0, 0, 0, 0, 0, 0, 0, 0, 0, 0, 0, 0, 0, 0, 0, 0, 0, 0, 0, 0, 0, 0, 0, 0, 0, 0, 0, 0, 0, 0, 0, 0, 0, 0, 0, 0, 0, 0, 0, 0, 0, 0, 0, 0, 0, 0, 0, 0, 0, 0, 0, 0, 0, 0, 0, 0, 0, 0, 0, 0, 0, 0, 0, 0, 0, 0, 0, 0, 0, 0, 0, 0, 0, 0, 0, 0, 0, 0, 0, 0, 0, 0, 0, 0, 0, 0, 0, 0, 0, 0, 0, 0, 0, 0, 0, 0, 0, 0, 0, 0, 0, 0, 0, 0, 0, 0, 0, 0, 0, 0, 0, 0, 0, 0, 0, 0, 0, 0, 0, 0, 0, 0, 0, 0, 0, 0, 0, 0, 0, 0, 0, 0, 0, 0, 0, 0, 0, 0, 0, 0, 0, 0, 0, 0, 0, 0, 0, 0, 0, 0, 0, 0, 0, 0, 0, 0, 0, 0, 0, 0, 0, 0, 0, 0, 0, 0, 0, 0, 0, 0, 0, 0, 0, 0, 0, 0, 0, 0, 0, 0, 0, 0, 0, 0, 0, 0, 0, 0, 0, 0, 0, 0, 0, 0, 0, 0, 0, 0, 1, 0, 0, 0, 0, 0, 0, 0, 0, 0, 0, 0, 0, 0, 0, 0, 0, 0, 0, 0, 0, 0, 0, 0, 0, 0, 0, 0, 0, 0, 0, 0, 0, 0, 0, 0, 0, 0, 0, 0, 0, 0, 0, 0, 0, 0, 0, 0, 0, 0, 0, 0, 0, 0, 0, 0, 0, 0, 0, 0, 0, 0, 0, 0, 0, 0, 0, 0, 0, 0, 0, 0, 0, 0, 0, 1, 0, 0, 0, 0, 0, 0, 0, 0, 0, 0, 0, 0, 0, 0, 0, 0, 0, 0, 0, 0, 1, 0, 0, 1, 0, 0, 0, 0, 0, 0, 0, 0, 0, 0, 0, 0, 0, 0, 0, 0, 0, 0, 0, 0, 0, 0, 0, 0, 0, 0, 0, 0, 0, 0, 0, 0, 0, 0, 0, 0, 0, 0, 0, 0, 0, 0, 0, 0, 0, 0, 0, 0, 0, 0, 0, 0, 0, 0, 0, 0, 0, 0, 0, 0, 0, 0, 0, 0, 0, 0, 0, 0, 0, 0, 0, 0, 0, 0, 0, 0, 0, 0, 0, 0, 0, 0, 0, 0, 0, 0, 0, 0, 0, 0, 0, 0, 0, 0, 0, 0, 0, 0, 0, 0, 0, 0, 0, 0, 0, 0, 0, 0, 0, 0, 0, 0, 0, 0, 0, 0, 0, 0, 0, 0, 0, 0, 0, 0, 0, 0, 0, 0, 0, 0, 0, 0, 0, 0, 0, 0, 0, 0, 0, 0, 0, 0, 0, 0, 0, 0, 0, 0, 0, 0, 0, 0, 0, 0, 0, 0, 0, 0, 0, 0, 0, 0, 0, 0, 0, 0, 0, 0, 0, 0, 0, 0, 0, 0, 0, 0, 0, 0, 0, 0, 0, 0, 0, 0, 0, 0, 0, 0, 0, 0, 0, 0, 0, 0, 0, 0, 0, 0, 0, 0, 0, 0, 0, 0, 0, 0, 0, 0, 0, 0, 0, 0, 0, 0, 0, 0, 0, 0, 0, 0, 0, 0, 0, 0, 0, 0, 0, 0, 0, 0, 0, 0, 0, 0, 0, 0, 0, 0, 0, 0, 0, 0, 0, 0, 0, 0, 0, 0, 0, 0, 0, 0, 0, 0, 0, 0, 0, 0, 0, 0, 0, 0, 0, 0, 0, 0, 0, 0, 0, 0, 0, 0, 0, 0, 0, 0, 0, 0, 0, 0, 0, 0, 0, 0, 0, 0, 0, 0, 0, 0, 0, 0, 0, 0, 0, 0, 0, 0, 0, 0, 0, 0, 0, 0, 0, 0, 0, 0, 0, 0, 0, 0, 0, 0, 0, 0, 0, 0, 0, 0, 0, 0, 0, 0, 0, 0, 0, 0, 0, 0, 0, 0, 0, 0, 0, 0, 0, 0, 0, 0, 0, 0, 0, 0, 0, 0, 0, 0, 0, 0, 0, 0, 0, 0, 0, 0, 0, 0, 0, 0, 0, 0, 0, 0, 0, 0, 0, 0, 0, 0, 0, 0, 0, 0, 0, 0, 0, 0, 0, 0, 0, 0, 0, 0, 0, 0, 0, 0, 0, 0, 0, 0, 0, 0, 0, 0, 0, 0, 0, 0, 0, 0, 0, 0, 0, 0, 0, 0, 0, 0, 0, 0, 0, 0, 0, 0, 0, 0, 0, 0, 0, 0, 0, 0, 0, 0, 0, 0, 0, 0, 0, 0, 0, 0, 0, 0, 0, 0, 0, 0, 0, 0, 0, 0, 0, 0, 0, 0, 0, 0, 0, 0, 0, 0, 0, 0, 0, 0, 0, 0, 0, 0, 0, 0, 0, 0, 1, 0, 0, 0, 0, 0, 0, 0, 0, 0, 0, 0, 0, 0, 0, 0, 0, 0, 0, 0, 0, 0, 0, 0, 0, 0, 0, 0, 0, 0, 0, 0, 0, 0, 0, 0, 0, 0, 0, 0, 0, 0, 0, 0, 0, 0, 0, 0, 0, 0, 0, 0, 0, 0, 0, 0, 0, 0, 0, 0, 0, 0, 0, 0, 0, 0, 0, 0, 0, 0, 0, 0, 0, 0, 0, 0, 0, 0, 0, 0, 0, 0, 0, 0, 0, 0, 0, 0, 0, 0, 0, 0, 0, 0, 0, 0, 0, 0, 0, 0, 0, 0, 0, 0, 0, 0, 0, 0, 0, 0, 0, 0, 0, 0, 0, 0, 0, 0, 0, 0, 0, 0, 0, 0, 0, 0, 0, 0, 0, 0, 0, 0, 0, 0, 0, 0, 0, 0, 0, 0, 0, 0, 0, 0, 0, 0, 0, 0, 0, 0, 0, 0, 0, 0, 0, 0, 0, 0, 0, 0, 0, 0, 0, 0, 0, 0, 0, 0, 0, 0, 0, 0, 0, 0, 0, 0, 0, 0, 0, 0, 0, 0, 0, 0, 0, 0, 0, 0, 0, 0, 0, 0, 0, 0, 0, 0, 0, 0, 0, 0, 0, 0, 0, 0, 0, 0, 0, 0, 0, 0, 0, 0, 0, 0, 0, 0, 0, 0, 0, 0, 0, 0, 0, 0, 0, 0, 0, 0, 0, 0, 0, 0, 0, 0, 0, 0, 0, 0, 0, 0, 0, 0, 0, 0, 0, 0, 0, 0, 0, 0, 0, 0, 0, 0, 0, 0, 0, 0, 0, 0, 0, 0, 0, 0, 0, 0, 0, 0, 0, 0, 0, 0, 0, 0, 0, 0, 0, 0, 0, 0, 0, 0, 0, 0, 0, 0, 0, 0, 0, 0, 0, 0, 0, 0, 0, 0, 0, 0, 0, 0, 0, 0, 0, 0, 0, 0, 0, 0, 0, 0, 0, 0, 0, 0, 0, 0, 0, 0, 0, 0, 0, 0, 0, 0, 0, 0, 0, 0, 0, 0, 0, 0, 0, 0, 0, 0, 0, 0, 0, 0, 0, 0, 0, 0, 0, 0, 0, 0, 0, 0, 0, 0, 0, 0, 0, 0, 0, 0, 0, 0, 0, 0, 0, 0, 0, 0, 0, 0, 0, 0, 0, 0, 0, 0, 0, 0, 0, 0, 0, 0, 0, 0, 0, 0, 0, 0, 0, 0, 0, 0, 0, 0, 0, 0, 0, 0, 0, 0, 0, 0, 0, 0, 0, 0, 0, 0, 0, 0, 0, 0, 0, 0, 0, 0, 0, 0, 0, 0, 0, 0, 0, 0, 0, 0, 0, 0, 0, 0, 0, 0, 0, 0, 0, 0, 0, 0, 0, 0, 0, 0, 0, 0, 0, 0, 0, 0, 0, 0, 0, 0, 0, 0, 0, 0, 0, 0, 0, 0, 0, 0, 0, 0, 0, 0, 0, 0, 0, 0, 0, 0, 0, 0, 0, 0, 0, 0, 0, 0, 0, 0, 0, 0, 0, 0, 0, 0, 0, 0, 0, 0, 0, 0, 0, 0, 0, 0, 0, 0, 0, 0, 0, 0, 0, 0, 0, 0, 0, 0, 0, 0, 0, 0, 1, 0, 0, 0, 0, 0, 0, 0, 0, 0, 0, 0, 0, 0, 0, 0, 0, 0, 0, 0, 0, 0, 0, 0, 0, 0, 0, 0, 0, 0, 0, 0, 0, 0, 0, 0, 2, 0, 0, 0, 0, 0, 0, 0, 0, 0, 0, 0, 0, 0, 0, 0, 0, 0, 0, 0, 0, 0, 0, 0, 0, 0, 0, 0, 0, 0, 0, 0, 0, 0, 0, 0, 0, 0, 0, 0, 0, 1, 0, 0, 0, 0, 0, 0, 0, 0, 0, 0, 0, 0, 0, 0, 0, 0, 0, 0, 0, 0, 0, 0, 0, 0, 0, 0, 0, 0, 0, 0, 0, 0, 0, 0, 0, 0, 0, 0, 0, 0, 0, 0, 0, 0, 0, 0, 0, 0, 0, 0, 0, 0, 0, 0, 0, 0, 0, 0, 0, 0, 0, 0, 0, 0, 0, 0, 0, 0, 0, 0, 0, 0, 0, 0, 0, 0, 0, 0, 0, 0, 0, 0, 0, 0, 0, 0, 0, 0, 0, 0, 0, 0, 0, 0, 0, 0, 0, 0, 0, 0, 0, 0, 0, 0, 0, 0, 0, 0, 0, 0, 0, 0, 0, 0, 0, 0, 0, 0, 0, 0, 0, 0, 0, 0, 0, 0, 0, 0, 0, 0, 0, 0, 0, 0, 0, 0, 0, 0, 0, 0, 0, 0, 0, 0, 0, 0, 0, 0, 0, 0, 0, 0, 0, 0, 0, 0, 0, 0, 0, 0, 0, 0, 0, 0, 0, 0, 0, 0, 0, 0, 0, 0, 0, 0, 0, 0, 0, 0, 0, 0, 0, 0, 0, 0, 0, 0, 0, 0, 0, 0, 0, 0, 0, 0, 0, 0, 0, 0, 0, 0, 0, 0, 0, 0, 0, 0, 0, 0, 0, 0, 0, 0, 0, 0, 0, 0, 0, 0, 0, 0, 0, 0, 0, 0, 0, 0, 0, 0, 0, 0, 0, 0, 0, 0, 0, 0, 0, 0, 0, 0, 0, 0, 0, 0, 0, 0, 0, 0, 0, 0, 0, 0, 0, 0, 0, 0, 0, 0, 0, 0, 0, 0, 0, 0, 0, 0, 0, 0, 0, 0, 0, 0, 0, 0, 0, 0, 0, 0, 0, 0, 0, 0, 0, 0, 0, 0, 0, 0, 0, 0, 0, 0, 0, 0, 0, 0, 0, 0, 0, 0, 0, 0, 0, 0, 0, 0, 0, 0, 0, 0, 0, 0, 0, 0, 0, 0, 0, 0, 0, 0, 0, 0, 0, 0, 0, 0, 0, 0, 0, 0, 0, 0, 0, 0, 0, 0, 0, 0, 0, 0, 0, 0, 0, 0, 0, 0, 0, 0, 0, 0, 0, 0, 0, 0, 0, 0, 0, 0, 0, 0, 0, 0, 0, 0, 0, 0, 0, 0, 0, 0, 0, 0, 0, 0, 0, 0, 0, 0, 0, 0, 0, 0, 0, 0, 0, 0, 0, 0, 0, 0, 0, 0, 0, 0, 0, 0, 0, 0, 0, 0, 0, 0, 0, 0, 0, 0, 0, 0, 0, 0, 0, 0, 0, 0, 0, 0, 0, 0, 0, 0, 0, 0, 0, 0, 0, 0, 0, 0, 0, 0, 0, 0, 0, 0, 0, 0, 0, 0, 0, 0, 0, 0, 0, 0, 0, 0, 0, 0, 0, 0, 0, 0, 0, 0, 0, 0, 0, 0, 0, 0, 0, 0, 0, 0, 0, 0, 0, 0, 0, 0, 0, 0, 0, 0, 0, 0, 0, 0, 0, 0, 0, 0, 0, 0, 0, 0, 0, 0, 0, 0, 0, 0, 0, 0, 0, 0, 0, 0, 1, 0, 0, 0, 0, 0, 0, 0, 0, 0, 0, 0, 0, 0, 0, 0, 0, 0, 0, 0, 0, 0, 0, 0, 0, 0, 0, 0, 0, 0, 0, 0, 0, 0, 0, 0, 0, 0, 0, 0, 0, 0, 0, 0, 0, 0, 0, 0, 0, 0, 0, 0, 0, 0, 0, 0, 0, 0, 0, 0, 0, 0, 0, 0, 0, 0, 0, 0, 0, 0, 0, 0, 0, 0, 0, 0, 0, 0, 0, 0, 0, 0, 0, 0, 0, 0, 0, 0, 0, 0, 0, 0, 0, 0, 0, 0, 0, 0, 0, 0, 0, 0, 0, 0, 0, 0, 0, 0, 0, 0, 2, 0, 0, 0, 0, 0, 0, 0, 0, 0, 0, 0, 0, 0, 0, 0, 0, 0, 0, 0, 0, 0, 0, 0, 0, 0, 0, 0, 0, 0, 0, 0, 0, 0, 0, 0, 0, 0, 0, 0, 0, 0, 0, 0, 0, 0, 0, 0, 0, 0, 0, 0, 0, 0, 0, 0, 0, 0, 0, 0, 0, 0, 0, 0, 0, 0, 0, 0, 0, 0, 0, 0, 0, 0, 0, 0, 0, 0, 0, 0, 0, 0, 0, 0, 0, 0, 0, 0, 0, 0, 0, 0, 0, 0, 0, 0, 0, 0, 0, 0, 0, 0, 0, 0, 0, 0, 0, 0, 0, 0, 0, 0, 0, 0, 0, 0, 0, 0, 0, 0, 0, 0, 0, 0, 0, 0, 0, 0, 0, 0, 0, 0, 0, 0, 0, 0, 0, 0, 0, 0, 0, 0, 0, 0, 0, 0, 0, 0, 0, 0, 0, 0, 0, 0, 0, 0, 0, 0, 0, 0, 0, 0, 0, 0, 0, 0, 0, 0, 0, 0, 0, 0, 0, 0, 0, 0, 0, 0, 0, 0, 0, 0, 0, 0, 0, 0, 0, 0, 0, 0, 0, 0, 0, 0, 0, 0, 0, 0, 0, 0, 0, 0, 0, 0, 0, 0, 0, 0, 0, 0, 0, 0, 0, 0, 0, 0, 0, 0, 0, 0, 0, 0, 0, 0, 0, 0, 0, 0, 0, 0, 0, 0, 0, 0, 0, 0, 0, 0, 0, 0, 0, 0, 0, 0, 0, 0, 0, 0, 0, 0, 0, 0, 0, 0, 0, 0, 0, 0, 0, 0, 0, 0, 0, 0, 0, 0, 0, 0, 0, 0, 0, 0, 0, 0, 0, 0, 0, 0, 0, 0, 0, 0, 0, 0, 0, 0, 0, 0, 0, 0, 0, 0, 0, 0, 0, 0, 0, 0, 0, 0, 0, 0, 0, 0, 0, 0, 0, 0, 0, 0, 0, 0, 0, 0, 0, 0, 0, 0, 0, 0, 0, 0, 0, 0, 0, 0, 0, 0, 0, 0, 0, 0, 0, 0, 0, 0, 0, 0, 0, 0, 0, 0, 0, 0, 0, 0, 0, 0, 0, 0, 0, 0, 0, 0, 0, 0, 0, 0, 0, 0, 0, 0, 0, 0, 0, 0, 0, 0, 0, 0, 0, 0, 0, 0, 0, 0, 0, 0, 0, 0, 0, 0, 0, 0, 0, 0, 0, 0, 0, 0, 0, 0, 0, 0, 0, 0, 0, 0, 0, 0, 0, 0, 0, 0, 0, 0, 0, 0, 0, 0, 0, 0, 0, 0, 0, 0, 0, 0, 0, 0, 0, 0, 0, 0, 0, 0, 0, 0, 0, 0, 0, 0, 0, 0, 0, 0, 0, 0, 0, 0, 0, 0, 0, 0, 0, 0, 0, 0, 0, 0, 0, 0, 0, 0, 0, 0, 0, 0, 0, 0, 0, 0, 0, 0, 0, 0, 0, 0, 0, 0, 0, 0, 0, 0, 0, 0, 0, 0, 0, 0, 0, 0, 0, 0, 0, 0, 0, 0, 0, 0, 0, 0, 0, 0, 0, 0, 0, 0, 0, 0, 0, 0, 0, 0, 0, 0, 0, 0, 0, 0, 0, 0, 0, 0, 0, 0, 0, 0, 0, 0, 0, 0, 0, 0, 0, 0, 0, 0, 0, 0, 0, 0, 0, 0, 0, 0, 0, 0, 0, 0, 0, 0, 0, 0, 0, 0, 0, 0, 0, 0, 0, 0, 0, 0, 0, 0, 0, 0, 0, 0, 0, 0, 0, 0, 0, 0, 0, 0, 0, 0, 0, 0, 0, 0, 0, 0, 0, 0, 0, 0, 0, 0, 0, 0, 0, 0, 0, 0, 0, 0, 0, 0, 0, 0, 0, 0, 0, 0, 0, 0, 0, 0, 0, 0, 0, 0, 0, 0, 0, 0, 0, 0, 0, 0, 0, 0, 0, 0, 0, 0, 0, 0, 0, 0, 0, 0, 0, 0, 0, 0, 0, 0, 0, 0, 0, 0, 0, 0, 0, 0, 0, 0, 0, 0, 0, 0, 0, 0, 0, 0, 0, 0, 0, 0, 0, 0, 0, 0, 0, 0, 0, 0, 0, 0, 0, 0, 0, 0, 0, 0, 0, 0, 0, 0, 0, 0, 0, 0, 0, 0, 0, 0, 0, 0, 0, 0, 0, 0, 0, 0, 0, 0, 1, 0, 0, 0, 0, 0, 0, 0, 0, 0, 0, 0, 0, 0, 0, 0, 0, 0, 0, 0, 0, 0, 0, 0, 0, 0, 0, 0, 0, 0, 0, 0, 0, 0, 0, 0, 0, 0, 0, 0, 0, 0, 0, 0, 0, 0, 0, 0, 0, 0, 0, 0, 0, 0, 0, 0, 0, 0, 0, 0, 0, 0, 0, 0, 0, 0, 0, 0, 0, 0, 0, 0, 0, 0, 0, 0, 0, 0, 0, 0, 0, 0, 0, 0, 0, 0, 0, 0, 0, 0, 0, 0, 0, 0, 0, 0, 0, 0, 0, 0, 0, 0, 0, 0, 0, 0, 0, 0, 1, 0, 0, 0, 0, 0, 0, 0, 0, 0, 0, 0, 0, 0, 0, 0, 0, 0, 0, 0, 0, 0, 0, 0, 0, 0, 0, 0, 0, 0, 0, 0, 0, 0, 0, 0, 0, 0, 0, 0, 0, 0, 0, 0, 0, 0, 0, 0, 0, 0, 0, 0, 0, 0, 0, 0, 0, 0, 0, 0, 0, 0, 0, 0, 0, 0, 0, 0, 0, 0, 0, 0, 0, 0, 0, 0, 0, 0, 0, 0, 0, 0, 0, 0, 0, 0, 0, 0, 0, 0, 0, 0, 0, 0, 0, 0, 0, 0, 0, 0, 0, 0, 0, 0, 0, 0, 0, 0, 0, 0, 0, 0, 0, 0, 0, 0, 0, 0, 0, 0, 0, 0, 0, 0, 0, 0, 0, 0, 0, 0, 0, 0, 0, 0, 0, 0, 0, 0, 0, 0, 0, 0, 0, 0, 0, 0, 0, 0, 0, 0, 0, 0, 0, 0, 0, 0, 0, 0, 0, 0, 0, 0, 0, 0, 0, 0, 0, 0, 0, 0, 0, 0, 0, 0, 0, 0, 0, 0, 0, 0, 0, 0, 0, 0, 0, 0, 0, 0, 0, 0, 0, 0, 0, 0, 0, 0, 0, 0, 0, 0, 0, 0, 0, 0, 0, 0, 0, 0, 0, 0, 0, 0, 0, 0, 0, 0, 0, 0, 0, 0, 0, 0, 0, 0, 0, 0, 0, 0, 0, 0, 0, 0, 0, 0, 0, 0, 0, 0, 0, 0, 0, 0, 0, 0, 0, 0, 0, 0, 0, 0, 0, 0, 0, 0, 0, 0, 0, 0, 0, 0, 0, 0, 0, 0, 0, 0, 0, 0, 0, 0, 0, 0, 0, 0, 0, 0, 0, 0, 0, 0, 0, 0, 0, 0, 0, 0, 0, 0, 0, 0, 0, 0, 0, 0, 0, 0, 0, 0, 0, 0, 0, 0, 0, 0, 0, 0, 0, 0, 0, 0, 0, 0, 0, 0, 0, 0, 0, 0, 0, 0, 0, 0, 0, 0, 0, 0, 0, 0, 0, 0, 0, 0, 0, 0, 0, 0, 0, 0, 0, 0, 0, 0, 0, 0, 0, 0, 0, 0, 0, 0, 0, 0, 0, 0, 0, 0, 0, 0, 0, 0, 0, 0, 0, 0, 0, 0, 0, 0, 0, 0, 0, 0, 0, 0, 0, 0, 0, 0, 0, 0, 0, 0, 0, 0, 0, 0, 0, 0, 0, 0, 0, 0, 0, 0, 0, 0, 0, 0, 0, 0, 0, 0, 0, 0, 0, 0, 0, 0, 0, 0, 0, 0, 0, 0, 0, 0, 0, 0, 0, 0, 0, 0, 0, 0, 0, 0, 0, 0, 0, 0, 0, 0, 0, 0, 0, 0, 0, 0, 0, 0, 0, 0, 0, 0, 0, 0, 0, 0, 0, 0, 0, 0, 0, 0, 0, 0, 0, 0, 0, 0, 0, 0, 0, 0, 0, 0, 2, 0, 1, 0], type: <class 'list'>, valid types: <class 'bytes'>, <class 'bytearray'>, file-like object"
     ]
    }
   ],
   "source": [
    "response = runtime.invoke_endpoint(EndpointName = xgb_predictor.endpoint, # The name of the endpoint we created\n",
    "                                       ContentType = 'text/csv',                     # The data format that is expected\n",
    "                                       Body = test_bow)"
   ]
  },
  {
   "cell_type": "markdown",
   "metadata": {},
   "source": [
    "So why did we get an error?\n",
    "\n",
    "Because we tried to send the endpoint a list of integers but it expected us to send data of type `text/csv`. So, we need to convert it."
   ]
  },
  {
   "cell_type": "code",
   "execution_count": 49,
   "metadata": {},
   "outputs": [],
   "source": [
    "response = runtime.invoke_endpoint(EndpointName = xgb_predictor.endpoint, # The name of the endpoint we created\n",
    "                                       ContentType = 'text/csv',                     # The data format that is expected\n",
    "                                       Body = ','.join([str(val) for val in test_bow]).encode('utf-8'))"
   ]
  },
  {
   "cell_type": "code",
   "execution_count": 51,
   "metadata": {},
   "outputs": [
    {
     "name": "stdout",
     "output_type": "stream",
     "text": [
      "{'ResponseMetadata': {'RequestId': '2ef98015-8e13-4109-be0c-324e8ee64586', 'HTTPStatusCode': 200, 'HTTPHeaders': {'x-amzn-requestid': '2ef98015-8e13-4109-be0c-324e8ee64586', 'x-amzn-invoked-production-variant': 'AllTraffic', 'date': 'Sat, 27 Feb 2021 17:32:05 GMT', 'content-type': 'text/csv; charset=utf-8', 'content-length': '14'}, 'RetryAttempts': 0}, 'ContentType': 'text/csv; charset=utf-8', 'InvokedProductionVariant': 'AllTraffic', 'Body': <botocore.response.StreamingBody object at 0x7f3951704828>}\n"
     ]
    }
   ],
   "source": [
    "print(response)"
   ]
  },
  {
   "cell_type": "markdown",
   "metadata": {},
   "source": [
    "As we can see, the response from our model is a somewhat complicated looking dict that contains a bunch of information. The bit that we are most interested in is `'Body'` object which is a streaming object that we need to `read` in order to make use of."
   ]
  },
  {
   "cell_type": "code",
   "execution_count": 52,
   "metadata": {},
   "outputs": [
    {
     "name": "stdout",
     "output_type": "stream",
     "text": [
      "0.411234170198\n"
     ]
    }
   ],
   "source": [
    "response = response['Body'].read().decode('utf-8')\n",
    "print(response)"
   ]
  },
  {
   "cell_type": "markdown",
   "metadata": {},
   "source": [
    "Now that we know how to process the incoming user data we can start setting up the infrastructure to make our simple web app work. To do this we will make use of two different services. Amazon's Lambda and API Gateway services.\n",
    "\n",
    "Lambda is a service which allows someone to write some relatively simple code and have it executed whenever a chosen trigger occurs. For example, you may want to update a database whenever new data is uploaded to a folder stored on S3.\n",
    "\n",
    "API Gateway is a service that allows you to create HTTP endpoints (url addresses) which are connected to other AWS services. One of the benefits to this is that you get to decide what credentials, if any, are required to access these endpoints.\n",
    "\n",
    "In our case we are going to set up an HTTP endpoint through API Gateway which is open to the public. Then, whenever anyone sends data to our public endpoint we will trigger a Lambda function which will send the input (in our case a review) to our model's endpoint and then return the result."
   ]
  },
  {
   "cell_type": "markdown",
   "metadata": {},
   "source": [
    "### Setting up a Lambda function\n",
    "\n",
    "The first thing we are going to do is set up a Lambda function. This Lambda function will be executed whenever our public API has data sent to it. When it is executed it will receive the data, perform any sort of processing that is required, send the data (the review) to the SageMaker endpoint we've created and then return the result.\n",
    "\n",
    "#### Part A: Create an IAM Role for the Lambda function\n",
    "\n",
    "Since we want the Lambda function to call a SageMaker endpoint, we need to make sure that it has permission to do so. To do this, we will construct a role that we can later give the Lambda function.\n",
    "\n",
    "Using the AWS Console, navigate to the **IAM** page and click on **Roles**. Then, click on **Create role**. Make sure that the **AWS service** is the type of trusted entity selected and choose **Lambda** as the service that will use this role, then click **Next: Permissions**.\n",
    "\n",
    "In the search box type `sagemaker` and select the check box next to the **AmazonSageMakerFullAccess** policy. Then, click on **Next: Review**.\n",
    "\n",
    "Lastly, give this role a name. Make sure you use a name that you will remember later on, for example `LambdaSageMakerRole`. Then, click on **Create role**."
   ]
  },
  {
   "cell_type": "markdown",
   "metadata": {},
   "source": [
    "#### Part B: Create a Lambda function\n",
    "\n",
    "Now it is time to actually create the Lambda function. Remember from earlier that in order to process the user provided input and send it to our endpoint we need to gather two pieces of information:\n",
    "\n",
    " - The name of the endpoint, and\n",
    " - the vocabulary object.\n",
    "\n",
    "We will copy these pieces of information to our Lambda function after we create it.\n",
    "\n",
    "To start, using the AWS Console, navigate to the AWS Lambda page and click on **Create a function**. When you get to the next page, make sure that **Author from scratch** is selected. Now, name your Lambda function, using a name that you will remember later on, for example `sentiment_analysis_xgboost_func`. Make sure that the **Python 3.6** runtime is selected and then choose the role that you created in the previous part. Then, click on **Create Function**.\n",
    "\n",
    "On the next page you will see some information about the Lambda function you've just created. If you scroll down you should see an editor in which you can write the code that will be executed when your Lambda function is triggered. Collecting the code we wrote above to process a single review and adding it to the provided example `lambda_handler` we arrive at the following.\n",
    "\n",
    "```python\n",
    "# We need to use the low-level library to interact with SageMaker since the SageMaker API\n",
    "# is not available natively through Lambda.\n",
    "import boto3\n",
    "\n",
    "# And we need the regular expression library to do some of the data processing\n",
    "import re\n",
    "\n",
    "REPLACE_NO_SPACE = re.compile(\"(\\.)|(\\;)|(\\:)|(\\!)|(\\')|(\\?)|(\\,)|(\\\")|(\\()|(\\))|(\\[)|(\\])\")\n",
    "REPLACE_WITH_SPACE = re.compile(\"(<br\\s*/><br\\s*/>)|(\\-)|(\\/)\")\n",
    "\n",
    "def review_to_words(review):\n",
    "    words = REPLACE_NO_SPACE.sub(\"\", review.lower())\n",
    "    words = REPLACE_WITH_SPACE.sub(\" \", words)\n",
    "    return words\n",
    "    \n",
    "def bow_encoding(words, vocabulary):\n",
    "    bow = [0] * len(vocabulary) # Start by setting the count for each word in the vocabulary to zero.\n",
    "    for word in words.split():  # For each word in the string\n",
    "        if word in vocabulary:  # If the word is one that occurs in the vocabulary, increase its count.\n",
    "            bow[vocabulary[word]] += 1\n",
    "    return bow\n",
    "\n",
    "\n",
    "def lambda_handler(event, context):\n",
    "    \n",
    "    vocab = \"*** ACTUAL VOCABULARY GOES HERE ***\"\n",
    "    \n",
    "    words = review_to_words(event['body'])\n",
    "    bow = bow_encoding(words, vocab)\n",
    "\n",
    "    # The SageMaker runtime is what allows us to invoke the endpoint that we've created.\n",
    "    runtime = boto3.Session().client('sagemaker-runtime')\n",
    "\n",
    "    # Now we use the SageMaker runtime to invoke our endpoint, sending the review we were given\n",
    "    response = runtime.invoke_endpoint(EndpointName = '***ENDPOINT NAME HERE***',# The name of the endpoint we created\n",
    "                                       ContentType = 'text/csv',                 # The data format that is expected\n",
    "                                       Body = ','.join([str(val) for val in bow]).encode('utf-8')) # The actual review\n",
    "\n",
    "    # The response is an HTTP response whose body contains the result of our inference\n",
    "    result = response['Body'].read().decode('utf-8')\n",
    "    \n",
    "    # Round the result so that our web app only gets '1' or '0' as a response.\n",
    "    result = round(float(result))\n",
    "\n",
    "    return {\n",
    "        'statusCode' : 200,\n",
    "        'headers' : { 'Content-Type' : 'text/plain', 'Access-Control-Allow-Origin' : '*' },\n",
    "        'body' : str(result)\n",
    "    }\n",
    "```"
   ]
  },
  {
   "cell_type": "markdown",
   "metadata": {},
   "source": [
    "Once you have copy and pasted the code above into the Lambda code editor, replace the `**ENDPOINT NAME HERE**` portion with the name of the endpoint that we deployed earlier. You can determine the name of the endpoint using the code cell below."
   ]
  },
  {
   "cell_type": "code",
   "execution_count": 54,
   "metadata": {},
   "outputs": [
    {
     "data": {
      "text/plain": [
       "'xgboost-2021-02-27-16-55-55-400'"
      ]
     },
     "execution_count": 54,
     "metadata": {},
     "output_type": "execute_result"
    }
   ],
   "source": [
    "xgb_predictor.endpoint"
   ]
  },
  {
   "cell_type": "markdown",
   "metadata": {},
   "source": [
    "In addition, you will need to copy the vocabulary dict to the appropriate place in the code at the beginning of the `lambda_handler` method. The cell below prints out the vocabulary dict in a way that is easy to copy and paste."
   ]
  },
  {
   "cell_type": "code",
   "execution_count": 55,
   "metadata": {},
   "outputs": [
    {
     "name": "stdout",
     "output_type": "stream",
     "text": [
      "{'really': 3555, 'wanted': 4788, 'to': 4505, 'like': 2597, 'this': 4455, 'movie': 2923, 'but': 635, 'it': 2364, 'was': 4804, 'just': 2435, 'the': 4424, 'acting': 99, 'ultra': 4626, 'plot': 3308, 'annoying': 248, 'and': 226, 'pace': 3159, 'slow': 4027, 'whole': 4872, 'time': 4493, 'sitting': 4003, 'in': 2255, 'theater': 4425, 'end': 1466, 'twenty': 4609, 'into': 2330, 'films': 1719, 'im': 2230, 'for': 1782, 'an': 223, 'ending': 1469, 'sure': 4305, 'some': 4057, 'of': 3080, 'visuals': 4758, 'were': 4847, 'nice': 3005, 'guys': 1999, 'mean': 2777, 'about': 67, 'guy': 1998, 'magical': 2702, 'there': 4436, 'wasnt': 4806, 'much': 2931, 'music': 2943, 'speak': 4089, 'boring': 542, 'sound': 4077, 'loud': 2662, 'sounds': 4080, 'at': 330, 'times': 4495, 'too': 4520, 'those': 4458, 'also': 199, 'mainly': 2706, 'film': 1714, 'managed': 2721, 'bore': 539, 'me': 2776, 'creep': 1050, 'out': 3139, 'same': 3775, 'glad': 1914, 'its': 2368, 'over': 3146, 'need': 2984, 'go': 1922, 'see': 3852, 'bad': 381, 'taste': 4366, 'my': 2948, 'mouth': 2917, 'is': 2358, 'last': 2519, 'dutch': 1386, 'language': 2514, 'paul': 3213, 'verhoeven': 4718, 'made': 2695, 'before': 439, 'going': 1929, 'on': 3102, 'make': 2711, 'mainstream': 2707, 'hollywood': 2135, 'basic': 405, 'instinct': 2306, 'total': 4529, 'recall': 3561, 'among': 217, 'others': 3134, 'he': 2054, 'sets': 3896, 'stage': 4135, 'by': 641, 'opening': 3111, 'story': 4203, 'with': 4911, 'black': 492, 'widow': 4882, 'spider': 4104, 'catching': 715, 'her': 2083, 'web': 4832, 'we': 4822, 'meet': 2791, 'gerard': 1893, 'self': 3866, 'centered': 732, 'writer': 4968, 'imagination': 2234, 'has': 2041, 'been': 437, 'be': 417, 'guest': 1990, 'club': 862, 'meeting': 2792, 'sea': 3835, 'side': 3961, 'town': 4539, 'hour': 2174, 'or': 3121, 'so': 4042, 'from': 1838, 'lets': 2578, 'us': 4688, 'have': 2050, 'how': 2179, 'twists': 4616, 'reality': 3550, 'asked': 316, 'if': 2220, 'writers': 4969, 'are': 284, 'bit': 487, 'close': 852, 'when': 4861, 'reads': 3544, 'newspaper': 3003, 'says': 3798, 'boom': 536, 'read': 3542, 'doom': 1323, 'blood': 511, 'red': 3575, 'dead': 1131, 'tells': 4395, 'enough': 1489, 'begins': 443, 'believe': 453, 'lie': 2588, 'truth': 4596, 'offer': 3084, 'beautiful': 427, 'wealthy': 4826, 'owner': 3157, 'as': 310, 'gets': 1898, 'know': 2487, 'learns': 2551, 'husband': 2202, 'died': 1241, 'imagine': 2236, 'she': 3920, 'his': 2116, 'more': 2901, 'twist': 4614, 'psychological': 3457, 'drama': 1343, 'which': 4866, 'these': 4439, 'old': 3097, 'stuck': 4233, 'memory': 2802, 'figured': 1710, 'favorite': 1669, 'gender': 1876, 'looking': 2646, 'body': 526, 'work': 4940, 'seems': 3861, 'master': 2755, 'making': 2716, 'question': 3486, 'our': 3137, 'own': 3156, 'understanding': 4642, 'change': 748, 'usual': 4697, 'fare': 1653, 'saw': 3795, '1983': 22, 'that': 4422, 'think': 4450, 'one': 3104, 'sucked': 4267, 'ice': 2208, 'because': 431, 'left': 2559, 'cube': 1075, 'gave': 1873, 'information': 2286, 'whos': 4875, 'original': 3126, 'never': 2998, 'everything': 1542, 'your': 4991, 'crap': 1030, 'fest': 1694, 'however': 2181, 'gives': 1912, 'you': 4986, 'all': 187, 'didnt': 1239, 'solid': 4053, 'reason': 3556, 'done': 1319, 'people': 3220, 'other': 3133, 'than': 4418, 'filmmakers': 1718, 'they': 4440, 'had': 2001, 'do': 1299, 'prequel': 3371, 'even': 1531, 'sequel': 3882, 'would': 4957, 'better': 471, 'true': 4593, 'source': 4082, 'recommend': 3570, 'stay': 4162, 'far': 1651, 'away': 368, 'another': 249, 'dont': 1321, 'want': 4787, 'only': 3107, 'taking': 4349, 'wrong': 4973, 'approach': 281, 'first': 1734, 'find': 1724, 'short': 3943, 'very': 4722, 'entertaining': 1497, 'interesting': 2323, 'take': 4346, 'what': 4857, 'suspense': 4327, 'mystery': 2953, 'their': 4429, 'upon': 4682, 'thing': 4448, 'caught': 721, 'fancy': 1647, 'immediately': 2240, 'viewer': 4737, 'involved': 2344, 'though': 4459, 'no': 3017, 'clear': 838, 'hints': 2111, 'emotions': 1459, 'played': 3296, 'characters': 759, 'kind': 2474, 'give': 1910, 'impression': 2250, 'else': 1446, 'could': 1006, 'lynch': 2689, 'essence': 1519, 'best': 468, 'will': 4885, 'agree': 155, 'anyone': 258, 'start': 4152, 'viewing': 4739, 'desire': 1202, 'entertained': 1496, 'without': 4913, 'any': 255, 'imaginative': 2235, 'viewers': 4738, 'themselves': 4433, 'disappointed': 1270, 'good': 1935, 'right': 3693, 'not': 3037, 'least': 2552, 'helped': 2078, 'lost': 2658, 'dr': 1337, 'full': 1844, 'here': 2084, 'expect': 1573, 'watching': 4814, 'anything': 259, 'get': 1897, 'opinion': 3115, 'room': 3732, 'animal': 238, 'core': 994, 'giving': 1913, 'means': 2781, 'image': 2231, 'situation': 4004, 'react': 3539, 'pleasure': 3305, 'getting': 1899, 'desired': 1203, 'reaction': 3540, 'friend': 1833, 'pure': 3470, 'art': 303, 'year': 4978, 'daughter': 1120, 'loved': 2668, 'disney': 1286, 'thats': 4423, 'problem': 3407, 'air': 164, 'buddies': 607, 'strictly': 4219, 'numbers': 3058, 'childrens': 792, 'filled': 1713, 'carefully': 688, 'couple': 1015, 'politically': 3324, 'correct': 999, 'humor': 2190, 'avoid': 362, 'rating': 3528, 'parent': 3186, '10': 0, 'youve': 4995, 'seen': 3862, 'meets': 2793, 'home': 2140, 'alone': 194, 'general': 1878, 'idea': 2211, 'period': 3235, 'paper': 3182, 'fails': 1626, 'standard': 4140, 'isnt': 2360, 'worst': 4952, 'video': 4732, 'child': 788, 'watch': 4810, 'ones': 3105, 'most': 2906, 'certain': 736, 'ive': 2370, 'them': 4430, 'twelve': 4608, 'love': 2667, 'definitely': 1160, 'compared': 911, 'covers': 1023, 'lot': 2659, 'themes': 4432, 'laughs': 2532, 'part': 3192, 'still': 4184, 'today': 4506, 'after': 143, '25': 40, 'years': 4979, 'hope': 2153, 'day': 1128, 'can': 664, 'great': 1962, 'heard': 2060, 'writing': 4971, 'new': 3000, 'script': 3831, 'who': 4870, 'knows': 2491, 'guess': 1987, 'succeeded': 4260, 'decent': 1145, 'movies': 2924, 'genre': 1886, 'wonder': 4926, 'john': 2407, 'ever': 1536, 'watched': 4812, 'spoilers': 4120, 'review': 3673, 'theres': 4438, 'nothing': 3044, 'spoil': 4117, 'clip': 850, 'shows': 3957, 'try': 4597, 'tie': 4486, 'clips': 851, 'stretch': 4217, 'three': 4467, 'lines': 2610, 'lead': 2543, 'next': 3004, 'sequence': 3884, 'dull': 1381, 'ok': 3095, 'perhaps': 3234, 'production': 3418, 'theyd': 4441, 'off': 3081, 'episode': 1505, 'entirely': 1501, 'waste': 4807, 'got': 1942, 'fact': 1619, 'usually': 4698, 'somehow': 4059, 'through': 4475, 'thank': 4419, 'back': 377, 'form': 1796, 'impressed': 2249, 'recently': 3566, 'giallo': 1902, 'classics': 836, 'strange': 4207, 'vice': 4726, 'mrs': 2927, 'titled': 4503, 'locked': 2635, 'key': 2456, 'expecting': 1576, 'case': 706, 'doesnt': 1306, 'mentioned': 2809, 'aforementioned': 139, 'titles': 4504, 'comes': 890, 'classic': 834, 'discussion': 1281, 'why': 4877, 'two': 4617, 'may': 2773, 'king': 2477, 'five': 1741, 'surely': 4306, 'behind': 446, 'ways': 4821, 'released': 3601, 'prior': 3399, 'magnificent': 2703, 'early': 1397, 'seventies': 3901, 'follows': 1773, 'murder': 2936, 'man': 2719, 'wife': 4883, 'million': 2845, 'long': 2642, 'turns': 4606, 'up': 4680, 'shortly': 3944, 'attractive': 350, 'young': 4989, 'journalist': 2418, 'follow': 1770, 'benefit': 464, 'does': 1305, 'board': 521, 'famous': 1645, 'george': 1891, 'worked': 4941, 'colors': 878, 'dark': 1114, 'along': 195, 'number': 3057, 'screen': 3826, 'presence': 3372, 'every': 1537, 'him': 2108, 'italian': 2365, 'thriller': 4470, 'becomes': 433, 'obvious': 3068, 'repeatedly': 3630, 'cast': 709, 'remembered': 3615, 'stars': 4151, 'alongside': 196, 'provides': 3449, 'female': 1691, 'job': 2403, 'directors': 1263, 'chair': 741, 'once': 3103, 'again': 146, 'several': 3902, 'scenes': 3808, 'place': 3281, 'green': 1969, 'lighting': 2594, 'score': 3819, 'mood': 2895, 'driving': 1365, 'force': 1784, 'success': 4262, 'four': 1810, 'put': 3479, 'together': 4509, 'thrilling': 4472, 'while': 4867, 'staying': 4164, 'common': 905, 'sense': 3874, 'thus': 4484, 'rest': 3655, 'illogical': 2229, 'quality': 3483, 'yet': 4984, 'youll': 4988, 'pleasant': 3301, 'funny': 1850, 'earth': 1400, 'showing': 3955, 'world': 4946, 'groups': 1979, 'lives': 2626, 'actors': 104, 'witches': 4910, 'both': 546, 'assume': 327, 'works': 4945, 'wonderfully': 4929, 'lots': 2660, 'apparent': 268, 'inside': 2295, 'jokes': 2413, 'funniest': 1849, 'excellent': 1553, 'although': 201, 'forty': 1805, 'must': 2947, 'say': 3796, 'sex': 3904, 'around': 296, 'pretty': 3383, 'corner': 995, 'slightly': 4025, 'sick': 3960, 'scene': 3806, 'trust': 4595, 'apart': 263, 'rate': 3525, 'comedy': 889, 'sexual': 3905, 'content': 965, 'please': 3303, 'fan': 1646, 'american': 213, 'pie': 3270, 'where': 4863, 'buy': 639, 'am': 204, 'high': 2098, 'school': 3810, 'current': 1083, 'class': 832, 'kid': 2462, 'suggested': 4278, 'did': 1238, 'went': 4846, 'moon': 2897, 'being': 447, 'father': 1664, 'biggest': 479, 'piece': 3271, 'created': 1036, 'serious': 3888, 'balls': 389, 'show': 3950, 'shot': 3946, 'dare': 1112, 'use': 4690, 'quotes': 3496, 'mind': 2847, 'michael': 2827, 'moore': 2898, 'should': 3948, 'working': 4944, 'called': 651, 'happened': 2025, 'way': 4819, 'white': 4869, 'house': 2176, 'each': 1392, 'performances': 3228, 'especially': 1518, 'sally': 3773, 'field': 1702, 'kevin': 2455, 'well': 4842, 'written': 4972, 'screenplay': 3828, 'andrew': 228, 'bergman': 465, 'vegas': 4715, 'soap': 4043, 'crazy': 1034, 'wall': 4780, 'beats': 425, 'hell': 2075, 'stupid': 4244, 'television': 4392, 'opera': 3113, 'depiction': 1182, 'considered': 950, 'social': 4045, 'commentary': 898, 'final': 1720, 'analysis': 224, 'simply': 3982, 'care': 683, 'none': 3025, 'likable': 2596, 'engaging': 1479, 'felt': 1690, 'chemistry': 781, 'between': 474, 'hudson': 2182, 'bacall': 376, 'despite': 1208, 'provided': 3448, 'complete': 920, 'therefore': 4437, 'incomprehensible': 2265, 'dorothy': 1327, 'witness': 4914, 'stand': 4139, 'hold': 2127, 'interest': 2321, 'matter': 2767, 'symbolism': 4338, 'throw': 4477, 'sleazy': 4019, 'melodramatic': 2796, 'trite': 4586, 'rock': 3717, 'wooden': 4934, 'role': 3723, 'robert': 3710, 'deliver': 1167, 'inspired': 2299, 'character': 757, 'pathetic': 3209, 'loving': 2673, 'touch': 4531, 'adult': 125, 'children': 791, 'sympathetic': 4339, 'severe': 3903, 'small': 4029, 'bar': 395, 'nasty': 2965, 'countless': 1011, 'westerns': 4853, 'honest': 2144, 'fellow': 1689, 'few': 1698, 'said': 3771, 'comment': 897, 'science': 3813, 'fiction': 1700, 'fans': 1648, 'scenario': 3805, 'second': 3843, 'moving': 2925, 'destruction': 1213, 'human': 2186, 'civilization': 826, 'thousands': 4464, 'tiny': 4498, 'space': 4086, 'powerful': 3359, 'appears': 277, 'carrying': 700, 'battle': 413, 'okay': 3096, 'little': 2622, 'mad': 2694, 'max': 2772, 'fight': 1705, 'travel': 4564, 'distant': 1292, 'entertainment': 1498, 'featuring': 1679, 'fine': 1727, 'special': 4092, 'effects': 1429, 'tend': 4398, 'repeat': 3628, 'instead': 2305, 'name': 2957, 'proved': 3445, 'feature': 1676, 'chosen': 804, 'thumbs': 4483, 'down': 1332, 'productions': 3419, '1980': 20, 'fit': 1738, 'call': 650, 'elephant': 1442, 'hence': 2081, 'title': 4502, 'shall': 3913, 'casting': 710, 'powers': 3360, 'supposed': 4303, 'play': 3295, 'someone': 4060, 'less': 2573, 'half': 2005, 'age': 148, 'shes': 3927, '18': 10, 'horrible': 2161, 'mindless': 2849, 'portrayal': 3340, 'paris': 3188, 'france': 1814, 'cliché': 843, 'such': 4265, 'shop': 3942, 'queen': 3484, 'models': 2879, 'fairy': 1630, 'god': 1924, 'mother': 2908, 'ex': 1547, 'etc': 1525, 'respect': 3650, 'da': 1093, 'code': 868, 'reviewers': 3675, 'determined': 1218, 'highly': 2103, 'utterly': 4700, 'ridiculous': 3690, 'nudity': 3056, 'focus': 1764, 'accents': 79, 'able': 66, 'surfing': 4308, 'internet': 2325, 'talking': 4357, 'friends': 1835, 'everyone': 1540, 'add': 115, 'list': 2615, 'predictable': 3366, 'fighting': 1707, 'guns': 1996, 'look': 2644, 'low': 2674, 'real': 3546, 'something': 4062, 'mary': 2749, 'la': 2498, 'stunned': 4240, 'star': 4146, 'always': 203, 'top': 4523, 'superb': 4293, 'kate': 2444, 'cant': 670, 'decide': 1146, 'rent': 3624, 'now': 3051, 'wont': 4932, 'regret': 3589, 'reading': 3543, 'reviews': 3676, 'hearing': 2061, 'things': 4449, 'word': 4937, 'decided': 1147, 'come': 885, 'rather': 3527, 'hard': 2031, 'set': 3895, 'series': 3887, 'flashbacks': 1745, 'present': 3373, 'recent': 3565, 'past': 3206, 'poorly': 3328, 'executed': 1563, 'efforts': 1431, 'flat': 1746, 'uninteresting': 4657, 'explicit': 1589, 'seemed': 3859, 'unnecessary': 4669, 'anti': 253, 'leaves': 2554, 'many': 2730, 'questions': 3488, 'line': 2608, 'explained': 1585, 'begin': 441, 'night': 3010, 'came': 655, 'warned': 4797, 'career': 685, 'horror': 2166, 'halloween': 2008, 'serial': 3886, 'killer': 2468, 'myers': 2949, 'attempts': 342, 'track': 4542, 'sister': 3997, 'process': 3411, 'brutal': 602, 'poor': 3327, 'against': 147, 'seemingly': 3860, 'knock': 2486, 'throughout': 4476, '80s': 59, '90s': 61, 'continues': 970, 'received': 3563, '2007': 37, 'remake': 3610, 'difference': 1243, 'quite': 3494, 'tight': 4490, 'changed': 749, 'face': 1614, 'sub': 4249, 'sexually': 3907, 'teens': 4390, 'knife': 2485, 'psycho': 3456, 'expected': 1575, 'results': 3659, 'runs': 3754, 'sad': 3764, 'rolled': 3726, 'table': 4343, 'neither': 2993, 'nor': 3029, 'iraq': 2349, 'souls': 4076, 'plus': 3310, 'killed': 2467, 'al': 170, 'following': 1772, 'pick': 3264, 'copy': 993, 'loose': 2648, 'available': 360, 'free': 1825, 'until': 4677, 'bush': 631, 'save': 3791, 'country': 1013, '2006': 36, 'familiar': 1641, 'animals': 239, 'began': 440, '60': 53, 'ago': 154, 'horse': 2168, 'forced': 1785, 'death': 1140, 'cliff': 846, 'jesse': 2395, 'james': 2376, 'needless': 2986, 'atrocious': 334, 'act': 97, 'kills': 2472, 'aspect': 320, 'suppose': 4302, 'die': 1240, 'since': 3986, 'beginning': 442, 'public': 3459, 'horrendous': 2160, 'pain': 3169, 'caused': 723, 'glory': 1920, 'help': 2077, 'feel': 1682, 'choice': 796, 'wouldnt': 4958, 'path': 3208, 'taken': 4347, 'attempted': 340, 'chase': 768, 'finale': 1721, 'gods': 1926, 'previous': 3386, 'failed': 1624, 'miserably': 2862, 'pointless': 3317, 'hardly': 2034, 'lying': 2688, 'outside': 3144, 'brief': 578, 'premise': 3369, 'hero': 2086, 'co': 866, 'author': 358, 'boyfriend': 557, 'girl': 1907, 'then': 4434, 'exciting': 1561, 'implausible': 2243, 'course': 1018, 'plays': 3300, 'entire': 1500, 'seem': 3858, 'learned': 2549, 'minute': 2856, 'rescue': 3641, 'point': 3315, 'writes': 4970, 'directs': 1264, 'herself': 2090, 'protagonist': 3440, 'clever': 840, 'humorous': 2191, 'joke': 2412, 'wild': 4884, 'girls': 1909, 'seriously': 3889, 'claim': 827, 'slaughter': 4017, 'underrated': 4639, 'slasher': 4016, 'flick': 1752, '1980s': 21, 'relies': 3604, 'heavily': 2067, 'formula': 1800, 'group': 1978, 'men': 2803, 'women': 4923, 'showdown': 3952, 'stands': 4143, 'above': 68, 'goes': 1928, 'marty': 2747, 'former': 1798, 'stood': 4195, 'naked': 2956, 'shower': 3954, 'lab': 2499, 'experiment': 1581, 'victims': 4729, 'later': 2523, 'reunion': 3666, 'himself': 2109, 'realize': 3551, 'havent': 2051, 'theyre': 4443, 'bunch': 622, 'held': 2072, 'fell': 1688, 'drink': 1358, 'beer': 438, 'found': 1809, 'abandoned': 62, 'building': 614, 'happens': 2027, 'display': 1288, 'faith': 1631, 'needs': 2987, 'enjoy': 1482, 'makes': 2714, 'april': 283, 'claims': 829, 'longer': 2643, 'allowed': 190, 'examples': 1552, 'flaws': 1750, 'understand': 4640, 'hasnt': 2042, 'dvd': 1388, 'run': 3752, 'mill': 2843, 'flicks': 1753, 'attempt': 339, 'artistic': 307, 'realistic': 3549, 'having': 2052, 'moments': 2885, 'started': 4153, 'fast': 1659, 'quickly': 3490, 'jumped': 2428, 'barely': 398, 'picked': 3265, 'near': 2976, '20': 29, 'minutes': 2857, 'credit': 1048, 'denzel': 1179, 'washington': 4805, 'extremely': 1608, 'grasp': 1958, 'typical': 4620, 'super': 4292, 'detective': 1217, 'answers': 251, 'evil': 1546, 'genius': 1885, 'criminal': 1056, 'overall': 3148, 'person': 3237, 'section': 3850, 'parts': 3198, 'finally': 1722, 'sudden': 4269, 'ah': 158, 'ha': 2000, 'ended': 1468, 'energy': 1476, 'holes': 2131, 'tons': 4518, 'earlier': 1396, 'spike': 4106, 'lees': 2558, 'normal': 3030, 'level': 2582, 'completely': 921, 'disagree': 1266, 'professional': 3420, 'critics': 1063, 'crash': 1032, 'grand': 1951, '14': 6, 'different': 1245, 'backgrounds': 380, 'lifetime': 2592, 'either': 1436, 'los': 2651, 'angeles': 232, 'upper': 4683, 'lawyer': 2539, 'named': 2958, 'takes': 4348, 'car': 679, 'break': 568, 'calls': 653, 'truck': 4592, 'wait': 4769, 'soon': 4070, 'dangerous': 1109, 'driver': 1363, 'arrives': 301, 'perfect': 3223, 'moment': 2884, 'steps': 4173, 'simon': 3978, 'danny': 1111, 'glover': 1921, 'manages': 2723, 'dire': 1254, 'friendship': 1836, 'develops': 1223, 'helping': 2079, 'living': 2627, 'neighborhood': 2990, 'fears': 1675, 'son': 4066, 'streets': 4213, 'offers': 3087, 'live': 2623, 'jane': 2378, 'main': 2705, 'smaller': 4030, 'plots': 3309, 'involving': 2347, 'secretary': 3847, 'louise': 2664, 'parker': 3190, 'discovers': 1278, 'baby': 375, 'jeremy': 2392, 'gone': 1933, 'camp': 661, 'summer': 4288, 'likely': 2599, 'life': 2590, 'details': 1216, 'brought': 599, 'complex': 922, 'uses': 4695, 'police': 3321, 'helicopter': 2074, 'bridge': 577, 'simple': 3979, 'device': 1224, 'helps': 2080, 'greatly': 1965, 'flow': 1760, 'director': 1261, 'lawrence': 2537, 'whose': 4876, 'date': 1117, 'big': 477, 'splendid': 4114, 'ideas': 2213, 'thought': 4460, 'alas': 172, 'falls': 1638, 'points': 3318, 'wouldve': 4959, 'stronger': 4226, 'maybe': 2774, 'views': 4741, 'lower': 2675, 'classes': 833, 'superior': 4297, 'expectations': 1574, 'yes': 4982, 'view': 4735, 'steve': 4177, 'martin': 2746, 'davis': 1125, 'producer': 3414, 'violent': 4747, 'eye': 1609, 'creator': 1042, 'freddy': 1824, 'wes': 4850, 'craven': 1033, 'depicts': 1183, 'regular': 3590, 'hotel': 2173, 'worker': 4942, 'lisa': 2614, 'funeral': 1847, 'grandmother': 1953, 'decides': 1148, 'flight': 1755, 'during': 1384, 'waiting': 4771, 'jack': 2371, 'sort': 4073, 'become': 432, 'ironically': 2354, 'sit': 3999, 'plane': 3287, 'starts': 4155, 'weak': 4823, 'hearted': 2063, 'possible': 3349, 'might': 2833, 'pants': 3181, 'example': 1551, 'bone': 532, 'chose': 803, 'rachel': 3499, 'intelligent': 2312, 'sexy': 3908, 'doing': 1309, 'murphy': 2941, 'scary': 3804, 'horrifying': 2165, 'actor': 103, 'amazing': 209, 'eyes': 1611, 'months': 2894, 'somewhat': 4064, 'actually': 109, 'seat': 3842, 'almost': 193, 'asleep': 319, 'paid': 3168, 'myself': 2950, 'laugh': 2527, 'stuff': 4239, 'destroy': 1210, 'worth': 4953, 'open': 3109, 'trying': 4598, 'hbo': 2053, 'corny': 996, 'comedies': 888, 'id': 2210, 'pass': 3200, 'check': 776, 'kings': 2479, 'told': 4511, 'parents': 3187, 'enjoyed': 1484, 'harvey': 2040, 'omen': 3101, 'ii': 2224, 'shocked': 3936, 'discover': 1276, 'absolute': 71, 'rubbish': 3745, 'tv': 4607, 'glimpse': 1917, 'middle': 2831, 'ill': 2226, 'reach': 3535, 'remote': 3620, 'describe': 1191, 'hung': 2195, 'disbelief': 1274, 'laughing': 2531, 'write': 4967, 'minimum': 2854, 'ten': 4397, 'modern': 2880, 'hot': 2172, 'entry': 1502, 'ray': 3532, 'martial': 2745, 'arts': 309, 'neck': 2982, 'sheriff': 3926, 'features': 1678, 'infamous': 2282, 'hill': 2106, 'brain': 561, 'hit': 2120, 'magic': 2701, 'highlight': 2101, 'mid': 2830, 'six': 4006, 'allows': 192, 'grown': 1982, 'easy': 1407, 'playing': 3299, 'justice': 2436, 'basis': 407, 'performance': 3227, 'knew': 2484, 'believable': 452, 'rose': 3736, 'occasion': 3070, 'delivered': 1168, 'sweet': 4333, 'believed': 454, 'version': 4719, 'background': 379, 'added': 116, 'tone': 4515, 'installment': 2301, 'itself': 2369, 'ride': 3689, 'slowly': 4028, 'mix': 2874, 'idiots': 2218, 'mixed': 2875, 'tough': 4535, 'un': 4627, 'responsibility': 3653, 'minds': 2850, 'flaw': 1747, 'youre': 4992, 'vote': 4765, 'strikes': 4221, 'apparently': 269, 'thin': 4447, 'subject': 4250, 'mildly': 2838, 'disappointing': 1271, 'presents': 3376, 'bettie': 472, 'page': 3166, 'probably': 3406, 'innocent': 2292, 'rural': 3755, 'south': 4083, 'universe': 4663, 'goofy': 1937, 'natural': 2970, 'fun': 1846, 'moral': 2899, 'religious': 3606, 'nude': 3055, 'accurate': 90, 'given': 1911, 'reasons': 3559, 'noir': 3020, 'cinematography': 819, 'iii': 2225, 'fashioned': 1658, '1950s': 14, 'faithful': 1632, 'under': 4636, 'direction': 1258, 'pitch': 3278, 'supporting': 4301, 'including': 2262, 'chris': 805, 'taylor': 4369, 'sarah': 3782, 'roberts': 3711, 'victor': 4730, 'mention': 2808, 'oscar': 3130, 'worthy': 4956, 'technically': 4380, 'difficult': 1246, 'ms': 2928, 'fully': 1845, 'costumes': 1005, 'costume': 1004, 'pages': 3167, 'actress': 105, 'student': 4234, 'truly': 4594, 'control': 976, 'craft': 1027, 'effectively': 1428, 'bring': 584, 'america': 212, 'childhood': 789, 'abuse': 74, 'rape': 3520, 'legal': 2561, 'laughably': 2529, 'tame': 4360, '50s': 52, 'york': 4985, 'cut': 1088, 'news': 3002, 'reel': 3580, 'footage': 1780, 'alive': 186, 'style': 4246, 'color': 876, 'smile': 4032, 'effect': 1426, 'odd': 3077, 'greatest': 1964, 'icon': 2209, 'lacking': 2502, 'brothers': 598, 'flop': 1758, 'tale': 4350, 'diamond': 1233, 'partner': 3197, 'tracy': 4544, 'morgan': 2902, 'cook': 987, 'plan': 3286, 'plant': 3292, 'sorts': 4074, 'treated': 4570, 'surprised': 4310, 'places': 3283, 'arent': 287, 'cute': 1089, 'funnier': 1848, 'cgi': 739, 'used': 4691, 'mini': 2852, 'cameos': 657, 'rental': 3625, 'days': 1129, 'exact': 1548, 'combination': 882, 'action': 100, 'sci': 3812, 'fi': 1699, 'chapter': 756, 'creators': 1043, 'stories': 4201, 'troubles': 4591, 'relationships': 3596, 'needed': 2985, 'creating': 1038, 'intimate': 2329, 'incredible': 2267, 'related': 3592, 'met': 2820, 'knowing': 2488, 'security': 3851, 'system': 4342, 'elements': 1441, 'let': 2577, 'lose': 2652, 'mr': 2926, 'create': 1035, 'excited': 1559, 'dan': 1101, 'incredibly': 2268, 'contrived': 975, 'conversation': 979, 'restaurant': 3656, 'marie': 2735, 'attracted': 348, 'hes': 2091, 'convince': 982, 'lies': 2589, 'brother': 597, 'tries': 4582, 'jealous': 2386, 'blind': 505, 'family': 1643, 'yeah': 4977, 'happen': 2024, 'paced': 3160, 'sappy': 3781, 'manipulative': 2725, 'chick': 785, 'book': 534, 'higher': 2099, 'marks': 2740, 'exactly': 1549, 'war': 4791, '11': 2, 'forces': 1786, 'awful': 371, 'sisters': 3998, 'joan': 2402, 'older': 3098, 'sandra': 3779, 'looked': 2645, 'pregnant': 3368, 'showed': 3953, 'married': 2742, 'jean': 2387, 'simmons': 3977, 'finds': 1726, 'romance': 3729, 'miss': 2864, 'picture': 3268, 'meaning': 2778, 'fair': 1628, 'selling': 3870, 'conflict': 938, 'terribly': 4406, 'imdb': 2238, 'easily': 1403, 'romantic': 3730, 'setting': 3897, 'charm': 766, 'granted': 1955, 'nearly': 2978, 'cannot': 669, 'count': 1009, 'already': 197, 'camera': 658, 'clean': 837, 'trip': 4585, 'awe': 369, 'delivers': 1170, 'naive': 2955, 'bud': 606, 'necessary': 2981, 'attitude': 345, 'cowboy': 1024, 'soundtrack': 4081, 'singing': 3991, 'chance': 746, 'disappoint': 1269, 'innovative': 2293, 'remind': 3616, 'era': 1511, 'frame': 1813, 'draws': 1349, 'forward': 1806, 'authentic': 357, 'failing': 1625, 'dialog': 1229, 'structure': 4229, 'mechanical': 2786, 'logical': 2637, 'dramatic': 1345, 'result': 3658, 'ask': 315, 'comedian': 886, 'justify': 2437, 'audience': 351, 'learn': 2548, 'woody': 4936, 'allen': 188, 'bored': 540, 'design': 1199, 'major': 2709, 'pretentious': 3382, 'satisfying': 3788, 'makers': 2713, 'guilty': 1993, 'deserve': 1196, 'types': 4619, 'sophisticated': 4071, 'focuses': 1766, 'ironic': 2353, 'dinner': 1251, 'library': 2587, 'bet': 469, 'dirty': 1265, 'often': 3092, 'double': 1328, 'cross': 1065, 'pull': 3460, 'fairly': 1629, 'particularly': 3194, 'convincing': 984, 'frank': 1819, 'darker': 1115, 'cool': 988, 'hand': 2013, 'menacing': 2805, 'hate': 2044, 'bourne': 553, 'identity': 2215, 'arrived': 300, 'storyline': 4204, 'judging': 2423, 'trailers': 4552, 'numerous': 3059, 'bite': 488, 'tongue': 4516, 'couldnt': 1007, 'damn': 1099, 'intentions': 2319, 're': 3534, 'decisions': 1150, 'bought': 551, 'surprise': 4309, 'slick': 4022, 'packed': 3165, 'pieces': 3272, 'cinema': 815, 'boy': 556, 'matt': 2766, 'damon': 1100, 'favourite': 1671, 'appeared': 275, 'talented': 4352, 'born': 543, 'yourself': 4993, 'caring': 690, 'hoping': 2158, 'quiet': 3491, 'intensity': 2315, 'absolutely': 72, 'outstanding': 3145, 'superbly': 4294, 'acted': 98, 'towards': 4538, 'julia': 2425, 'deserves': 1198, 'roles': 3724, 'david': 1123, 'weve': 4855, 'albert': 174, 'highlights': 2102, 'sequences': 3885, 'trilogy': 4583, 'lacks': 2503, 'loads': 2631, 'running': 3753, 'notice': 3045, 'important': 2245, 'imagined': 2237, 'checking': 777, 'unfortunately': 4651, 'purely': 3471, 'chases': 770, 'kicks': 2461, 'punch': 3465, 'ups': 4684, 'foot': 1779, 'unforgettable': 4649, 'oh': 3093, 'station': 4160, 'ruin': 3747, 'win': 4892, 'sticks': 4182, 'franchise': 1815, 'adds': 119, 'undoubtedly': 4645, 'blockbuster': 508, 'bond': 531, 'majority': 2710, 'equal': 1507, 'scientific': 3814, 'evidence': 1544, 'lame': 2508, 'laughable': 2528, 'germans': 1895, 'horrid': 2163, 'compare': 910, 'silly': 3972, 'garbage': 1868, 'favorites': 1670, 'keeps': 2449, 'murderer': 2938, 'huh': 2185, 'plain': 3285, 'nazi': 2974, 'propaganda': 3434, 'admit': 122, 'lately': 2522, 'cable': 643, 'memories': 2801, 'translation': 4559, 'broadway': 591, 'songs': 4068, 'soul': 4075, 'lane': 2513, 'touching': 4534, 'mirror': 2859, 'ballet': 388, 'hello': 2076, 'messed': 2819, 'adding': 117, 'douglas': 1331, 'bother': 547, 'sorry': 4072, 'wasted': 4808, 'painful': 3170, 'drags': 1342, 'doubt': 1329, 'developing': 1221, 'principal': 3397, 'redeeming': 3576, 'shots': 3947, 'lovely': 2669, 'secondly': 3844, 'whether': 4865, 'large': 2515, 'except': 1554, 'risk': 3701, 'unintentional': 4655, 'gay': 1874, 'stereotypes': 4175, 'seeing': 3854, 'totally': 4530, 'happy': 2030, 'depicted': 1181, 'developed': 1220, 'focused': 1765, 'budget': 609, 'excuse': 1562, 'lack': 2500, 'horrors': 2167, 'scientist': 3815, 'sidekick': 3962, 'corporate': 997, 'greed': 1966, 'industry': 2278, 'eccentric': 1411, 'extreme': 1607, 'leave': 2553, 'waters': 4816, 'island': 2359, 'stock': 4189, 'generic': 1883, 'wicked': 4878, 'shakespeare': 3912, 'entertain': 1495, 'head': 2055, 'research': 3642, 'west': 4851, 'wannabe': 4786, 'offering': 3086, 'cell': 729, 'technology': 4383, 'impressive': 2251, 'package': 3164, 'company': 909, 'afford': 138, 'scientists': 3816, 'revenge': 3672, 'bitter': 490, 'endless': 1471, 'heavy': 2068, 'eating': 1410, 'sons': 4069, 'plans': 3291, 'phone': 3254, 'escape': 1515, 'species': 4093, 'value': 4707, 'missed': 2865, 'warn': 4796, 'forest': 1789, 'richard': 3683, 'daniel': 1110, 'molly': 2882, 'petty': 3248, 'hood': 2149, 'week': 4836, 'holiday': 2132, 'nowhere': 3053, 'words': 4938, 'mine': 2851, 'anyway': 260, 'deep': 1152, 'woman': 4921, 'badly': 382, 'problems': 3408, 'van': 4711, 'finding': 1725, 'darkness': 1116, 'fall': 1635, 'woods': 4935, 'english': 1481, 'directed': 1256, 'comments': 900, 'across': 96, 'liking': 2602, 'personally': 3242, 'joseph': 2417, 'london': 2639, 'material': 2764, 'whatever': 4858, 'type': 4618, 'texas': 4416, 'massacre': 2752, 'teenage': 4387, 'concept': 929, 'fallen': 1636, 'angels': 233, 'kill': 2466, 'deal': 1134, 'stephen': 4172, 'fantastic': 1649, 'tom': 4512, 'proper': 3435, 'dialogue': 1231, 'significant': 3968, 'moves': 2922, 'reasonable': 3557, 'stylish': 4248, 'flash': 1743, 'whenever': 4862, 'hear': 2059, 'breaking': 569, 'door': 1325, 'shame': 3915, 'gore': 1939, 'throat': 4474, 'someones': 4061, 'lips': 2613, 'ripped': 3698, 'amount': 219, 'reasonably': 3558, 'overly': 3153, 'england': 1480, 'generally': 1879, 'embarrassing': 1452, 'cameo': 656, 'proves': 3446, 'stick': 4181, 'missing': 2867, 'tales': 4354, 'prove': 3444, 'involves': 2346, 'accident': 84, 'leads': 2546, 'quick': 3489, '15': 7, 'enjoyable': 1483, 'stealing': 4167, 'money': 2886, 'breaks': 570, 'attacked': 337, 'dog': 1307, 'nearby': 2977, '30': 42, 'third': 4453, 'lonely': 2641, 'designs': 1201, 'erotic': 1513, 'remotely': 3621, 'ends': 1472, 'tune': 4599, 'turn': 4602, 'fake': 1633, 'teen': 4386, 'adapted': 114, 'curious': 1082, 'project': 3426, 'gritty': 1975, 'warner': 4798, 'winning': 4898, 'german': 1894, 'underground': 4637, 'leader': 2544, 'europe': 1527, 'states': 4159, 'via': 4725, 'mexico': 2825, 'border': 538, 'settle': 3899, 'suspicious': 4329, 'spends': 4102, 'forever': 1790, 'heart': 2062, 'wise': 4903, 'direct': 1255, 'teaching': 4374, 'americans': 214, 'suddenly': 4270, 'literally': 2620, 'relatives': 3599, 'won': 4925, 'academy': 77, 'award': 365, 'enter': 1492, 'bette': 470, 'nobody': 3019, 'wide': 4879, 'advantage': 129, 'allow': 189, 'brings': 586, 'intent': 2316, 'wwii': 4975, 'ultimately': 4625, 'dry': 1374, 'eyed': 1610, 'tradition': 4546, 'artist': 306, 'skills': 4010, 'aging': 153, 'proud': 3443, 'street': 4212, 'performer': 3230, 'known': 2490, 'desperate': 1205, 'warmth': 4795, 'humanity': 2187, 'paying': 3216, 'dollars': 1312, 'massive': 2754, '1930s': 11, 'companion': 908, 'onto': 3108, 'monkey': 2887, 'instantly': 2304, 'feels': 1685, 'slave': 4018, 'requires': 3640, 'touched': 4532, 'culture': 1078, 'china': 794, 'opens': 3112, 'western': 4852, 'technical': 4379, 'transfer': 4556, 'levels': 2583, 'recommended': 3571, 'talks': 4358, 'game': 1862, 'losers': 2654, 'cares': 689, 'ashamed': 311, 'wish': 4904, 'christian': 807, 'waited': 4770, 'intriguing': 2333, 'bible': 476, 'edge': 1415, 'enjoying': 1485, 'stop': 4197, 'terrible': 4405, 'torn': 4526, 'clumsy': 865, 'basically': 406, 'uplifting': 4681, 'tension': 4402, 'credits': 1049, 'roll': 3725, 'reflect': 3583, 'liked': 2598, 'mostly': 2907, 'unexpected': 4647, 'indeed': 2269, 'distinct': 1293, 'revelation': 3671, 'front': 1839, 'couldve': 1008, 'gotten': 1945, 'beyond': 475, 'cheesy': 780, 'likes': 2600, 'kinda': 2475, 'intrigue': 2331, 'crying': 1073, 'throws': 4480, 'shell': 3924, 'tragedy': 4548, 'somewhere': 4065, 'zero': 4996, 'unless': 4666, 'worse': 4951, 'loss': 2657, 'negative': 2988, 'bo': 520, 'derek': 1189, 'consistent': 952, 'intellectual': 2310, 'thinking': 4451, 'trash': 4562, 'jerry': 2394, 'suitable': 4282, 'degree': 1162, 'realism': 3548, 'actresses': 106, 'constant': 956, 'directly': 1260, 'raw': 3531, 'talent': 4351, 'certainly': 737, 'novel': 3049, 'fred': 1823, 'inspiration': 2298, 'pleased': 3304, 'trailer': 4551, 'further': 1851, 'fox': 1812, 'stellar': 4170, 'carries': 698, 'emotional': 1457, 'looks': 2647, 'driven': 1362, 'thankfully': 4420, 'drives': 1364, 'statement': 4158, 'racial': 3500, 'honestly': 2145, 'bakshi': 385, 'finest': 1728, 'huge': 2183, 'frankly': 1821, 'turned': 4603, 'lord': 2650, 'rings': 3696, 'sword': 4337, 'fire': 1732, 'animation': 241, '70s': 56, 'whereas': 4864, 'gorgeous': 1940, 'designed': 1200, 'boys': 558, 'robinson': 3713, 'mars': 2744, 'books': 535, '45': 50, 'worn': 4948, 'bride': 576, 'racist': 3502, 'indian': 2272, 'warrior': 4801, 'unable': 4628, 'members': 2799, 'team': 4375, 'eager': 1393, 'catches': 714, 'grab': 1947, 'beaten': 423, 'pulp': 3464, 'wind': 4893, 'successfully': 4264, 'indians': 2273, 'keep': 2447, 'throwing': 4478, 'trail': 4550, 'jerk': 2393, 'lucky': 2681, 'hair': 2003, 'unconvincing': 4635, 'youd': 4987, 'root': 3734, 'tied': 4487, 'dragged': 1340, 'heck': 2069, 'blow': 513, 'dolls': 1313, 'awfully': 372, 'accent': 78, 'claire': 830, 'danes': 1107, 'awkward': 373, 'push': 3476, 'pretend': 3380, 'cry': 1072, 'streep': 4211, 'swear': 4331, 'reached': 3536, 'awake': 364, 'hugh': 2184, 'glenn': 1916, 'settings': 3898, 'dressed': 1355, 'providing': 3450, 'relief': 3603, 'intense': 2314, 'boredom': 541, 'feeling': 1683, 'sucks': 4268, 'editing': 1419, 'errors': 1514, 'ann': 243, 'ladies': 2504, 'empathy': 1460, 'evening': 1532, 'werent': 4848, 'provoking': 3451, 'peoples': 3221, 'bollywood': 529, 'ultimate': 4624, 'utter': 4699, 'sacrifice': 3763, 'state': 4156, 'india': 2271, 'wives': 4918, 'becoming': 434, 'vicious': 4727, 'husbands': 2203, 'uncle': 4633, 'lion': 2612, 'kept': 2454, 'happily': 2028, 'accidentally': 85, 'laws': 2538, 'drive': 1360, 'law': 2536, 'hits': 2123, 'artificial': 305, 'society': 4046, 'fashion': 1657, '40': 48, 'neighbors': 2991, 'planning': 3290, 'decision': 1149, 'sends': 3873, 'dancing': 1106, 'satisfy': 3787, 'dancer': 1103, 'asks': 318, 'bear': 419, 'agrees': 157, 'exist': 1567, 'prostitute': 3439, 'household': 2177, 'misses': 2866, 'beneath': 463, 'elderly': 1438, 'took': 4521, 'movements': 2921, 'coming': 895, 'dub': 1375, 'comic': 892, '3rd': 47, 'based': 403, 'treasure': 4568, 'using': 4696, 'pleasantly': 3302, 'rolling': 3727, 'forgotten': 1795, 'hours': 2175, 'convey': 981, 'beauty': 429, 'simplicity': 3980, 'documentary': 1304, 'motion': 2910, 'captivating': 674, 'hanging': 2021, 'tree': 4573, 'speaks': 4091, 'receive': 3562, 'cuts': 1090, 'amazed': 208, 'ease': 1401, 'slight': 4023, 'nature': 2972, 'essential': 1520, 'contains': 963, 'facts': 1622, 'widely': 4880, 'events': 1534, '30s': 44, 'gang': 1865, 'various': 4713, 'included': 2260, 'buck': 604, 'straight': 4206, 'drawn': 1348, 'crime': 1054, 'portrayed': 3341, 'wound': 4960, 'carried': 697, 'walked': 4775, 'prison': 3400, 'event': 1533, 'separate': 3880, 'closer': 855, 'mark': 2737, 'edgar': 1414, 'magazine': 2699, 'flawed': 1748, 'mysterious': 2952, 'trick': 4579, 'photography': 3259, 'performs': 3233, 'relatively': 3598, 'speaking': 4090, 'laughter': 2533, 'mom': 2883, 'dad': 1094, 'store': 4200, 'hadnt': 2002, 'remember': 3614, 'wake': 4773, 'don': 1317, 'weeks': 4838, 'delightful': 1166, 'memorable': 2800, 'continuity': 971, 'smiling': 4033, 'lover': 2670, 'younger': 4990, 'heston': 2092, 'wore': 4939, 'traditional': 4547, 'tarzan': 4364, 'linda': 2607, 'planet': 3288, 'warren': 4800, 'tim': 4492, 'burton': 629, 'saga': 3770, 'adults': 126, 'carter': 702, 'kiss': 2481, 'intelligence': 2311, 'robots': 3715, 'humans': 2188, 'apes': 266, 'ape': 265, 'scenery': 3807, 'trio': 4584, '2001': 31, 'critic': 1060, 'scare': 3800, 'besides': 467, 'kids': 2465, 'gory': 1941, 'critical': 1061, 'bomb': 530, 'suck': 4266, 'twice': 4610, 'compelling': 915, 'faces': 1616, 'filming': 1716, 'locations': 2634, 'history': 2119, 'tell': 4393, 'debut': 1142, 'effort': 1430, 'blue': 517, 'ancient': 225, 'opened': 3110, 'cause': 722, 'population': 3334, 'execution': 1564, 'spirit': 4108, 'victim': 4728, 'smith': 4034, 'trial': 4577, 'vengeance': 4717, 'thief': 4446, 'prevent': 3384, 'larger': 2517, 'secrets': 3849, 'dozen': 1335, 'tense': 4401, 'atmosphere': 332, 'unlike': 4667, 'decade': 1143, 'walls': 4782, 'supernatural': 4299, 'murders': 2940, 'committed': 904, 'genuinely': 1890, 'unsettling': 4676, 'images': 2233, 'combined': 884, 'visual': 4756, 'shocking': 3937, 'terror': 4410, 'nightmares': 3012, 'struggle': 4230, 'haunting': 2049, 'suffers': 4275, 'inevitable': 2280, 'clichés': 845, 'introduces': 2336, 'stereotype': 4174, 'surrounding': 4316, 'ugly': 4622, 'fat': 1661, 'toy': 4540, 'guard': 1986, 'costs': 1003, 'naturally': 2971, 'con': 927, 'serves': 3892, 'anybody': 256, 'freeman': 1827, 'advise': 134, 'admire': 121, 'recognize': 3568, 'kane': 2440, 'forget': 1791, 'downright': 1334, 'cheese': 779, 'considering': 951, 'popularity': 3333, 'nowadays': 3052, 'starred': 4149, 'successful': 4263, 'creatures': 1045, 'gem': 1875, 'release': 3600, 'impossible': 2247, 'brilliant': 582, 'light': 2593, 'orange': 3122, 'plastic': 3293, 'wrapped': 4964, 'perspective': 3244, 'notion': 3047, 'greater': 1963, 'emotion': 1456, 'killing': 2470, 'destroying': 1212, 'absurd': 73, 'cold': 871, 'jaws': 2383, 'wanting': 4789, 'ahead': 159, 'hilariously': 2105, 'non': 3024, 'hip': 2112, 'hop': 2152, 'forgot': 1794, 'bland': 499, 'hated': 2045, 'property': 3437, 'tap': 4361, 'dance': 1102, 'party': 3199, 'lovable': 2666, 'forgive': 1793, 'mediocre': 2789, 'santa': 3780, 'heres': 2085, 'pg': 3249, 'ages': 152, 'positive': 3345, 'remarks': 3613, 'hopes': 2157, 'finished': 1731, 'practically': 3361, 'rushed': 3757, 'upset': 4685, 'william': 4886, 'pile': 3274, 'mansion': 2729, 'sees': 3863, 'spooky': 4124, 'peter': 3246, 'obsessed': 3066, 'figure': 1709, 'christopher': 810, 'lee': 2557, 'scared': 3802, 'jon': 2414, 'pitt': 3279, 'vampires': 4710, 'dracula': 1338, 'terrifying': 4408, 'fourth': 1811, 'vampire': 4709, 'creepy': 1051, 'atmospheric': 333, 'touches': 4533, 'unusual': 4678, 'seeking': 3856, 'strong': 4225, 'subtitles': 4256, 'distribution': 1295, 'attention': 344, 'merits': 2815, 'subtle': 4257, 'relations': 3594, 'parties': 3195, 'nostalgic': 3036, 'relationship': 3595, 'mothers': 2909, 'elegant': 1439, 'hook': 2150, 'french': 1828, 'challenge': 742, 'brave': 566, 'aware': 367, 'attack': 336, 'giant': 1903, 'survival': 4317, 'existence': 1569, 'advertising': 132, 'row': 3741, 'dozens': 1336, 'lasted': 2520, 'theaters': 4426, 'embarrassment': 1453, 'names': 2960, 'price': 3388, 'angel': 231, 'delivery': 1171, 'assistant': 325, 'holding': 2128, 'cards': 682, 'city': 824, 'southern': 4084, 'audio': 353, 'swim': 4334, 'voice': 4760, 'explanation': 1588, 'development': 1222, 'suffice': 4276, 'overacting': 3147, 'describes': 1193, 'interpretation': 2326, 'alcoholic': 177, 'saying': 3797, 'italy': 2366, '40s': 49, 'understood': 4644, 'medium': 2790, 'vision': 4753, 'capable': 671, 'clearly': 839, 'ring': 3695, 'comparison': 913, 'achieved': 93, 'passion': 3204, 'beings': 448, 'format': 1797, 'text': 4417, 'plausible': 3294, 'lacked': 2501, 'players': 3298, 'wants': 4790, 'rid': 3687, 'opportunity': 3118, 'redemption': 3577, 'equally': 1508, 'generation': 1881, 'projects': 3427, 'beautifully': 428, 'photographed': 3257, 'musical': 2944, 'includes': 2261, 'context': 967, 'hippie': 2113, 'dated': 1118, 'epic': 1504, 'tedious': 4385, 'mental': 2806, 'note': 3041, 'european': 1528, 'frequent': 1829, 'urban': 4686, 'enormous': 1488, 'sight': 3965, 'element': 1440, 'obviously': 3069, 'individual': 2275, 'afterwards': 145, '60s': 54, 'noticed': 3046, 'masterful': 2756, 'landscapes': 2512, 'understated': 4643, 'power': 3358, 'impact': 2242, 'virtually': 4750, 'skill': 4009, 'appealing': 271, 'whom': 4874, 'tragic': 4549, 'aged': 149, 'according': 88, 'dennis': 1177, 'stunning': 4241, 'appeal': 270, 'heads': 2057, 'obscure': 3065, 'notably': 3039, 'filmed': 1715, 'wonderful': 4928, 'explosion': 1594, 'poetic': 3312, 'order': 3123, 'bringing': 585, 'chaos': 754, 'jackie': 2372, 'chan': 745, 'kung': 2496, 'fu': 1842, 'stunts': 4243, 'creative': 1040, 'eastern': 1405, 'resolution': 3647, 'methods': 2823, 'ie': 2219, 'kicking': 2460, 'ass': 322, 'whilst': 4868, 'remaining': 3608, 'reaches': 3537, 'community': 907, 'seconds': 3845, 'represent': 3635, '75': 57, '2000': 30, 'cage': 644, 'saves': 3793, 'mtv': 2930, 'wrote': 4974, 'produced': 3413, 'manner': 2727, 'spent': 4103, 'pay': 3215, 'wondering': 4930, 'bothered': 548, 'message': 2817, 'accomplished': 87, 'mundane': 2935, 'theyve': 4444, 'associated': 326, 'rotten': 3737, '1990s': 25, 'doctor': 1301, 'enemy': 1475, 'eric': 1512, 'online': 3106, 'website': 4833, 'explain': 1584, 'opposite': 3120, 'abraham': 69, 'village': 4742, 'train': 4553, 'putting': 3481, 'boot': 537, 'strangely': 4208, 'weekend': 4837, 'duty': 1387, 'bound': 552, 'routine': 3740, 'argue': 289, 'meant': 2782, 'alexander': 180, 'convinced': 983, 'mild': 2837, 'future': 1854, 'arnold': 295, 'ben': 462, 'richards': 3684, 'deadly': 1132, 'deaths': 1141, 'hands': 2018, 'eventually': 1535, 'regardless': 3588, 'delivering': 1169, 'liners': 2609, 'split': 4115, 'chain': 740, 'dawson': 1127, 'perfectly': 3225, 'irritating': 2357, '90': 60, 'welcome': 4841, 'previously': 3387, 'vehicle': 4716, 'fetched': 1696, 'watches': 4813, 'depressing': 1185, 'acts': 107, 'violence': 4746, 'trouble': 4589, 'tried': 4581, 'spoiler': 4119, 'revolution': 3677, 'toys': 4541, 'originally': 3128, 'aired': 165, 'tape': 4362, 'coffee': 869, 'commercial': 901, 'returning': 3664, 'record': 3572, 'computer': 926, 'contact': 960, 'site': 4001, 'digital': 1248, 'shed': 3921, 'robin': 3712, 'appearance': 273, 'shadow': 3909, 'manhattan': 2724, 'sinatra': 3985, 'song': 4067, 'lady': 2505, 'occasionally': 3072, 'grow': 1980, 'unbelievably': 4632, 'situations': 4005, 'charming': 767, 'dreadful': 1350, 'laughed': 2530, 'turner': 4604, 'effective': 1427, 'clothes': 859, 'road': 3706, 'possibly': 3350, 'singer': 3989, 'ritter': 3702, 'otherwise': 3135, 'losing': 2656, 'spoke': 4121, 'sounded': 4078, 'walks': 4779, 'actual': 108, 'fictional': 1701, 'profound': 3422, 'garbo': 1869, 'spielberg': 4105, 'service': 3893, 'church': 812, 'listed': 2616, 'program': 3423, 'river': 3704, 'tears': 4377, 'became': 430, 'nevertheless': 2999, 'pointed': 3316, 'late': 2521, 'contained': 962, 'talk': 4355, 'adequate': 120, 'downhill': 1333, 'madonna': 2697, 'careers': 686, 'match': 2760, 'respected': 3651, 'dislike': 1285, 'ego': 1433, 'connect': 943, 'blew': 504, 'gun': 1994, 'keeping': 2448, 'fear': 1674, 'zombies': 4998, 'featured': 1677, 'crucial': 1067, 'zombie': 4997, 'folks': 1769, 'choose': 798, 'prefer': 3367, 'status': 4161, 'range': 3515, 'lively': 2625, 'carrie': 696, 'anne': 245, 'billy': 481, 'baker': 384, 'henry': 2082, 'blake': 497, 'nelson': 2994, 'matrix': 2765, 'everybody': 1538, 'beat': 422, 'finish': 1730, 'poignant': 3314, 'unwatchable': 4679, 'williams': 4887, 'whats': 4859, 'reveal': 3667, 'roots': 3735, 'empty': 1463, 'anywhere': 262, 'importantly': 2246, 'thrills': 4473, 'monsters': 2890, 'minimal': 2853, 'crew': 1052, 'equipment': 1509, 'steven': 4178, 'murdered': 2937, 'workers': 4943, 'hunt': 2196, 'killers': 2469, 'soviet': 4085, 'union': 4658, 'donald': 1318, 'communist': 906, 'achieve': 92, 'goal': 1923, 'monster': 2889, 'gripping': 1974, 'scale': 3799, 'virgin': 4748, 'marry': 2743, 'rich': 3682, 'boat': 522, 'gross': 1976, 'strip': 4224, 'pretending': 3381, 'underlying': 4638, 'theme': 4431, 'ed': 1412, 'bizarre': 491, 'share': 3917, 'notch': 3040, 'acceptable': 81, 'studios': 4237, 'spend': 4100, 'audiences': 352, 'box': 554, 'office': 3088, 'catch': 713, 'solve': 4056, 'experience': 1578, 'believes': 455, 'surrounded': 4315, 'cameras': 659, 'shallow': 3914, 'climax': 848, 'anime': 242, 'noted': 3042, 'tricks': 4580, '3d': 46, 'grew': 1970, 'ground': 1977, 'depth': 1187, 'childish': 790, 'surprisingly': 4313, 'humour': 2192, 'seek': 3855, 'rare': 3522, 'creates': 1037, 'suspect': 4324, 'cringe': 1058, 'british': 588, 'weird': 4840, 'amitabh': 216, 'roy': 3742, 'batman': 412, 'superman': 4298, 'century': 735, 'polished': 3322, 'spot': 4127, 'values': 4708, 'physical': 3261, 'single': 3992, 'nicely': 3006, 'spite': 4112, 'forth': 1802, 'leading': 2545, 'evident': 1545, 'appear': 272, 'manage': 2720, 'fail': 1623, 'characterization': 758, 'portraying': 3342, 'insult': 2307, 'similar': 3974, 'initial': 2288, 'loses': 2655, 'tommy': 4514, 'jones': 2416, 'comics': 894, 'ability': 65, 'access': 83, 'account': 89, 'indie': 2274, 'interested': 2322, 'broadcast': 590, 'bob': 523, 'passing': 3203, 'channel': 752, 'appreciate': 278, 'cd': 727, 'california': 649, 'hang': 2020, 'schools': 3811, 'students': 4235, 'race': 3498, 'racism': 3501, 'existed': 1568, 'fortunately': 1803, 'incident': 2258, 'shooting': 3940, 'learning': 2550, 'exaggerated': 1550, 'clark': 831, 'walter': 4783, 'matthau': 2769, 'lewis': 2584, 'burns': 627, 'broke': 592, 'agent': 150, 'neil': 2992, 'aside': 314, 'battles': 414, 'jump': 2427, 'teenagers': 4389, 'teenager': 4388, 'letting': 2581, 'patient': 3210, 'dean': 1138, 'lived': 2624, 'secret': 3846, 'ghost': 1900, 'machine': 2691, 'grim': 1972, 'oddly': 3078, 'fantasy': 1650, 'alien': 183, 'expert': 1583, 'dreams': 1352, 'storytelling': 4205, 'pan': 3179, 'theatrical': 4428, 'nightmare': 3011, 'elm': 1445, 'disc': 1275, 'interviews': 2328, 'spin': 4107, 'vs': 4766, 'jason': 2381, 'johnny': 2408, 'alice': 182, 'cooper': 989, 'amusing': 221, 'de': 1130, 'madness': 2696, 'scores': 3820, 'trashy': 4563, 'masterpiece': 2757, 'influenced': 2285, 'length': 2567, 'lucy': 2682, 'oil': 3094, 'wayne': 4820, 'familys': 1644, 'fly': 1761, 'campy': 663, 'feelings': 1684, 'sleep': 4020, 'popular': 3332, 'thrown': 4479, 'fabulous': 1613, 'melodrama': 2795, 'confused': 940, 'grave': 1960, 'addition': 118, 'spring': 4130, 'florida': 1759, 'local': 2632, 'realizes': 3553, 'cat': 712, 'mouse': 2916, 'pity': 3280, 'guessing': 1989, 'topless': 4525, 'accompanied': 86, 'hysterical': 2206, 'radio': 3503, 'minor': 2855, 'logic': 2636, 'sharp': 3919, 'worthwhile': 4955, 'usa': 4689, 'shock': 3935, 'sake': 3772, 'witnessed': 4915, 'introduction': 2337, 'affected': 137, 'nine': 3014, 'jackson': 2373, 'dying': 1390, 'videos': 4733, 'within': 4912, 'primarily': 3392, 'falling': 1637, 'receives': 3564, 'appropriate': 282, 'halfway': 2006, 'surprises': 4311, 'wit': 4908, 'caine': 646, 'definition': 1161, 'ambitious': 211, 'similarly': 3976, 'revolves': 3679, 'joined': 2411, 'carol': 692, 'taxi': 4368, 'strangers': 4210, 'bed': 435, 'surface': 4307, 'slapstick': 4015, '1st': 28, 'psychotic': 3458, 'hospital': 2170, 'twisted': 4615, 'twilight': 4611, 'zone': 4999, 'initially': 2289, 'random': 3513, 'happening': 2026, 'ghosts': 1901, 'appearing': 276, 'stopped': 4198, 'center': 731, 'cared': 684, 'answer': 250, 'moved': 2919, 'fault': 1666, 'sometimes': 4063, 'leo': 2569, 'willing': 4889, 'ship': 3931, 'choices': 797, 'unaware': 4629, 'consequences': 946, 'friendly': 1834, 'include': 2259, 'illness': 2228, 'allowing': 191, 'succeeds': 4261, 'bedroom': 436, 'floor': 1757, 'vacation': 4702, 'thinks': 4452, 'suicide': 4280, 'powell': 3357, 'press': 3378, 'smooth': 4037, 'host': 2171, 'ralph': 3509, 'mans': 2728, 'rival': 3703, 'arthur': 304, 'butler': 636, 'helen': 2073, 'blonde': 510, 'chinese': 795, 'comedic': 887, 'suspects': 4325, 'raised': 3507, 'stayed': 4163, 'sadness': 3767, 'drivel': 1361, 'puts': 3480, 'passed': 3201, '17': 9, 'builds': 616, 'greek': 1968, 'adam': 111, 'kenneth': 2453, 'alan': 171, 'pat': 3207, 'louis': 2663, 'amateurish': 207, 'pacing': 3161, 'jumps': 2430, 'confusing': 941, 'football': 1781, 'larry': 2518, 'horribly': 2162, 'awards': 366, 'coach': 867, 'jazz': 2385, 'loves': 2672, 'secretly': 3848, 'joe': 2405, 'wedding': 4835, 'realise': 3547, 'games': 1863, 'changes': 750, 'complicated': 924, 'cops': 992, 'jewish': 2399, 'irish': 2351, 'area': 285, 'veteran': 4723, 'smart': 4031, 'macy': 2693, 'temple': 4396, 'screaming': 3824, 'aspects': 321, 'strike': 4220, 'liberal': 2586, 'glass': 1915, 'warm': 4793, 'somebody': 4058, 'wacky': 4768, 'surreal': 4314, 'substance': 4255, 'sneak': 4039, 'sign': 3966, 'contract': 972, 'suspend': 4326, 'belief': 450, 'savage': 3790, 'survive': 4318, 'jet': 2398, 'li': 2585, 'sole': 4051, 'purpose': 3473, 'talked': 4356, 'bare': 397, 'choreographed': 800, 'cop': 990, 'hired': 2115, 'hong': 2147, 'kong': 2492, 'led': 2556, 'member': 2798, 'inspector': 2297, 'sam': 3774, 'shadows': 3910, 'multiple': 2933, 'sides': 3963, 'grey': 1971, 'hooked': 2151, 'revealing': 3669, 'gold': 1930, 'questionable': 3487, 'attitudes': 346, 'beast': 421, 'switch': 4336, 'circumstances': 821, 'inner': 2290, 'drag': 1339, 'tender': 4399, 'suffered': 4273, 'market': 2738, 'food': 1776, 'suspenseful': 4328, 'listen': 2617, 'dogs': 1308, 'required': 3639, 'obnoxious': 3064, 'search': 3838, 'sent': 3877, 'imagery': 2232, 'dancers': 1104, 'folk': 1768, 'villain': 4743, 'bela': 449, 'lugosi': 2684, 'heroes': 2087, 'post': 3351, 'fix': 1742, 'hills': 2107, 'pictures': 3269, 'apartment': 264, 'ticket': 4485, 'rip': 3697, 'stone': 4193, 'seven': 3900, 'vaguely': 4704, 'curiosity': 1081, 'block': 507, 'melting': 2797, 'disappointment': 1272, 'thoughts': 4462, 'channels': 753, 'forbidden': 1783, 'wasting': 4809, 'incoherent': 2263, 'crude': 1068, 'produce': 3412, 'mistake': 2869, 'birthday': 486, 'animated': 240, 'prime': 3394, 'edited': 1418, 'generous': 1884, 'visit': 4754, 'below': 461, 'sue': 4271, 'anderson': 227, 'established': 1522, 'staff': 4134, 'cake': 647, 'dear': 1139, 'continue': 968, 'tad': 4344, 'personal': 3239, '24': 39, 'occur': 3073, 'wow': 4962, 'due': 1379, 'rat': 3524, 'virginia': 4749, 'till': 4491, 'poster': 3352, 'killings': 2471, 'shown': 3956, 'friday': 1832, '13th': 5, 'revealed': 3668, 'motives': 2913, 'outrageous': 3143, 'hilarious': 2104, 'drinking': 1359, 'avoided': 363, '100': 1, 'unrealistic': 4674, 'extraordinary': 1605, 'definite': 1159, 'harder': 2033, 'network': 2997, 'versions': 4720, 'influence': 2284, 'military': 2842, 'government': 1946, 'media': 2787, 'politics': 3325, 'land': 2509, 'satire': 3785, 'bullet': 619, 'commercials': 902, 'furthermore': 1852, 'thoroughly': 4457, 'inane': 2256, 'incompetent': 2264, 'hideous': 2096, 'grade': 1949, '1968': 16, 'elvis': 1449, 'mexican': 2824, 'thomas': 4456, 'chief': 787, 'surprising': 4312, 'male': 2717, 'bottle': 549, 'typically': 4621, 'bull': 618, 'gag': 1859, 'climactic': 847, 'painfully': 3171, 'doc': 1300, 'heroic': 2088, 'adventure': 130, 'combat': 881, 'starring': 4150, 'ron': 3731, 'cheek': 778, 'dumb': 1382, 'fascinating': 1656, 'hoffman': 2126, 'citizen': 823, 'exceptionally': 1557, 'plague': 3284, 'jimmy': 2401, 'crush': 1071, 'snl': 4040, 'cover': 1021, 'ears': 1399, 'nervous': 2996, 'quirky': 3492, 'drew': 1357, 'goodness': 1936, 'fever': 1697, 'starting': 4154, 'hanks': 2023, 'russell': 3758, 'australian': 356, 'wishing': 4907, 'overrated': 3154, 'wear': 4829, 'thick': 4445, 'tired': 4499, 'narrative': 2963, 'product': 3417, 'sold': 4048, 'cartoon': 703, 'matters': 2768, 'cult': 1076, 'complain': 918, 'disgusting': 1283, 'birth': 485, 'notable': 3038, 'soldier': 4049, 'gruesome': 1984, 'sequels': 3883, 'sell': 3868, 'silence': 3970, 'disturbing': 1297, 'soldiers': 4050, 'vulnerable': 4767, 'bill': 480, 'ted': 4384, 'dude': 1378, 'robot': 3714, 'creation': 1039, 'journey': 2419, 'jim': 2400, 'cary': 705, 'grant': 1954, 'daughters': 1121, 'bathroom': 411, 'raising': 3508, 'uncomfortable': 4634, 'estate': 1523, 'advice': 133, 'cole': 872, 'build': 613, 'pit': 3277, 'dream': 1351, 'witty': 4917, 'eight': 1434, 'brazil': 567, 'simplistic': 3981, 'concerned': 931, 'express': 1598, 'facial': 1617, 'expression': 1600, 'speed': 4098, 'conclusion': 935, 'defend': 1156, 'scott': 3821, 'masterpieces': 2758, 'leaving': 2555, 'theatre': 4427, 'satisfied': 3786, 'stanley': 4144, 'moody': 2896, 'personality': 3241, 'cases': 707, 'pilot': 3275, 'medical': 2788, 'dramas': 1344, 'dedicated': 1151, 'reference': 3581, 'countries': 1012, 'walk': 4774, 'collection': 873, 'concerning': 932, 'cultural': 1077, 'quote': 3495, 'political': 3323, 'stale': 4137, 'villains': 4744, 'blacks': 493, 'foreign': 1788, 'fresh': 1831, 'detailed': 1215, 'amateur': 206, 'frequently': 1830, 'breathtaking': 573, 'regard': 3586, 'dealing': 1135, 'issues': 2363, 'deeply': 1154, 'insight': 2296, 'standards': 4141, 'growing': 1981, 'multi': 2932, 'britain': 587, 'closely': 854, 'east': 1404, '1970s': 17, 'central': 734, 'asian': 313, 'experienced': 1579, 'mgm': 2826, 'anna': 244, 'practice': 3362, 'silent': 3971, 'disappeared': 1268, 'transition': 4558, 'strength': 4215, 'remains': 3609, 'reveals': 3670, 'exception': 1555, 'stole': 4190, 'holds': 2129, 'techniques': 4382, 'brown': 600, 'adaptation': 113, 'replaced': 3632, 'improved': 2253, 'captured': 676, 'introduced': 2335, 'nomination': 3023, 'recognition': 3567, 'realized': 3552, 'contemporary': 964, 'particular': 3193, 'mixture': 2876, 'awesome': 370, 'comical': 893, 'spectacular': 4096, 'triumph': 4587, 'currently': 1084, 'fame': 1640, 'wing': 4896, 'criticism': 1062, 'subtlety': 4258, 'window': 4894, 'persona': 3238, 'spell': 4099, 'scripted': 3832, 'charlie': 764, 'cox': 1025, 'captures': 677, 'humble': 2189, 'changing': 751, 'quest': 3485, 'niro': 3016, 'reviewer': 3674, 'praise': 3363, 'ball': 387, 'michelle': 2828, 'witch': 4909, 'round': 3739, 'warming': 4794, 'princess': 3396, 'territory': 4409, 'equivalent': 1510, 'aka': 168, 'shape': 3916, 'useful': 4692, 'described': 1192, 'cameron': 660, 'wells': 4844, 'necessarily': 2980, 'screenwriter': 3830, 'worried': 4949, 'decades': 1144, 'affair': 135, 'jumping': 2429, 'terms': 4404, 'futuristic': 1855, 'potentially': 3355, 'segment': 3864, 'segments': 3865, 'emotionally': 1458, 'waves': 4818, 'consists': 954, 'support': 4300, 'presented': 3375, 'remarkably': 3612, 'suggest': 4277, 'progress': 3424, 'deals': 1136, 'gas': 1872, 'mask': 2750, 'stretched': 4218, 'hurt': 2200, 'environment': 1503, 'disease': 1282, 'wandering': 4784, 'drunken': 1373, 'shoot': 3939, 'dealt': 1137, 'deserved': 1197, 'controversial': 977, 'attraction': 349, 'buff': 610, 'historically': 2118, 'strongly': 4227, 'reminiscent': 3619, 'le': 2542, 'hat': 2043, 'dimensional': 1250, 'sean': 3837, 'kissing': 2482, 'handsome': 2019, 'park': 3189, 'suit': 4281, 'walker': 4777, 'hide': 2095, 'sir': 3996, 'gray': 1961, 'hint': 2110, 'sky': 4013, 'sunshine': 4291, 'kurt': 2497, 'dropped': 1367, 'broken': 593, 'edward': 1424, 'pet': 3245, 'meat': 2785, 'shines': 3929, 'nation': 2966, 'girlfriend': 1908, 'episodes': 1506, '12': 3, 'reminds': 3618, 'paint': 3172, 'kitchen': 2483, 'sink': 3995, 'succeed': 4259, 'enterprise': 1493, 'qualities': 3482, 'mountains': 2915, 'trees': 4574, 'wonders': 4931, 'kim': 2473, 'laura': 2534, 'conventional': 978, 'jamie': 2377, 'loyal': 2677, 'mature': 2771, 'golden': 1932, 'brilliantly': 583, 'voiced': 4761, 'independent': 2270, 'inferior': 2283, 'pacino': 3162, 'sadly': 3766, 'visually': 4757, 'presumably': 3379, 'originality': 3127, 'watchable': 4811, 'mess': 2816, 'swimming': 4335, 'pool': 3326, 'aint': 163, 'afraid': 140, 'phony': 3255, 'lovers': 2671, 'charlotte': 765, 'marriage': 2741, 'laid': 2506, 'farce': 1652, 'sixties': 4007, 'candy': 667, 'fired': 1733, 'producers': 3415, 'filmmaker': 1717, 'davies': 1124, 'roman': 3728, 'fathers': 1665, 'homage': 2139, 'unbelievable': 4631, 'army': 294, 'troops': 4588, 'exercise': 1566, 'devoid': 1227, 'dubbed': 1376, 'mummy': 2934, 'unreal': 4673, 'scream': 3823, 'screams': 3825, 'built': 617, 'intrigued': 2332, 'pink': 3276, 'directing': 1257, 'patrick': 3212, 'promised': 3430, 'jail': 2374, 'dollar': 1311, 'christmas': 809, 'advanced': 128, 'screening': 3827, 'desperately': 1206, 'amongst': 218, 'coherent': 870, 'hed': 2070, 'genuine': 1889, 'scares': 3803, 'crowd': 1066, 'blown': 515, 'capture': 675, 'jr': 2421, 'gangster': 1866, 'pulled': 3461, '2002': 32, 'yesterday': 4983, 'lemmon': 2565, 'fortune': 1804, 'sentence': 3878, 'marvelous': 2748, 'deeper': 1153, 'joy': 2420, 'innocence': 2291, 'references': 3582, 'careful': 687, 'blah': 495, 'contrast': 974, 'crappy': 1031, 'terrific': 4407, 'howard': 2180, 'cabin': 642, '50': 51, 'rated': 3526, 'saving': 3794, 'alert': 178, 'australia': 355, 'rain': 3505, 'stones': 4194, 'size': 4008, 'causing': 725, 'cities': 822, 'defense': 1157, 'attorney': 347, 'arrested': 297, 'court': 1019, 'accused': 91, 'remain': 3607, 'spiritual': 4111, 'grandfather': 1952, 'ready': 3545, 'telling': 4394, 'ocean': 3076, 'rise': 3699, 'refuses': 3585, 'native': 2969, 'handed': 2014, 'judge': 2422, 'connection': 945, 'step': 4171, 'wave': 4817, 'guilt': 1992, 'mountain': 2914, 'gabriel': 1857, 'threatening': 4466, 'department': 1180, 'followed': 1771, 'landing': 2510, 'stolen': 4191, 'cash': 708, 'trained': 4554, 'asking': 317, 'unit': 4660, 'hall': 2007, 'arrive': 299, 'terrorists': 4412, 'heights': 2071, 'promising': 3432, 'failure': 1627, 'idiot': 2216, 'burt': 628, 'wears': 4831, 'makeup': 2715, 'thru': 4481, 'slap': 4014, 'bat': 409, 'turning': 4605, 'cheap': 773, 'drop': 1366, 'meanwhile': 2783, 'worlds': 4947, 'responsible': 3654, 'doctors': 1302, 'clichéd': 844, 'teeth': 4391, 'agreed': 156, 'physically': 3262, 'business': 632, 'mike': 2836, 'inappropriate': 2257, 'embarrassed': 1451, 'lol': 2638, 'flynn': 1763, 'extra': 1604, 'cinematographer': 818, 'editor': 1421, 'defined': 1158, 'noble': 3018, 'repeated': 3629, 'viewings': 4740, 'francis': 1816, 'leslie': 2572, 'adams': 112, 'fond': 1774, 'player': 3297, 'stevens': 4179, 'eerie': 1425, 'exotic': 1572, 'landscape': 2511, 'invisible': 2342, 'measure': 2784, 'danger': 1108, 'hidden': 2094, 'normally': 3031, 'rage': 3504, 'carry': 699, 'ourselves': 3138, 'unknown': 4665, 'deliberately': 1164, 'overlooked': 3152, 'timeless': 4494, 'crafted': 1028, 'daily': 1096, 'inspiring': 2300, 'persons': 3243, 'montana': 2892, 'delight': 1165, 'potential': 3354, 'suited': 4283, 'draw': 1346, 'blank': 500, 'endearing': 1467, 'authority': 359, 'steals': 4168, 'rocks': 3719, 'searching': 3839, 'returned': 3663, 'disappear': 1267, 'duo': 1383, 'return': 3662, 'marketing': 2739, 'executive': 1565, 'teacher': 4372, 'barbara': 396, 'festival': 1695, 'attempting': 341, 'monkeys': 2888, 'cleverly': 841, 'virus': 4751, '1996': 26, '1990': 24, 'psychiatrist': 3454, 'jeffrey': 2389, 'insane': 2294, 'solution': 4055, 'thrill': 4469, 'composed': 925, 'terry': 4413, 'shouldnt': 3949, 'flawless': 1749, 'minded': 2848, 'mighty': 2834, 'bruce': 601, 'willis': 4890, 'ideal': 2212, 'performed': 3229, 'mentioning': 2810, 'brad': 559, 'forms': 1799, 'balance': 386, 'blowing': 514, 'russian': 3759, 'weapon': 4827, 'unhappy': 4653, 'anger': 234, 'proof': 3433, 'mate': 2763, 'bigger': 478, 'wealth': 4825, 'guide': 1991, 'ran': 3512, 'sellers': 3869, 'angle': 235, 'pulls': 3463, 'unintentionally': 4656, 'destroyed': 1211, 'nuclear': 3054, 'smoking': 4036, 'notorious': 3048, 'museum': 2942, 'expensive': 1577, 'poverty': 3356, 'horrific': 2164, 'winner': 4897, 'arguably': 288, 'blame': 498, 'limited': 2604, 'clint': 849, 'harry': 2037, 'em': 1450, 'returns': 3665, 'odds': 3079, 'conflicts': 939, 'versus': 4721, 'serve': 3890, 'rights': 3694, 'brand': 564, 'jennifer': 2390, 'hunting': 2199, 'confusion': 942, 'neat': 2979, 'standing': 4142, 'president': 3377, 'african': 142, 'scrooge': 3834, 'struggling': 4232, 'largely': 2516, 'quit': 3493, 'charles': 763, 'dickens': 1237, 'relevant': 3602, 'flesh': 1751, 'category': 717, 'walking': 4778, 'alternate': 200, 'tunes': 4600, 'constantly': 957, 'resemblance': 3643, 'broad': 589, 'pop': 3329, 'develop': 1219, 'appearances': 274, 'haunted': 2048, 'karloff': 2443, 'frankenstein': 1820, 'sympathy': 4340, 'bits': 489, 'paranoia': 3185, 'et': 1524, 'precious': 3365, 'unique': 4659, 'gordon': 1938, 'treat': 4569, 'possessed': 3346, 'sat': 3783, 'junk': 2434, 'wood': 4933, 'bloody': 512, 'existent': 1570, 'inventive': 2339, 'porn': 3335, 'claimed': 828, 'roger': 3721, 'worthless': 4954, 'maintain': 2708, 'heroine': 2089, 'portrait': 3338, 'invasion': 2338, 'bugs': 612, 'frightening': 1837, 'exploration': 1591, 'aliens': 184, 'elizabeth': 1443, 'nonetheless': 3026, 'planned': 3289, 'suffering': 4274, 'reactions': 3541, 'chooses': 799, 'introduce': 2334, 'bath': 410, 'saved': 3792, 'rarely': 3523, 'actions': 101, 'fbi': 1673, 'bears': 420, 'subplot': 4252, 'dreary': 1353, 'interview': 2327, 'detail': 1214, 'troubled': 4590, 'vhs': 4724, 'albeit': 173, 'merit': 2814, 'whatsoever': 4860, '80': 58, 'ya': 4976, 'buildings': 615, 'merely': 2813, 'spoken': 4122, 'sinister': 3994, 'scottish': 3822, 'concerns': 933, 'accept': 80, 'position': 3344, 'thrillers': 4471, 'prisoner': 3401, 'unlikely': 4668, 'feet': 1686, 'winter': 4900, 'stays': 4165, 'sloppy': 4026, 'kick': 2458, 'kingdom': 2478, 'pseudo': 3453, 'garden': 1870, 'skip': 4012, 'competent': 916, 'buddy': 608, 'motivation': 2911, 'latter': 2526, 'method': 2822, 'uk': 4623, 'korean': 2493, 'legend': 2562, 'reporter': 3634, 'ethan': 1526, 'investigate': 2340, 'arms': 293, 'cg': 738, 'dragon': 1341, 'rules': 3751, 'aids': 161, 'drug': 1370, 'easier': 1402, 'silver': 3973, 'ordinary': 3125, 'realizing': 3554, 'shark': 3918, 'fx': 1856, 'struck': 4228, 'cutting': 1091, 'ad': 110, 'hype': 2205, 'shining': 3930, 'grace': 1948, 'regarding': 3587, 'rap': 3519, 'singers': 3990, 'foul': 1808, 'wearing': 4830, 'explore': 1592, 'houses': 2178, 'goldberg': 1931, 'ps': 3452, 'bonus': 533, 'fits': 1739, 'luckily': 2680, 'professor': 3421, 'capital': 672, 'drugs': 1371, 'movement': 2920, 'overcome': 3149, 'instant': 2303, 'rule': 3750, 'parody': 3191, 'latest': 2524, 'survivor': 4321, 'swedish': 4332, 'overwhelming': 3155, 'portray': 3339, 'beloved': 460, 'honor': 2148, 'promise': 3429, 'remarkable': 3611, 'youth': 4994, 'sports': 4126, 'educational': 1423, 'philosophy': 3253, 'achievement': 94, 'captain': 673, 'tribute': 4578, 'viewed': 4736, '3000': 43, 'fed': 1680, 'send': 3872, 'placed': 3282, 'whale': 4856, 'spoof': 4123, 'luck': 2679, 'theyll': 4442, 'freedom': 1826, 'college': 874, 'prisoners': 3402, 'appreciated': 279, 'sutherland': 4330, 'fill': 1712, 'accepted': 82, 'chasing': 771, 'buffs': 611, 'mail': 2704, 'ridden': 3688, 'alright': 198, 'ensues': 1491, 'sheer': 3922, 'voices': 4762, 'nonsensical': 3028, 'highest': 2100, 'issue': 2362, 'wishes': 4906, 'intentionally': 2318, 'renting': 3627, 'belongs': 459, 'shelf': 3923, 'dust': 1385, 'band': 390, 'mile': 2840, 'punishment': 3466, 'moronic': 2904, 'ashley': 312, 'formulaic': 1801, 'charisma': 761, 'fish': 1736, 'loser': 2653, 'chilling': 793, 'cinematic': 817, 'seed': 3853, 'devils': 1226, 'riding': 3692, 'ties': 4488, 'cannibal': 668, 'devil': 1225, 'hunter': 2197, 'model': 2878, 'isolated': 2361, 'faster': 1660, 'vietnam': 4734, 'generations': 1882, 'spanish': 4087, 'jesus': 2397, 'franco': 1818, 'banned': 394, 'turkey': 4601, 'removed': 3622, 'slightest': 4024, 'excitement': 1560, 'improve': 2252, 'bottom': 550, 'attached': 335, 'randomly': 3514, 'jungle': 2432, 'handful': 2015, 'unpleasant': 4671, 'fatal': 1662, 'st': 4133, 'phantom': 3250, 'valuable': 4706, 'wendy': 4845, 'rob': 3707, 'gift': 1904, 'families': 1642, 'technique': 4381, 'disjointed': 1284, 'disaster': 1273, 'orson': 3129, 'welles': 4843, 'opposed': 3119, 'demons': 1176, 'exposed': 1596, 'performing': 3232, 'piano': 3263, 'possibilities': 3347, 'devoted': 1228, 'borrowed': 544, 'reminded': 3617, 'purchased': 3469, 'castle': 711, 'bucks': 605, 'purchase': 3468, 'experiments': 1582, 'fights': 1708, 'miserable': 2861, 'arrival': 298, 'enjoys': 1487, 'canadian': 666, 'junior': 2433, 'tortured': 4528, 'unseen': 4675, 'angry': 237, 'suffer': 4272, 'torture': 4527, 'closing': 858, 'firstly': 1735, 'education': 1422, 'lone': 2640, 'adventures': 131, 'considerable': 949, 'miles': 2841, 'square': 4132, 'consider': 948, 'talents': 4353, 'saturday': 3789, '20th': 38, 'sitcom': 4000, 'hal': 2004, 'rabbit': 3497, 'jaw': 2382, 'stereotypical': 4176, 'todays': 4507, 'shirley': 3933, 'stinker': 4187, 'dvds': 1389, 'inept': 2279, 'smoke': 4035, 'arm': 291, 'water': 4815, 'target': 4363, 'wars': 4803, 'specifically': 4095, 'advance': 127, 'porno': 3336, 'attend': 343, 'bullets': 620, 'perform': 3226, 'competition': 917, 'guessed': 1988, 'gothic': 1943, 'gary': 1871, 'gain': 1861, 'lucas': 2678, 'mysteries': 2951, 'bleak': 502, 'screens': 3829, '1984': 23, 'hammer': 2012, 'novels': 3050, 'messages': 2818, 'richardson': 3685, 'raymond': 3533, 'bbc': 416, 'spy': 4131, 'perfection': 3224, 'rick': 3686, 'jonathan': 2415, 'nicholas': 3007, 'hundred': 2193, 'eddie': 1413, 'tony': 4519, 'rush': 3756, 'morning': 2903, 'props': 3438, 'chest': 783, 'courage': 1017, 'exists': 1571, 'lake': 2507, 'beating': 424, 'baseball': 402, 'depression': 1186, 'occasional': 3071, 'likewise': 2601, 'everyones': 1541, 'harsh': 2038, 'literature': 2621, 'juvenile': 2439, 'colorful': 877, 'construction': 959, 'shirt': 3934, 'month': 2893, 'pal': 3176, 'pamela': 3178, 'recognized': 3569, 'narration': 2962, 'move': 2918, 'toward': 4537, 'rocket': 3718, 'unfolds': 4648, 'hitting': 2124, 'factor': 1620, 'ryan': 3762, '2nd': 41, 'ward': 4792, 'chicago': 784, 'dinosaurs': 1253, 'headed': 2056, 'stiff': 4183, 'hundreds': 2194, 'closest': 856, 'japanese': 2380, 'travels': 4566, 'pre': 3364, 'hopper': 2159, 'desperation': 1207, 'mall': 2718, 'distance': 1291, 'harris': 2036, 'represents': 3637, 'directorial': 1262, 'worry': 4950, 'location': 2633, 'stranger': 4209, 'activities': 102, 'sidney': 3964, 'ruined': 3748, 'deaf': 1133, 'panic': 3180, 'documentaries': 1303, 'toilet': 4510, 'newly': 3001, 'waitress': 4772, 'werewolf': 4849, 'threat': 4465, 'task': 4365, 'prince': 3395, 'believing': 456, 'plenty': 3306, 'breasts': 571, 'everywhere': 1543, 'lights': 2595, 'bright': 580, 'transformation': 4557, 'graphics': 1957, 'splatter': 4113, 'bodies': 525, 'dentist': 1178, 'handle': 2016, 'affect': 136, 'wilson': 4891, 'differences': 1244, 'encounter': 1464, 'brando': 565, 'uneven': 4646, 'thirty': 4454, 'presentation': 3374, 'flying': 1762, 'possibility': 3348, 'load': 2629, 'holmes': 2137, 'investigation': 2341, 'sleeping': 4021, 'cliche': 842, 'fisher': 1737, 'guts': 1997, 'lazy': 2541, 'alex': 179, 'properly': 3436, 'crisis': 1059, 'variety': 4712, 'businessman': 633, 'nations': 2968, 'june': 2431, 'tour': 4536, 'berlin': 466, 'civil': 825, 'behavior': 445, 'card': 680, 'nonsense': 3027, 'nancy': 2961, 'emma': 1455, 'ned': 2983, 'hopeless': 2156, 'sunday': 4290, 'warning': 4799, 'edie': 1417, 'beach': 418, 'wondered': 4927, 'artists': 308, 'tracks': 4543, 'figures': 1711, 'letters': 2580, 'amy': 222, 'cruel': 1069, 'soft': 4047, 'per': 3222, 'hopefully': 2155, 'susan': 4323, 'blatant': 501, 'neo': 2995, 'protagonists': 3441, 'limits': 2605, 'pair': 3175, 'shoes': 3938, 'useless': 4693, 'wins': 4899, 'favor': 1668, 'passionate': 3205, 'morality': 2900, 'traveling': 4565, 'resist': 3646, 'demands': 1173, 'eat': 1408, 'briefly': 579, 'outcome': 3140, 'distracting': 1294, 'displays': 1290, 'blues': 518, 'listening': 2618, 'private': 3403, 'topic': 4524, 'mere': 2812, 'aid': 160, 'championship': 744, 'boxing': 555, 'contest': 966, 'matches': 2762, 'provide': 3447, 'intended': 2313, 'miscast': 2860, 'anyways': 261, 'canada': 665, 'desert': 1195, 'cynical': 1092, 'painting': 3174, 'supposedly': 4304, 'chased': 769, 'clothing': 860, 'nick': 3009, 'engage': 1477, 'discovered': 1277, 'rex': 3680, 'johnson': 2409, 'unpredictable': 4672, 'lousy': 2665, 'scarecrow': 3801, 'outfit': 3142, 'visits': 4755, 'motivations': 2912, 'reduced': 3578, 'lessons': 2576, 'teachers': 4373, 'retired': 3661, 'subplots': 4253, 'divorce': 1298, 'continued': 969, 'plight': 3307, 'styles': 4247, 'ingredients': 2287, 'wet': 4854, 'idiotic': 2217, 'africa': 141, 'dignity': 1249, 'integrity': 2309, 'eyre': 1612, 'restored': 3657, 'offensive': 3083, 'basement': 404, 'emphasis': 1461, 'unfunny': 4652, 'altogether': 202, 'lowest': 2676, 'anymore': 257, 'fate': 1663, 'mario': 2736, 'absence': 70, 'colour': 879, '1940s': 13, 'maker': 2712, 'tiresome': 4500, 'rocky': 3720, 'tall': 4359, 'sexuality': 3906, 'dialogues': 1232, 'emily': 1454, 'mass': 2751, 'served': 3891, 'showcase': 3951, 'blond': 509, 'destiny': 1209, 'average': 361, 'explored': 1593, 'condition': 936, 'creature': 1044, 'lengthy': 2568, '1960s': 15, 'outer': 3141, 'chances': 747, 'hart': 2039, 'leg': 2560, 'trek': 4575, 'ratings': 3529, 'gundam': 1995, 'suits': 4284, 'oz': 3158, 'heat': 2065, 'peace': 3218, '13': 4, 'reaching': 3538, 'tends': 4400, 'escaped': 1516, 'reynolds': 3681, 'signs': 3969, 'assigned': 324, 'beatty': 426, 'cost': 1002, 'capturing': 678, 'cars': 701, 'purple': 3472, 'opportunities': 3117, 'blows': 516, 'treatment': 4571, 'pride': 3390, 'matthew': 2770, 'julie': 2426, 'stiller': 4185, 'legs': 2564, 'horses': 2169, 'weight': 4839, 'orders': 3124, 'similarities': 3975, 'mission': 2868, 'terrorist': 4411, 'summary': 4287, 'edgy': 1416, 'rented': 3626, 'charismatic': 762, 'pursuit': 3475, 'happiness': 2029, 'tear': 4376, 'barry': 400, 'test': 4414, 'print': 3398, 'duke': 1380, 'spending': 4101, 'travesty': 4567, 'shy': 3959, 'safe': 3768, 'spirited': 4109, 'semi': 3871, 'eve': 1530, 'essentially': 1521, 'explains': 1587, 'reputation': 3638, 'national': 2967, 'extended': 1602, 'foster': 1807, 'perry': 3236, 'cinemas': 816, 'extent': 1603, 'eva': 1529, 'kinds': 2476, '1933': 12, 'celebrity': 728, 'offered': 3085, 'united': 4661, 'map': 2731, 'purposes': 3474, 'importance': 2244, 'base': 401, 'iran': 2348, '35': 45, 'farm': 1654, 'lust': 2687, 'eighties': 1435, 'wisdom': 4902, 'immensely': 2241, 'season': 3840, 'san': 3777, 'francisco': 1817, 'campbell': 662, 'cried': 1053, 'thousand': 4463, 'bargain': 399, 'compelled': 914, 'specific': 4094, 'convincingly': 985, 'thoughtful': 4461, 'voight': 4763, 'wolf': 4920, 'religion': 3605, 'stops': 4199, 'drops': 1369, 'enters': 1494, 'breath': 572, 'hey': 2093, 'oscars': 3131, 'shut': 3958, 'ignored': 2223, 'eg': 1432, 'link': 2611, 'pays': 3217, 'engaged': 1478, 'gifted': 1905, 'lesbian': 2571, 'spread': 4129, 'luke': 2685, 'rebel': 3560, 'ships': 3932, 'wounded': 4961, 'spirits': 4110, 'insulting': 2308, 'combine': 883, 'amanda': 205, 'wreck': 4965, 'bus': 630, 'encounters': 1465, 'boll': 528, 'impress': 2248, '1972': 18, '1973': 19, 'fonda': 1775, 'performers': 3231, 'treats': 4572, 'tremendous': 4576, 'sensitive': 3876, 'thanks': 4421, 'refreshing': 3584, 'represented': 3636, 'admittedly': 123, 'exploitation': 1590, 'serving': 3894, 'demon': 1175, 'punk': 3467, 'promises': 3431, 'lloyd': 2628, 'pro': 3405, 'scripts': 3833, 'notes': 3043, 'wanna': 4785, 'cure': 1080, 'von': 4764, 'button': 638, '2004': 34, 'skin': 4011, 'kennedy': 2452, 'nominated': 3022, 'overdone': 3150, 'nostalgia': 3035, 'cartoons': 704, 'prize': 3404, 'justin': 2438, 'training': 4555, 'boss': 545, 'uninspired': 4654, 'holly': 2134, 'drunk': 1372, 'busy': 634, 'generated': 1880, 'kubrick': 2494, 'appreciation': 280, 'solely': 4052, 'proceeds': 3410, 'directions': 1259, 'instance': 2302, 'suggests': 4279, 'dances': 1105, 'samurai': 3776, 'stomach': 4192, 'endure': 1473, 'bag': 383, 'brian': 575, 'mentions': 2811, 'warriors': 4802, 'japan': 2379, 'buying': 640, 'mistakes': 2871, 'edition': 1420, 'miller': 2844, 'proceedings': 3409, 'picking': 3266, 'paltrow': 3177, 'backdrop': 378, 'dawn': 1126, 'defeat': 1155, 'willie': 4888, 'ought': 3136, 'cats': 720, 'copies': 991, 'machines': 2692, 'faults': 1667, 'sandler': 3778, 'daddy': 1095, 'hire': 2114, 'craig': 1029, 'universal': 4662, 'pulling': 3462, 'spots': 4128, 'enthusiasm': 1499, 'storm': 4202, 'blair': 496, 'todd': 4508, 'relative': 3597, 'lesson': 2575, 'angles': 236, 'aimed': 162, 'unfortunate': 4650, 'hiding': 2097, 'raise': 3506, 'aunt': 354, 'cousin': 1020, 'subsequent': 4254, 'carl': 691, 'rubber': 3744, 'doll': 1310, 'homeless': 2141, 'brenda': 574, 'brutally': 603, 'simpson': 3983, 'andrews': 229, 'dropping': 1368, 'forgettable': 1792, 'vincent': 4745, 'frustrated': 1840, 'tomatoes': 4513, 'financial': 1723, 'speech': 4097, 'earned': 1398, 'retarded': 3660, 'producing': 3416, 'sun': 4289, 'ignorant': 2221, 'cia': 813, 'mitchell': 2873, 'survivors': 4322, 'pack': 3163, 'victoria': 4731, 'genres': 1887, 'urge': 4687, 'clue': 863, 'blend': 503, 'lena': 2566, 'annoyed': 247, 'relation': 3593, 'popcorn': 3330, 'sings': 3993, 'kapoor': 2441, 'mistaken': 2870, 'ridiculously': 3691, 'term': 4403, 'damage': 1098, 'concern': 930, 'cinderella': 814, 'individuals': 2276, 'chorus': 802, 'stinks': 4188, 'stewart': 4180, 'wallace': 4781, 'afternoon': 144, 'belong': 458, 'knowledge': 2489, 'obsession': 3067, 'picks': 3267, 'bands': 391, 'kudos': 2495, 'nicholson': 3008, 'valley': 4705, 'nazis': 2975, 'honesty': 2146, 'cup': 1079, 'tea': 4370, 'twins': 4613, 'criminals': 1057, 'ninja': 3015, 'hurts': 2201, 'hole': 2130, 'nail': 2954, 'identify': 2214, 'faced': 1615, 'senseless': 3875, 'walken': 4776, 'gonna': 1934, '16': 8, 'matched': 2761, 'hates': 2046, 'comfortable': 891, 'greedy': 1967, 'murderous': 2939, 'excessive': 1558, 'rough': 3738, 'steel': 4169, 'ho': 2125, 'studio': 4236, 'portion': 3337, 'betty': 473, 'jobs': 2404, 'handled': 2017, 'del': 1163, 'curse': 1085, 'priest': 3391, 'attacks': 338, 'demented': 1174, 'joey': 2406, 'misery': 2863, 'jeff': 2388, 'nose': 3034, 'cuba': 1074, 'signed': 3967, 'synopsis': 4341, 'experiences': 1580, 'false': 1639, 'shelley': 3925, 'lit': 2619, 'wrap': 4963, 'assault': 323, 'mentally': 2807, 'astaire': 329, 'ginger': 1906, 'rogers': 3722, 'recorded': 3573, 'sentimental': 3879, 'choreography': 801, 'historical': 2117, 'guarantee': 1985, 'dies': 1242, 'mst3k': 2929, 'noise': 3021, 'rangers': 3516, 'taught': 4367, 'everyday': 1539, 'fooled': 1778, 'ear': 1394, 'ruthless': 3761, 'march': 2732, 'behave': 444, 'selfish': 3867, 'stupidity': 4245, 'gene': 1877, 'chuck': 811, 'montage': 2891, 'lou': 2661, 'confidence': 937, 'opinions': 3116, 'daring': 1113, 'fitting': 1740, 'demand': 1172, 'colonel': 875, 'lay': 2540, 'poem': 3311, 'seasons': 3841, 'stargate': 4147, 'atlantis': 331, 'ludicrous': 2683, 'closet': 857, 'string': 4223, 'philosophical': 3252, 'photographer': 3258, 'laurel': 2535, 'hardy': 2035, 'stooges': 4196, 'stan': 4138, 'fields': 1703, 'oliver': 3099, '1999': 27, 'wholly': 4873, 'bold': 527, '70': 55, 'brooklyn': 594, 'pushed': 3477, 'despair': 1204, 'corrupt': 1000, 'hollow': 2133, 'displayed': 1289, 'personalities': 3240, 'cardboard': 681, 'fascinated': 1655, 'ford': 1787, 'jay': 2384, 'basketball': 408, 'dig': 1247, 'international': 2324, 'interaction': 2320, 'timing': 4496, 'maria': 2734, 'spock': 4116, 'scheme': 3809, 'kirk': 2480, 'officers': 3090, 'facing': 1618, 'progresses': 3425, 'appalling': 267, 'antics': 254, 'convoluted': 986, 'psychic': 3455, 'freak': 1822, 'protect': 3442, 'cusack': 1087, 'margaret': 2733, 'patients': 3211, 'calling': 652, 'gratuitous': 1959, 'hitchcock': 2121, 'ian': 2207, 'partly': 3196, 'dress': 1354, 'dressing': 1356, 'bin': 482, 'catherine': 718, 'fool': 1777, 'official': 3091, 'agents': 151, 'contain': 961, 'fay': 1672, 'elsewhere': 1447, 'cheating': 775, '2003': 33, 'lesser': 2574, 'prepared': 3370, 'causes': 724, 'bay': 415, 'hamilton': 2010, 'butt': 637, 'sing': 3988, 'calm': 654, 'pops': 3331, 'steal': 4166, 'hearts': 2064, 'subjects': 4251, 'bell': 457, 'catchy': 716, 'beliefs': 451, 'trapped': 4561, 'weapons': 4828, 'fifteen': 1704, 'catholic': 719, 'parallel': 3184, 'legendary': 2563, 'league': 2547, 'leonard': 2570, 'wed': 4834, 'safety': 3769, 'global': 1918, 'alike': 185, 'lyrics': 2690, 'cagney': 645, 'ruby': 3746, 'dick': 1236, 'crimes': 1055, 'womens': 4924, 'royal': 3743, 'navy': 2973, 'germany': 1896, 'widmark': 4881, 'health': 2058, 'ensemble': 1490, 'spare': 4088, 'overlook': 3151, 'brilliance': 581, 'striking': 4222, 'occurred': 3074, 'rising': 3700, 'increasingly': 2266, 'heaven': 2066, 'gags': 1860, 'comparing': 912, 'covered': 1022, 'homosexual': 2143, '2005': 35, 'officer': 3089, 'rank': 3517, 'reed': 3579, 'graphic': 1956, 'sits': 4002, 'object': 3063, 'raped': 3521, 'rooms': 3733, 'womans': 4922, 'elaborate': 1437, 'spoiled': 4118, 'primary': 3393, 'earl': 1395, 'connected': 944, 'karen': 2442, 'resembles': 3644, 'ireland': 2350, 'feed': 1681, 'mob': 2877, 'poetry': 3313, 'circle': 820, 'latin': 2525, 'che': 772, 'surviving': 4320, 'whoever': 4871, 'par': 3183, 'americas': 215, 'expressions': 1601, 'brooks': 595, 'superficial': 4295, 'olivier': 3100, 'narrator': 2964, 'wrestling': 4966, 'neighbor': 2989, 'burn': 624, 'der': 1188, 'twin': 4612, 'report': 3633, 'satan': 3784, 'irony': 2355, 'meaningful': 2779, 'amazingly': 210, 'anthony': 252, 'sadistic': 3765, 'eaten': 1409, 'snake': 4038, 'extras': 1606, 'acid': 95, 'loaded': 2630, 'unbearable': 4630, 'hitler': 2122, 'painted': 3173, 'repetitive': 3631, 'felix': 1687, 'titanic': 4501, 'resident': 3645, 'sincere': 3987, 'vivid': 4759, 'columbo': 880, 'stunt': 4242, 'enjoyment': 1486, 'focusing': 1767, 'prom': 3428, 'donna': 1320, 'snow': 4041, 'enemies': 1474, 'crack': 1026, 'tag': 4345, 'study': 4238, 'birds': 484, 'jake': 2375, 'homer': 2142, 'relate': 3591, 'robbery': 3708, 'disturbed': 1296, 'finger': 1729, 'credible': 1047, 'centers': 733, 'descent': 1190, 'teach': 4371, 'challenging': 743, 'clues': 864, 'portrays': 3343, 'staring': 4148, 'closed': 853, 'intention': 2317, 'response': 3652, 'midnight': 2832, 'manager': 2722, 'flashback': 1744, 'scope': 3818, 'bird': 483, 'kay': 2445, 'lifestyle': 2591, 'struggles': 4231, 'babe': 374, 'testament': 4415, 'depressed': 1184, 'wished': 4905, 'understandable': 4641, 'seagal': 3836, 'uwe': 4701, 'staged': 4136, 'exceptional': 1556, 'factory': 1621, 'involvement': 2345, 'abusive': 75, 'cave': 726, 'stilted': 4186, 'kelly': 2450, 'philip': 3251, 'hamlet': 2011, 'itll': 2367, 'north': 3033, 'arrogant': 302, 'ruth': 3760, 'endings': 1470, 'dolph': 1314, 'christ': 806, 'masters': 2759, 'kidding': 2463, 'priceless': 3389, 'constructed': 958, 'domestic': 1315, 'theory': 4435, 'norman': 3032, 'clown': 861, 'maggie': 2700, 'kidnapped': 2464, 'shoots': 3941, 'photos': 3260, 'trap': 4560, 'occurs': 3075, 'vague': 4703, 'stress': 4216, 'namely': 2959, 'complaint': 919, 'sport': 4125, 'inducing': 2277, 'celluloid': 730, 'vast': 4714, 'airplane': 166, 'lincoln': 2606, 'holy': 2138, 'expressed': 1599, 'corruption': 1001, 'hatred': 2047, 'airport': 167, 'charge': 760, 'revolutionary': 3678, 'floating': 1756, 'dubbing': 1377, 'ruins': 3749, 'contrary': 973, 'millions': 2846, 'hunters': 2198, 'mafia': 2698, 'domino': 1316, 'operation': 3114, 'abilities': 64, 'adorable': 124, 'othello': 3132, 'rendition': 3623, 'flies': 1754, 'timothy': 4497, 'dalton': 1097, 'rochester': 3716, 'metal': 2821, 'complexity': 923, 'cheated': 774, 'conspiracy': 955, 'godfather': 1925, 'gandhi': 1864, 'chaplin': 755, 'sounding': 4079, 'brosnan': 596, 'annie': 246, 'shorts': 3945, 'hollywoods': 2136, 'command': 896, 'ranks': 3518, 'hoped': 2154, 'threw': 4468, 'bobby': 524, 'involve': 2343, 'chess': 782, 'dynamic': 1391, 'loosely': 2649, 'blade': 494, 'concert': 934, 'sum': 4286, 'fighter': 1706, 'doors': 1326, 'tech': 4378, 'description': 1194, 'witnesses': 4916, 'creativity': 1041, 'countryside': 1014, 'shake': 3911, 'eastwood': 1406, 'user': 4694, 'musicals': 2945, 'bank': 393, 'recording': 3574, 'keaton': 2446, 'yelling': 4980, 'feminist': 1693, 'khan': 2457, 'join': 2410, 'shine': 3928, 'streisand': 4214, 'weakest': 4824, 'commit': 903, 'hank': 2022, 'caliber': 648, 'commented': 899, 'corpse': 998, 'carrey': 695, 'modesty': 2881, 'explaining': 1586, 'dialogs': 1230, 'pearl': 3219, 'visible': 4752, 'mickey': 2829, 'couples': 1016, 'muslim': 2946, 'mistress': 2872, 'discuss': 1280, 'fulci': 1843, 'iron': 2352, 'brains': 562, 'areas': 286, 'pot': 3353, 'exposure': 1597, 'robbins': 3709, 'abysmal': 76, 'masses': 2753, 'photo': 3256, 'grows': 1983, 'diana': 1234, 'armed': 292, 'andy': 230, 'lumet': 2686, 'preview': 3385, 'letter': 2579, 'brady': 560, 'pushing': 3478, 'disneys': 1287, 'dinosaur': 1252, 'nuts': 3061, 'glorious': 1919, 'tonight': 4517, 'burning': 626, 'lily': 2603, 'pig': 3273, 'burned': 625, 'consistently': 953, 'riveting': 3705, 'credibility': 1046, 'meaningless': 2780, 'frustration': 1841, 'sin': 3984, 'discovery': 1279, 'tooth': 4522, 'georges': 1892, 'tiger': 4489, 'inevitably': 2281, 'mel': 2794, 'argument': 290, 'offended': 3082, 'resources': 3649, 'trade': 4545, 'bumbling': 621, 'jessica': 2396, 'stated': 4157, 'jenny': 2391, 'yellow': 4981, 'gangsters': 1867, 'resort': 3648, 'irrelevant': 2356, 'conservative': 947, 'females': 1692, 'kicked': 2459, 'gotta': 1944, 'abc': 63, 'chicks': 786, 'classical': 835, 'superhero': 4296, 'fury': 1853, 'unoriginal': 4670, 'winters': 4901, 'empire': 1462, 'rambo': 3510, 'ignore': 2222, 'explosions': 1595, 'escapes': 1517, 'christians': 808, 'wizard': 4919, 'mann': 2726, 'imitation': 2239, 'hardcore': 2032, 'crocodile': 1064, 'september': 3881, 'morris': 2905, 'drawing': 1347, 'blunt': 519, 'thugs': 4482, 'dating': 1119, 'branagh': 563, 'conceived': 928, 'paulie': 3214, 'counter': 1010, 'gentle': 1888, 'curtis': 1086, 'judy': 2424, 'university': 4664, 'cruise': 1070, 'carpenter': 693, 'buried': 623, 'grinch': 1973, 'ham': 2009, 'nurse': 3060, 'gradually': 1950, 'menace': 2804, 'nyc': 3062, 'scooby': 3817, 'doo': 1322, 'stanwyck': 4145, 'winds': 4895, 'hyde': 2204, 'ellen': 1444, 'amounts': 220, 'alcohol': 176, 'passes': 3202, 'rats': 3530, 'doomed': 1324, 'diane': 1235, 'assumed': 328, 'miike': 2835, 'solo': 4054, 'survived': 4319, 'mayor': 2775, 'doubts': 1330, 'album': 175, 'carradine': 694, 'sullivan': 4285, 'godzilla': 1927, 'ken': 2451, 'bang': 392, 'seeks': 3857, 'nights': 3013, 'polanski': 3320, 'elvira': 1448, 'conversations': 980, 'alfred': 181, 'improvement': 2254, 'illegal': 2227, 'peters': 3247, 'ramones': 3511, 'blob': 506, 'miracle': 2858, 'pokemon': 3319, 'falk': 1634, 'soccer': 4044, 'mildred': 2839, 'akshay': 169, 'dave': 1122, 'gadget': 1858}\n"
     ]
    }
   ],
   "source": [
    "print(str(vocabulary))"
   ]
  },
  {
   "cell_type": "markdown",
   "metadata": {},
   "source": [
    "Once you have added the endpoint name to the Lambda function, click on **Save**. Your Lambda function is now up and running. Next we need to create a way for our web app to execute the Lambda function."
   ]
  },
  {
   "cell_type": "markdown",
   "metadata": {},
   "source": [
    "### Setting up API Gateway\n",
    "\n",
    "Now that our Lambda function is set up, it is time to create a new API using API Gateway that will trigger the Lambda function we have just created.\n",
    "\n",
    "Using AWS Console, navigate to **Amazon API Gateway** and then click on **Get started**.\n",
    "\n",
    "On the next page, make sure that **New API** is selected and give the new api a name, for example, `sentiment_analysis_web_app`. Then, click on **Create API**.\n",
    "\n",
    "Now we have created an API, however it doesn't currently do anything. What we want it to do is to trigger the Lambda function that we created earlier.\n",
    "\n",
    "Select the **Actions** dropdown menu and click **Create Method**. A new blank method will be created, select its dropdown menu and select **POST**, then click on the check mark beside it.\n",
    "\n",
    "For the integration point, make sure that **Lambda Function** is selected and click on the **Use Lambda Proxy integration**. This option makes sure that the data that is sent to the API is then sent directly to the Lambda function with no processing. It also means that the return value must be a proper response object as it will also not be processed by API Gateway.\n",
    "\n",
    "Type the name of the Lambda function you created earlier into the **Lambda Function** text entry box and then click on **Save**. Click on **OK** in the pop-up box that then appears, giving permission to API Gateway to invoke the Lambda function you created.\n",
    "\n",
    "The last step in creating the API Gateway is to select the **Actions** dropdown and click on **Deploy API**. You will need to create a new Deployment stage and name it anything you like, for example `prod`.\n",
    "\n",
    "You have now successfully set up a public API to access your SageMaker model. Make sure to copy or write down the URL provided to invoke your newly created public API as this will be needed in the next step. This URL can be found at the top of the page, highlighted in blue next to the text **Invoke URL**."
   ]
  },
  {
   "cell_type": "markdown",
   "metadata": {},
   "source": [
    "## Step 7: Deploying our web app\n",
    "\n",
    "Now that we have a publicly available API, we can start using it in a web app. For our purposes, we have provided a simple static html file which can make use of the public api you created earlier.\n",
    "\n",
    "In the `website` folder there should be a file called `index.html`. Download the file to your computer and open that file up in a text editor of your choice. There should be a line which contains **\\*\\*REPLACE WITH PUBLIC API URL\\*\\***. Replace this string with the url that you wrote down in the last step and then save the file.\n",
    "\n",
    "Now, if you open `index.html` on your local computer, your browser will behave as a local web server and you can use the provided site to interact with your SageMaker model.\n",
    "\n",
    "If you'd like to go further, you can host this html file anywhere you'd like, for example using github or hosting a static site on Amazon's S3. Once you have done this you can share the link with anyone you'd like and have them play with it too!\n",
    "\n",
    "> **Important Note** In order for the web app to communicate with the SageMaker endpoint, the endpoint has to actually be deployed and running. This means that you are paying for it. Make sure that the endpoint is running when you want to use the web app but that you shut it down when you don't need it, otherwise you will end up with a surprisingly large AWS bill."
   ]
  },
  {
   "cell_type": "markdown",
   "metadata": {},
   "source": [
    "### Delete the endpoint\n",
    "\n",
    "Remember to always shut down your endpoint if you are no longer using it. You are charged for the length of time that the endpoint is running so if you forget and leave it on you could end up with an unexpectedly large bill."
   ]
  },
  {
   "cell_type": "code",
   "execution_count": 56,
   "metadata": {},
   "outputs": [],
   "source": [
    "xgb_predictor.delete_endpoint()"
   ]
  },
  {
   "cell_type": "markdown",
   "metadata": {},
   "source": [
    "## Optional: Clean up\n",
    "\n",
    "The default notebook instance on SageMaker doesn't have a lot of excess disk space available. As you continue to complete and execute notebooks you will eventually fill up this disk space, leading to errors which can be difficult to diagnose. Once you are completely finished using a notebook it is a good idea to remove the files that you created along the way. Of course, you can do this from the terminal or from the notebook hub if you would like. The cell below contains some commands to clean up the created files from within the notebook."
   ]
  },
  {
   "cell_type": "code",
   "execution_count": 57,
   "metadata": {},
   "outputs": [],
   "source": [
    "# First we will remove all of the files contained in the data_dir directory\n",
    "!rm $data_dir/*\n",
    "\n",
    "# And then we delete the directory itself\n",
    "!rmdir $data_dir\n",
    "\n",
    "# Similarly we remove the files in the cache_dir directory and the directory itself\n",
    "!rm $cache_dir/*\n",
    "!rmdir $cache_dir"
   ]
  },
  {
   "cell_type": "code",
   "execution_count": null,
   "metadata": {},
   "outputs": [],
   "source": []
  }
 ],
 "metadata": {
  "kernelspec": {
   "display_name": "Python 3",
   "language": "python",
   "name": "python3"
  },
  "language_info": {
   "codemirror_mode": {
    "name": "ipython",
    "version": 3
   },
   "file_extension": ".py",
   "mimetype": "text/x-python",
   "name": "python",
   "nbconvert_exporter": "python",
   "pygments_lexer": "ipython3",
   "version": "3.8.5"
  }
 },
 "nbformat": 4,
 "nbformat_minor": 2
}
